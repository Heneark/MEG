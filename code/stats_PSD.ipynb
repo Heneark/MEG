{
 "cells": [
  {
   "cell_type": "code",
   "execution_count": 1,
   "metadata": {
    "ExecuteTime": {
     "end_time": "2018-05-31T16:28:38.455672Z",
     "start_time": "2018-05-31T16:28:38.029386Z"
    }
   },
   "outputs": [],
   "source": [
    "import matplotlib\n",
    "matplotlib.use('Qt5Agg')\n",
    "from header import *\n",
    "from mne.stats import spatio_temporal_cluster_1samp_test, spatio_temporal_cluster_test, permutation_cluster_1samp_test, permutation_cluster_test, summarize_clusters_stc\n",
    "from scipy.stats.distributions import f,t\n",
    "from tqdm import tqdm\n",
    "import xarray as xr\n",
    "#warnings.filterwarnings(\"ignore\",category=DeprecationWarning)"
   ]
  },
  {
   "cell_type": "code",
   "execution_count": 2,
   "metadata": {
    "ExecuteTime": {
     "end_time": "2018-05-31T16:28:49.581843Z",
     "start_time": "2018-05-31T16:28:49.549387Z"
    }
   },
   "outputs": [],
   "source": [
    "t0 = time.perf_counter()\n",
    "task = 'SMEG' #'MIMOSA'\n",
    "states = ['RS','FA','OM']\n",
    "subjects = get_subjlist(task)#, include_all=True)\n",
    "\n",
    "no_blk2 = ['002', '004', '007', '016']\n",
    "no_mri = ['019', '021']\n",
    "reject = ['002', '004', '010', '011']\n",
    "for sub in no_mri + reject:\n",
    "    if sub in subjects:\n",
    "        subjects.remove(sub)\n",
    "\n",
    "subjects.sort()\n",
    "experts = []\n",
    "novices = []\n",
    "experts_i = []\n",
    "novices_i = []\n",
    "for s,sub in enumerate(subjects):\n",
    "    if expertise(sub) == 'N':\n",
    "        novices.append(sub)\n",
    "        novices_i.append(s)\n",
    "    if expertise(sub) == 'E':\n",
    "        experts.append(sub)\n",
    "        experts_i.append(s)"
   ]
  },
  {
   "cell_type": "code",
   "execution_count": 3,
   "metadata": {},
   "outputs": [
    {
     "name": "stdout",
     "output_type": "stream",
     "text": [
      "<xarray.DataArray (state: 5, subject: 55, freq: 2049, chan: 275)>\n",
      "array([[[[1.520515e-06, ..., 8.324049e-07],\n",
      "         ...,\n",
      "         [7.038912e-11, ..., 5.819002e-11]],\n",
      "\n",
      "        ...,\n",
      "\n",
      "        [[1.743167e-06, ..., 5.782697e-07],\n",
      "         ...,\n",
      "         [4.646666e-11, ..., 5.195834e-11]]],\n",
      "\n",
      "\n",
      "       ...,\n",
      "\n",
      "\n",
      "       [[[         nan, ...,          nan],\n",
      "         ...,\n",
      "         [         nan, ...,          nan]],\n",
      "\n",
      "        ...,\n",
      "\n",
      "        [[7.007803e-07, ..., 3.977057e-07],\n",
      "         ...,\n",
      "         [7.731861e-11, ..., 7.051495e-11]]]])\n",
      "Coordinates:\n",
      "  * subject  (subject) object '007' '012' '014' '016' '018' '028' '030' ...\n",
      "  * state    (state) object 'RS1' 'FA1' 'FA2' 'OM1' 'OM2'\n",
      "  * chan     (chan) object 'MLC11' 'MLC12' 'MLC13' 'MLC14' 'MLC15' 'MLC16' ...\n",
      "  * freq     (freq) float64 0.0 0.1465 0.293 0.4395 0.5859 0.7324 0.8789 ...\n"
     ]
    }
   ],
   "source": [
    "PSD = xr.open_dataarray(op.join(Analysis_path, task, 'meg', 'Alpha', 'PSD.nc'))\n",
    "PSD.load()\n",
    "PSD = PSD.transpose('state', 'subject', 'freq', 'chan')\n",
    "PSD_norm = PSD/PSD.sum(['freq', 'chan'])\n",
    "print(PSD_norm)"
   ]
  },
  {
   "cell_type": "code",
   "execution_count": 4,
   "metadata": {},
   "outputs": [
    {
     "name": "stdout",
     "output_type": "stream",
     "text": [
      "<xarray.DataArray (state: 3, subject: 55, freq: 2049, chan: 275)>\n",
      "array([[[[1.520515e-06, ..., 8.324049e-07],\n",
      "         ...,\n",
      "         [7.038912e-11, ..., 5.819002e-11]],\n",
      "\n",
      "        ...,\n",
      "\n",
      "        [[1.743167e-06, ..., 5.782697e-07],\n",
      "         ...,\n",
      "         [4.646666e-11, ..., 5.195834e-11]]],\n",
      "\n",
      "\n",
      "       ...,\n",
      "\n",
      "\n",
      "       [[[9.130033e-07, ..., 1.135848e-06],\n",
      "         ...,\n",
      "         [1.008259e-10, ..., 7.461664e-11]],\n",
      "\n",
      "        ...,\n",
      "\n",
      "        [[7.469942e-07, ..., 4.607345e-07],\n",
      "         ...,\n",
      "         [7.579208e-11, ..., 6.598015e-11]]]])\n",
      "Coordinates:\n",
      "  * subject  (subject) object '007' '012' '014' '016' '018' '028' '030' ...\n",
      "  * freq     (freq) float64 0.0 0.1465 0.293 0.4395 0.5859 0.7324 0.8789 ...\n",
      "  * chan     (chan) object 'MLC11' 'MLC12' 'MLC13' 'MLC14' 'MLC15' 'MLC16' ...\n",
      "  * state    (state) <U2 'RS' 'FA' 'OM'\n"
     ]
    }
   ],
   "source": [
    "PSD_ave = np.empty((len(states), *PSD.shape[1:]))\n",
    "for s,state in enumerate(states):\n",
    "    PSD_ave[s] = PSD_norm.loc[fnmatch.filter(PSD_norm.state.values, state+'*')].mean('state').values\n",
    "coords = {dim: PSD_norm.coords[dim].values for dim in PSD_norm.dims}\n",
    "coords.update({'state': states})\n",
    "PSD_ave = xr.DataArray(PSD_ave, dims=PSD_norm.dims, coords=coords)\n",
    "print(PSD_ave)"
   ]
  },
  {
   "cell_type": "code",
   "execution_count": 14,
   "metadata": {},
   "outputs": [],
   "source": [
    "def sensor_perm_test(X1, X2, stat_file, test_key, freqs, sensors, mode='a', p_threshold=0.01, connectivity=None, paired=False, fif_significance=0.05):\n",
    "    \"\"\"\n",
    "    If paired, test X1-X2.\n",
    "    A summary Evoked of the stats is saved if there is a significant cluster (p-value < fif_significance).\n",
    "    (Time is replaced by freqs.)\n",
    "    Saving can be forced by setting fif_significance to 1, or disabled by setting it to 0.\n",
    "    Input: arrays of shape (subjects, freq, space)\n",
    "    \"\"\"\n",
    "    os.makedirs(op.dirname(stat_file), exist_ok=True)\n",
    "    evoked_file = op.splitext(stat_file)[0] + '_' + test_key + '_stat-ave.fif'\n",
    "    \n",
    "    if not isinstance(X2, (np.ndarray, xr.DataArray, list)):\n",
    "        X2 = np.zeros(X1.shape)\n",
    "    \n",
    "    if paired:\n",
    "        X = X1 - X2\n",
    "        t_threshold = -t.ppf(p_threshold / 2, X.shape[0] - 1)\n",
    "        T_obs, clusters, cluster_pv, H0 = clu_all = spatio_temporal_cluster_1samp_test(X, connectivity=connectivity, threshold=t_threshold, n_jobs=4)\n",
    "    else:\n",
    "        f_threshold = f.ppf(1 - p_threshold / 2, X1.shape[0] - 1, X2.shape[0] - 1)\n",
    "        T_obs, clusters, cluster_pv, H0 = clu_all = spatio_temporal_cluster_test([X1,X2], connectivity=connectivity, threshold=f_threshold, n_jobs=4)\n",
    "    \n",
    "    p_val = np.ones_like(T_obs)\n",
    "    clu_inds = np.zeros_like(T_obs)\n",
    "    \n",
    "    info_file = op.join(Analysis_path, 'MEG', 'meta', 'mag-info.fif')\n",
    "    if op.isfile(info_file):\n",
    "        info = mne.io.read_info(info_file)\n",
    "        info['sfreq'] = 1 / (freqs[1] - freqs[0])\n",
    "    else:\n",
    "        info = mne.create_info(sensors, 1 / (freqs[1] - freqs[0]))\n",
    "    \n",
    "    evokeds = []\n",
    "    for c,clu in enumerate(clusters):\n",
    "        p_val[clu] = cluster_pv[c]\n",
    "        clu_inds[clu] = c+1\n",
    "        if np.any(cluster_pv[c] <= fif_significance):\n",
    "            data = np.full_like(T_obs, 0)#np.nan)\n",
    "            data[clu] = T_obs[clu]\n",
    "            #mne.write_evokeds(evoked_file, mne.EvokedArray(data.T, info, freqs[0], 'cluster_{}'.format(c+1)))\n",
    "            evokeds.append(mne.EvokedArray(data.T, info, freqs[0], 'cluster_{}'.format(c+1)))\n",
    "    \n",
    "    if np.any(p_val <= fif_significance):\n",
    "        evokeds.append(mne.EvokedArray(np.where(p_val <= fif_significance, T_obs, 0).T, info, freqs[0], 'all_clusters'))\n",
    "        mne.write_evokeds(evoked_file, evokeds)\n",
    "    \n",
    "    stats = xr.DataArray(np.zeros((3, *T_obs.shape)), dims=['data', 'freq', 'sensor'], coords={'data':['T_stat', 'p_val', 'clu_inds'], 'freq':freqs, 'sensor':sensors})\n",
    "    stats.loc['T_stat'] = T_obs\n",
    "    stats.loc['p_val'] = p_val\n",
    "    stats.loc['clu_inds'] = clu_inds\n",
    "    \n",
    "    stats.to_netcdf(path=stat_file, group=test_key, mode=mode if op.isfile(stat_file) else 'w')\n",
    "    return clu_all"
   ]
  },
  {
   "cell_type": "code",
   "execution_count": 15,
   "metadata": {},
   "outputs": [],
   "source": [
    "fmin = 3 #PSD_norm.freq.values[0]\n",
    "fmax = 45 #PSD_norm.freq.values[-1]\n",
    "stat_path = op.join(Analysis_path, task, 'meg', 'Stats', 'PSD')\n",
    "os.makedirs(stat_path, exist_ok=True)\n",
    "stat_file = op.join(stat_path, '{}-{}Hz.nc'.format(fmin, fmax))\n",
    "paired_tests = {'RS_vs_FA':('RS', 'FA', subjects), 'RS_vs_OM':('RS', 'OM', subjects),\n",
    "         'OM_vs_FA':('OM', 'FA', subjects), 'RS_vs_FA+E':('RS', 'FA', experts),\n",
    "         'RS_vs_OM+E':('RS', 'OM', experts), 'OM_vs_FA+E':('OM', 'FA', experts),\n",
    "         'RS_vs_FA+N':('RS', 'FA', novices), 'RS_vs_OM+N':('RS', 'OM', novices),\n",
    "         'OM_vs_FA+N':('OM', 'FA', novices)}\n",
    "clu = dict()"
   ]
  },
  {
   "cell_type": "code",
   "execution_count": 16,
   "metadata": {},
   "outputs": [
    {
     "name": "stdout",
     "output_type": "stream",
     "text": [
      "OM_vs_FA\n",
      "stat_fun(H1): min=-4.039363 max=4.240101\n",
      "Running initial clustering\n",
      "Found 370 clusters\n",
      "Permuting 1023 times...\n",
      "[........................................................... ] 99.22%  |   "
     ]
    },
    {
     "name": "stderr",
     "output_type": "stream",
     "text": [
      "[Parallel(n_jobs=4)]: Done   2 out of   4 | elapsed:   22.8s remaining:   22.8s\n"
     ]
    },
    {
     "name": "stdout",
     "output_type": "stream",
     "text": [
      "Computing cluster p-values\n",
      "Done.\n",
      "Isotrak not found\n"
     ]
    },
    {
     "name": "stderr",
     "output_type": "stream",
     "text": [
      "[Parallel(n_jobs=4)]: Done   4 out of   4 | elapsed:   23.8s remaining:    0.0s\n",
      "[Parallel(n_jobs=4)]: Done   4 out of   4 | elapsed:   23.8s finished\n"
     ]
    },
    {
     "name": "stdout",
     "output_type": "stream",
     "text": [
      "RS_vs_FA+N\n",
      "stat_fun(H1): min=-5.949462 max=6.240852\n",
      "Running initial clustering\n",
      "Found 1968 clusters\n",
      "Permuting 1023 times...\n",
      "[....................................................        ] 86.82%  \\   "
     ]
    },
    {
     "name": "stderr",
     "output_type": "stream",
     "text": [
      "[Parallel(n_jobs=4)]: Done   2 out of   4 | elapsed:   16.9s remaining:   16.9s\n"
     ]
    },
    {
     "name": "stdout",
     "output_type": "stream",
     "text": [
      "[........................................................... ] 99.22%  |   Computing cluster p-values\n"
     ]
    },
    {
     "name": "stderr",
     "output_type": "stream",
     "text": [
      "[Parallel(n_jobs=4)]: Done   4 out of   4 | elapsed:   17.3s remaining:    0.0s\n",
      "[Parallel(n_jobs=4)]: Done   4 out of   4 | elapsed:   17.3s finished\n"
     ]
    },
    {
     "name": "stdout",
     "output_type": "stream",
     "text": [
      "Done.\n",
      "Isotrak not found\n",
      "RS_vs_FA\n",
      "stat_fun(H1): min=-6.317864 max=6.428724\n",
      "Running initial clustering\n",
      "Found 1751 clusters\n",
      "Permuting 1023 times...\n",
      "[....................................................        ] 86.82%  \\   "
     ]
    },
    {
     "name": "stderr",
     "output_type": "stream",
     "text": [
      "[Parallel(n_jobs=4)]: Done   2 out of   4 | elapsed:   21.2s remaining:   21.2s\n"
     ]
    },
    {
     "name": "stdout",
     "output_type": "stream",
     "text": [
      "[........................................................... ] 99.22%  |   Computing cluster p-values\n"
     ]
    },
    {
     "name": "stderr",
     "output_type": "stream",
     "text": [
      "[Parallel(n_jobs=4)]: Done   4 out of   4 | elapsed:   22.2s remaining:    0.0s\n",
      "[Parallel(n_jobs=4)]: Done   4 out of   4 | elapsed:   22.2s finished\n"
     ]
    },
    {
     "name": "stdout",
     "output_type": "stream",
     "text": [
      "Done.\n",
      "Isotrak not found\n",
      "RS_vs_OM+E\n",
      "stat_fun(H1): min=-6.102058 max=6.604395\n",
      "Running initial clustering\n",
      "Found 1733 clusters\n",
      "Permuting 1023 times...\n",
      "[....................................................        ] 86.82%  \\   "
     ]
    },
    {
     "name": "stderr",
     "output_type": "stream",
     "text": [
      "[Parallel(n_jobs=4)]: Done   2 out of   4 | elapsed:   15.5s remaining:   15.5s\n"
     ]
    },
    {
     "name": "stdout",
     "output_type": "stream",
     "text": [
      "[........................................................... ] 99.22%  |   "
     ]
    },
    {
     "name": "stderr",
     "output_type": "stream",
     "text": [
      "[Parallel(n_jobs=4)]: Done   4 out of   4 | elapsed:   16.0s remaining:    0.0s\n",
      "[Parallel(n_jobs=4)]: Done   4 out of   4 | elapsed:   16.0s finished\n"
     ]
    },
    {
     "name": "stdout",
     "output_type": "stream",
     "text": [
      "Computing cluster p-values\n",
      "Done.\n",
      "Isotrak not found\n",
      "OM_vs_FA+E\n",
      "stat_fun(H1): min=-5.098516 max=4.330124\n",
      "Running initial clustering\n",
      "Found 247 clusters\n",
      "Permuting 1023 times...\n",
      "[....................................................        ] 86.82%  \\   "
     ]
    },
    {
     "name": "stderr",
     "output_type": "stream",
     "text": [
      "[Parallel(n_jobs=4)]: Done   2 out of   4 | elapsed:   16.0s remaining:   16.0s\n"
     ]
    },
    {
     "name": "stdout",
     "output_type": "stream",
     "text": [
      "[........................................................... ] 99.22%  |   Computing cluster p-values\n",
      "Done.\n",
      "Isotrak not found\n"
     ]
    },
    {
     "name": "stderr",
     "output_type": "stream",
     "text": [
      "[Parallel(n_jobs=4)]: Done   4 out of   4 | elapsed:   16.7s remaining:    0.0s\n",
      "[Parallel(n_jobs=4)]: Done   4 out of   4 | elapsed:   16.7s finished\n"
     ]
    },
    {
     "name": "stdout",
     "output_type": "stream",
     "text": [
      "OM_vs_FA+N\n",
      "stat_fun(H1): min=-4.454789 max=3.820508\n",
      "Running initial clustering\n",
      "Found 192 clusters\n",
      "Permuting 1023 times...\n",
      "[........................................................... ] 99.22%  |   "
     ]
    },
    {
     "name": "stderr",
     "output_type": "stream",
     "text": [
      "[Parallel(n_jobs=4)]: Done   2 out of   4 | elapsed:   17.5s remaining:   17.5s\n"
     ]
    },
    {
     "name": "stdout",
     "output_type": "stream",
     "text": [
      "Computing cluster p-values\n",
      "Done.\n"
     ]
    },
    {
     "name": "stderr",
     "output_type": "stream",
     "text": [
      "[Parallel(n_jobs=4)]: Done   4 out of   4 | elapsed:   18.6s remaining:    0.0s\n",
      "[Parallel(n_jobs=4)]: Done   4 out of   4 | elapsed:   18.6s finished\n"
     ]
    },
    {
     "name": "stdout",
     "output_type": "stream",
     "text": [
      "Isotrak not found\n",
      "RS_vs_OM\n",
      "stat_fun(H1): min=-6.762470 max=7.542230\n",
      "Running initial clustering\n",
      "Found 1484 clusters\n",
      "Permuting 1023 times...\n",
      "[....................................................        ] 87.84%  \\   "
     ]
    },
    {
     "name": "stderr",
     "output_type": "stream",
     "text": [
      "[Parallel(n_jobs=4)]: Done   2 out of   4 | elapsed:   20.2s remaining:   20.2s\n"
     ]
    },
    {
     "name": "stdout",
     "output_type": "stream",
     "text": [
      "[........................................................... ] 99.22%  |   "
     ]
    },
    {
     "name": "stderr",
     "output_type": "stream",
     "text": [
      "[Parallel(n_jobs=4)]: Done   4 out of   4 | elapsed:   21.8s remaining:    0.0s\n",
      "[Parallel(n_jobs=4)]: Done   4 out of   4 | elapsed:   21.8s finished\n"
     ]
    },
    {
     "name": "stdout",
     "output_type": "stream",
     "text": [
      "Computing cluster p-values\n",
      "Done.\n",
      "Isotrak not found\n",
      "RS_vs_OM+N\n",
      "stat_fun(H1): min=-6.539066 max=7.260325\n",
      "Running initial clustering\n",
      "Found 2022 clusters\n",
      "Permuting 1023 times...\n",
      "[....................................................        ] 87.84%  \\   "
     ]
    },
    {
     "name": "stderr",
     "output_type": "stream",
     "text": [
      "[Parallel(n_jobs=4)]: Done   2 out of   4 | elapsed:   16.6s remaining:   16.6s\n"
     ]
    },
    {
     "name": "stdout",
     "output_type": "stream",
     "text": [
      "[........................................................... ] 99.22%  |   Computing cluster p-values\n"
     ]
    },
    {
     "name": "stderr",
     "output_type": "stream",
     "text": [
      "[Parallel(n_jobs=4)]: Done   4 out of   4 | elapsed:   17.7s remaining:    0.0s\n",
      "[Parallel(n_jobs=4)]: Done   4 out of   4 | elapsed:   17.7s finished\n"
     ]
    },
    {
     "name": "stdout",
     "output_type": "stream",
     "text": [
      "Done.\n",
      "Isotrak not found\n",
      "RS_vs_FA+E\n",
      "stat_fun(H1): min=-6.254659 max=7.159777\n",
      "Running initial clustering\n",
      "Found 1846 clusters\n",
      "Permuting 1023 times...\n",
      "[........................................................... ] 99.22%  |   "
     ]
    },
    {
     "name": "stderr",
     "output_type": "stream",
     "text": [
      "[Parallel(n_jobs=4)]: Done   2 out of   4 | elapsed:   15.9s remaining:   15.9s\n"
     ]
    },
    {
     "name": "stdout",
     "output_type": "stream",
     "text": [
      "Computing cluster p-values\n"
     ]
    },
    {
     "name": "stderr",
     "output_type": "stream",
     "text": [
      "[Parallel(n_jobs=4)]: Done   4 out of   4 | elapsed:   16.8s remaining:    0.0s\n",
      "[Parallel(n_jobs=4)]: Done   4 out of   4 | elapsed:   16.8s finished\n"
     ]
    },
    {
     "name": "stdout",
     "output_type": "stream",
     "text": [
      "Done.\n",
      "Isotrak not found\n"
     ]
    }
   ],
   "source": [
    "for key,val in paired_tests.items():\n",
    "    logger.info(key)\n",
    "    clu[key] = sensor_perm_test(PSD_ave.loc[val[0],val[2],fmin:fmax].values, PSD_ave.loc[val[1],val[2],fmin:fmax].values, stat_file=stat_file, test_key=key, freqs=PSD_ave.loc[:,:,fmin:fmax].freq.values, sensors=PSD_ave.chan.values.tolist(), paired=True)"
   ]
  },
  {
   "cell_type": "code",
   "execution_count": null,
   "metadata": {},
   "outputs": [],
   "source": []
  }
 ],
 "metadata": {
  "kernelspec": {
   "display_name": "Python 3",
   "language": "python",
   "name": "python3"
  },
  "language_info": {
   "codemirror_mode": {
    "name": "ipython",
    "version": 3
   },
   "file_extension": ".py",
   "mimetype": "text/x-python",
   "name": "python",
   "nbconvert_exporter": "python",
   "pygments_lexer": "ipython3",
   "version": "3.5.2"
  },
  "toc": {
   "base_numbering": 1,
   "nav_menu": {},
   "number_sections": true,
   "sideBar": true,
   "skip_h1_title": false,
   "title_cell": "Table of Contents",
   "title_sidebar": "Contents",
   "toc_cell": false,
   "toc_position": {},
   "toc_section_display": true,
   "toc_window_display": false
  }
 },
 "nbformat": 4,
 "nbformat_minor": 2
}
