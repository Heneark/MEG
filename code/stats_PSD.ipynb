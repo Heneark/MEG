{
 "cells": [
  {
   "cell_type": "code",
   "execution_count": 1,
   "metadata": {
    "ExecuteTime": {
     "end_time": "2018-05-31T16:28:38.455672Z",
     "start_time": "2018-05-31T16:28:38.029386Z"
    }
   },
   "outputs": [
    {
     "name": "stderr",
     "output_type": "stream",
     "text": [
      "C:\\Users\\adorb\\WinPython-64bit-3.6.3.0Qt5\\python-3.6.3.amd64\\lib\\site-packages\\h5py\\__init__.py:36: FutureWarning: Conversion of the second argument of issubdtype from `float` to `np.floating` is deprecated. In future, it will be treated as `np.float64 == np.dtype(float).type`.\n",
      "  from ._conv import register_converters as _register_converters\n"
     ]
    }
   ],
   "source": [
    "import matplotlib\n",
    "matplotlib.use('Qt5Agg')\n",
    "from header import *\n",
    "from mne.stats import spatio_temporal_cluster_1samp_test, spatio_temporal_cluster_test, permutation_cluster_1samp_test, permutation_cluster_test, summarize_clusters_stc\n",
    "from scipy.stats.distributions import f,t\n",
    "from tqdm import tqdm\n",
    "import xarray as xr\n",
    "#warnings.filterwarnings(\"ignore\",category=DeprecationWarning)"
   ]
  },
  {
   "cell_type": "code",
   "execution_count": 2,
   "metadata": {
    "ExecuteTime": {
     "end_time": "2018-05-31T16:28:49.581843Z",
     "start_time": "2018-05-31T16:28:49.549387Z"
    }
   },
   "outputs": [],
   "source": [
    "t0 = time.perf_counter()\n",
    "task = 'SMEG' #'MIMOSA'\n",
    "states = ['RS','FA','OM']\n",
    "subjects = get_subjlist(task)#, include_all=True)\n",
    "\n",
    "no_blk2 = ['002', '004', '007', '016']\n",
    "no_mri = ['019', '021']\n",
    "reject = ['002', '004', '010', '011']\n",
    "for sub in no_mri + reject:\n",
    "    if sub in subjects:\n",
    "        subjects.remove(sub)\n",
    "\n",
    "subjects.sort()\n",
    "experts = []\n",
    "novices = []\n",
    "experts_i = []\n",
    "novices_i = []\n",
    "for s,sub in enumerate(subjects):\n",
    "    if expertise(sub) == 'N':\n",
    "        novices.append(sub)\n",
    "        novices_i.append(s)\n",
    "    if expertise(sub) == 'E':\n",
    "        experts.append(sub)\n",
    "        experts_i.append(s)\n",
    "\n",
    "clu = dict()"
   ]
  },
  {
   "cell_type": "code",
   "execution_count": 3,
   "metadata": {},
   "outputs": [
    {
     "name": "stdout",
     "output_type": "stream",
     "text": [
      "<xarray.DataArray (state: 5, subject: 55, freq: 2049, chan: 275)>\n",
      "array([[[[1.520515e-06, ..., 8.324049e-07],\n",
      "         ...,\n",
      "         [7.038912e-11, ..., 5.819002e-11]],\n",
      "\n",
      "        ...,\n",
      "\n",
      "        [[1.743167e-06, ..., 5.782697e-07],\n",
      "         ...,\n",
      "         [4.646666e-11, ..., 5.195834e-11]]],\n",
      "\n",
      "\n",
      "       ...,\n",
      "\n",
      "\n",
      "       [[[         nan, ...,          nan],\n",
      "         ...,\n",
      "         [         nan, ...,          nan]],\n",
      "\n",
      "        ...,\n",
      "\n",
      "        [[7.007803e-07, ..., 3.977057e-07],\n",
      "         ...,\n",
      "         [7.731861e-11, ..., 7.051495e-11]]]])\n",
      "Coordinates:\n",
      "  * subject  (subject) object '007' '012' '014' '016' ... '105' '108' '109'\n",
      "  * state    (state) object 'RS1' 'FA1' 'FA2' 'OM1' 'OM2'\n",
      "  * chan     (chan) object 'MLC11' 'MLC12' 'MLC13' ... 'MZO02' 'MZO03' 'MZP01'\n",
      "  * freq     (freq) float64 0.0 0.1465 0.293 0.4395 ... 299.6 299.7 299.9 300.0\n"
     ]
    }
   ],
   "source": [
    "PSD = xr.open_dataarray(op.join(Analysis_path, task, 'meg', 'Alpha', 'PSD.nc'))\n",
    "PSD.load()\n",
    "PSD = PSD.transpose('state', 'subject', 'freq', 'chan')\n",
    "PSD_norm = PSD/PSD.sum(['freq', 'chan'])\n",
    "print(PSD_norm)"
   ]
  },
  {
   "cell_type": "code",
   "execution_count": 4,
   "metadata": {},
   "outputs": [
    {
     "name": "stdout",
     "output_type": "stream",
     "text": [
      "<xarray.DataArray (state: 3, subject: 55, freq: 2049, chan: 275)>\n",
      "array([[[[1.520515e-06, ..., 8.324049e-07],\n",
      "         ...,\n",
      "         [7.038912e-11, ..., 5.819002e-11]],\n",
      "\n",
      "        ...,\n",
      "\n",
      "        [[1.743167e-06, ..., 5.782697e-07],\n",
      "         ...,\n",
      "         [4.646666e-11, ..., 5.195834e-11]]],\n",
      "\n",
      "\n",
      "       ...,\n",
      "\n",
      "\n",
      "       [[[9.130033e-07, ..., 1.135848e-06],\n",
      "         ...,\n",
      "         [1.008259e-10, ..., 7.461664e-11]],\n",
      "\n",
      "        ...,\n",
      "\n",
      "        [[7.469942e-07, ..., 4.607345e-07],\n",
      "         ...,\n",
      "         [7.579208e-11, ..., 6.598015e-11]]]])\n",
      "Coordinates:\n",
      "  * state    (state) <U2 'RS' 'FA' 'OM'\n",
      "  * subject  (subject) object '007' '012' '014' '016' ... '105' '108' '109'\n",
      "  * freq     (freq) float64 0.0 0.1465 0.293 0.4395 ... 299.6 299.7 299.9 300.0\n",
      "  * chan     (chan) object 'MLC11' 'MLC12' 'MLC13' ... 'MZO02' 'MZO03' 'MZP01'\n"
     ]
    }
   ],
   "source": [
    "PSD_ave = np.empty((len(states), *PSD.shape[1:]))\n",
    "for s,state in enumerate(states):\n",
    "    PSD_ave[s] = PSD_norm.loc[fnmatch.filter(PSD_norm.state.values, state+'*')].mean('state').values\n",
    "coords = {dim: PSD_norm.coords[dim].values for dim in PSD_norm.dims}\n",
    "coords.update({'state': states})\n",
    "PSD_ave = xr.DataArray(PSD_ave, dims=PSD_norm.dims, coords=coords)\n",
    "print(PSD_ave)"
   ]
  },
  {
   "cell_type": "code",
   "execution_count": 34,
   "metadata": {},
   "outputs": [],
   "source": [
    "data = PSD_ave.loc[['RS', 'FA'], :, 9:9.1, fnmatch.filter(PSD_ave.chan.values, 'M*O*')].mean('chan')"
   ]
  },
  {
   "cell_type": "code",
   "execution_count": 40,
   "metadata": {},
   "outputs": [
    {
     "data": {
      "text/plain": [
       "<xarray.DataArray 'freq' (freq: 2049)>\n",
       "array([0.000000e+00, 1.464844e-01, 2.929688e-01, ..., 2.997070e+02,\n",
       "       2.998535e+02, 3.000000e+02])\n",
       "Coordinates:\n",
       "  * freq     (freq) float64 0.0 0.1465 0.293 0.4395 ... 299.6 299.7 299.9 300.0"
      ]
     },
     "execution_count": 40,
     "metadata": {},
     "output_type": "execute_result"
    }
   ],
   "source": [
    "PSD_ave.freq"
   ]
  },
  {
   "cell_type": "code",
   "execution_count": 39,
   "metadata": {},
   "outputs": [],
   "source": [
    "def sensor_perm_test(X1, X2, stat_file, test_key, freqs, sensors, mode='a', p_threshold=0.01, connectivity=None, paired=False, fif_significance=0.05):\n",
    "    \"\"\"\n",
    "    If paired, test X1-X2.\n",
    "    A summary Evoked of the stats is saved if there is a significant cluster (p-value < fif_significance).\n",
    "    (Time is replaced by freqs.)\n",
    "    Saving can be forced by setting fif_significance to 1, or disabled by setting it to 0.\n",
    "    Input: arrays of shape (subjects, freq, space)\n",
    "    \"\"\"\n",
    "    os.makedirs(op.dirname(stat_file), exist_ok=True)\n",
    "    evoked_file = op.splitext(stat_file)[0] + '_' + test_key + '_stat-ave.fif'\n",
    "    \n",
    "    if not isinstance(X2, (np.ndarray, xr.DataArray, list)):\n",
    "        X2 = np.zeros(X1.shape)\n",
    "    \n",
    "    if paired:\n",
    "        X = X1 - X2\n",
    "        t_threshold = -t.ppf(p_threshold / 2, X.shape[0] - 1)\n",
    "        T_obs, clusters, cluster_pv, H0 = clu_all = spatio_temporal_cluster_1samp_test(X, connectivity=connectivity, threshold=t_threshold, n_jobs=4)\n",
    "    else:\n",
    "        f_threshold = f.ppf(1 - p_threshold / 2, X1.shape[0] - 1, X2.shape[0] - 1)\n",
    "        T_obs, clusters, cluster_pv, H0 = clu_all = spatio_temporal_cluster_test([X1,X2], connectivity=connectivity, threshold=f_threshold, n_jobs=4)\n",
    "    \n",
    "    p_val = np.ones_like(T_obs)\n",
    "    clu_inds = np.zeros_like(T_obs)\n",
    "    \n",
    "    info_file = op.join(Analysis_path, 'MEG', 'meta', 'mag-info.fif')\n",
    "    if op.isfile(info_file):\n",
    "        info = mne.io.read_info(info_file)\n",
    "        info['sfreq'] = 1 / (freqs[1] - freqs[0])\n",
    "    else:\n",
    "        info = mne.create_info(sensors, 1 / (freqs[1] - freqs[0]))\n",
    "    \n",
    "    evokeds = []\n",
    "    for c,clu in enumerate(clusters):\n",
    "        p_val[clu] = cluster_pv[c]\n",
    "        clu_inds[clu] = c+1\n",
    "        if np.any(cluster_pv[c] <= fif_significance):\n",
    "            data = np.full_like(T_obs, 0)#np.nan)\n",
    "            data[clu] = T_obs[clu]\n",
    "            #mne.write_evokeds(evoked_file, mne.EvokedArray(data.T, info, freqs[0], 'cluster_{}'.format(c+1)))\n",
    "            evokeds.append(mne.EvokedArray(data.T, info, freqs[0], 'cluster_{}'.format(c+1)))\n",
    "    \n",
    "    if np.any(p_val <= fif_significance):\n",
    "        evokeds.append(mne.EvokedArray(np.where(p_val <= fif_significance, T_obs, 0).T, info, freqs[0], 'all_clusters'))\n",
    "        mne.write_evokeds(evoked_file, evokeds)\n",
    "    \n",
    "    stats = xr.DataArray(np.zeros((3, *T_obs.shape)), dims=['data', 'freq', 'sensor'], coords={'data':['T_stat', 'p_val', 'clu_inds'], 'freq':freqs, 'sensor':sensors})\n",
    "    stats.loc['T_stat'] = T_obs\n",
    "    stats.loc['p_val'] = p_val\n",
    "    stats.loc['clu_inds'] = clu_inds\n",
    "    \n",
    "    stats.to_netcdf(path=stat_file, group=test_key, mode=mode if op.isfile(stat_file) else 'w')\n",
    "    return clu_all"
   ]
  },
  {
   "cell_type": "markdown",
   "metadata": {},
   "source": [
    "# States"
   ]
  },
  {
   "cell_type": "code",
   "execution_count": 16,
   "metadata": {},
   "outputs": [],
   "source": [
    "fmin = 3 #PSD_norm.freq.values[0]\n",
    "fmax = 45 #PSD_norm.freq.values[-1]\n",
    "stat_path = op.join(Analysis_path, task, 'meg', 'Stats', 'PSD')\n",
    "os.makedirs(stat_path, exist_ok=True)\n",
    "stat_file = op.join(stat_path, '{}-{}Hz.nc'.format(fmin, fmax))\n",
    "paired_tests = {'RS_vs_FA':('RS', 'FA', subjects), 'RS_vs_OM':('RS', 'OM', subjects)}#,\n",
    "#         'OM_vs_FA':('OM', 'FA', subjects), 'RS_vs_FA+E':('RS', 'FA', experts),\n",
    "#         'RS_vs_OM+E':('RS', 'OM', experts), 'OM_vs_FA+E':('OM', 'FA', experts),\n",
    "#         'RS_vs_FA+N':('RS', 'FA', novices), 'RS_vs_OM+N':('RS', 'OM', novices),\n",
    "#         'OM_vs_FA+N':('OM', 'FA', novices)}"
   ]
  },
  {
   "cell_type": "code",
   "execution_count": 17,
   "metadata": {},
   "outputs": [
    {
     "name": "stdout",
     "output_type": "stream",
     "text": [
      "RS_vs_FA\n"
     ]
    },
    {
     "ename": "ValueError",
     "evalue": "incompatible tail and threshold signs, got 0 and -2.6757222341106464",
     "output_type": "error",
     "traceback": [
      "\u001b[1;31m---------------------------------------------------------------------------\u001b[0m",
      "\u001b[1;31mValueError\u001b[0m                                Traceback (most recent call last)",
      "\u001b[1;32m<ipython-input-17-b9d106587de4>\u001b[0m in \u001b[0;36m<module>\u001b[1;34m()\u001b[0m\n\u001b[0;32m      1\u001b[0m \u001b[1;32mfor\u001b[0m \u001b[0mkey\u001b[0m\u001b[1;33m,\u001b[0m\u001b[0mval\u001b[0m \u001b[1;32min\u001b[0m \u001b[0mpaired_tests\u001b[0m\u001b[1;33m.\u001b[0m\u001b[0mitems\u001b[0m\u001b[1;33m(\u001b[0m\u001b[1;33m)\u001b[0m\u001b[1;33m:\u001b[0m\u001b[1;33m\u001b[0m\u001b[0m\n\u001b[0;32m      2\u001b[0m     \u001b[0mlogger\u001b[0m\u001b[1;33m.\u001b[0m\u001b[0minfo\u001b[0m\u001b[1;33m(\u001b[0m\u001b[0mkey\u001b[0m\u001b[1;33m)\u001b[0m\u001b[1;33m\u001b[0m\u001b[0m\n\u001b[1;32m----> 3\u001b[1;33m     \u001b[0mclu\u001b[0m\u001b[1;33m[\u001b[0m\u001b[0mkey\u001b[0m\u001b[1;33m]\u001b[0m \u001b[1;33m=\u001b[0m \u001b[0msensor_perm_test\u001b[0m\u001b[1;33m(\u001b[0m\u001b[0mPSD_ave\u001b[0m\u001b[1;33m.\u001b[0m\u001b[0mloc\u001b[0m\u001b[1;33m[\u001b[0m\u001b[0mval\u001b[0m\u001b[1;33m[\u001b[0m\u001b[1;36m0\u001b[0m\u001b[1;33m]\u001b[0m\u001b[1;33m,\u001b[0m\u001b[0mval\u001b[0m\u001b[1;33m[\u001b[0m\u001b[1;36m2\u001b[0m\u001b[1;33m]\u001b[0m\u001b[1;33m,\u001b[0m\u001b[0mfmin\u001b[0m\u001b[1;33m:\u001b[0m\u001b[0mfmax\u001b[0m\u001b[1;33m]\u001b[0m\u001b[1;33m.\u001b[0m\u001b[0mvalues\u001b[0m\u001b[1;33m,\u001b[0m \u001b[0mPSD_ave\u001b[0m\u001b[1;33m.\u001b[0m\u001b[0mloc\u001b[0m\u001b[1;33m[\u001b[0m\u001b[0mval\u001b[0m\u001b[1;33m[\u001b[0m\u001b[1;36m1\u001b[0m\u001b[1;33m]\u001b[0m\u001b[1;33m,\u001b[0m\u001b[0mval\u001b[0m\u001b[1;33m[\u001b[0m\u001b[1;36m2\u001b[0m\u001b[1;33m]\u001b[0m\u001b[1;33m,\u001b[0m\u001b[0mfmin\u001b[0m\u001b[1;33m:\u001b[0m\u001b[0mfmax\u001b[0m\u001b[1;33m]\u001b[0m\u001b[1;33m.\u001b[0m\u001b[0mvalues\u001b[0m\u001b[1;33m,\u001b[0m \u001b[0mstat_file\u001b[0m\u001b[1;33m=\u001b[0m\u001b[0mstat_file\u001b[0m\u001b[1;33m,\u001b[0m \u001b[0mtest_key\u001b[0m\u001b[1;33m=\u001b[0m\u001b[0mkey\u001b[0m\u001b[1;33m,\u001b[0m \u001b[0mfreqs\u001b[0m\u001b[1;33m=\u001b[0m\u001b[0mPSD_ave\u001b[0m\u001b[1;33m.\u001b[0m\u001b[0mloc\u001b[0m\u001b[1;33m[\u001b[0m\u001b[1;33m:\u001b[0m\u001b[1;33m,\u001b[0m\u001b[1;33m:\u001b[0m\u001b[1;33m,\u001b[0m\u001b[0mfmin\u001b[0m\u001b[1;33m:\u001b[0m\u001b[0mfmax\u001b[0m\u001b[1;33m]\u001b[0m\u001b[1;33m.\u001b[0m\u001b[0mfreq\u001b[0m\u001b[1;33m.\u001b[0m\u001b[0mvalues\u001b[0m\u001b[1;33m,\u001b[0m \u001b[0msensors\u001b[0m\u001b[1;33m=\u001b[0m\u001b[0mPSD_ave\u001b[0m\u001b[1;33m.\u001b[0m\u001b[0mchan\u001b[0m\u001b[1;33m.\u001b[0m\u001b[0mvalues\u001b[0m\u001b[1;33m.\u001b[0m\u001b[0mtolist\u001b[0m\u001b[1;33m(\u001b[0m\u001b[1;33m)\u001b[0m\u001b[1;33m,\u001b[0m \u001b[0mpaired\u001b[0m\u001b[1;33m=\u001b[0m\u001b[1;32mTrue\u001b[0m\u001b[1;33m)\u001b[0m\u001b[1;33m\u001b[0m\u001b[0m\n\u001b[0m",
      "\u001b[1;32m<ipython-input-15-44f19048624f>\u001b[0m in \u001b[0;36msensor_perm_test\u001b[1;34m(X1, X2, stat_file, test_key, freqs, sensors, mode, p_threshold, connectivity, paired, fif_significance)\u001b[0m\n\u001b[0;32m     16\u001b[0m         \u001b[0mX\u001b[0m \u001b[1;33m=\u001b[0m \u001b[0mX1\u001b[0m \u001b[1;33m-\u001b[0m \u001b[0mX2\u001b[0m\u001b[1;33m\u001b[0m\u001b[0m\n\u001b[0;32m     17\u001b[0m         \u001b[0mt_threshold\u001b[0m \u001b[1;33m=\u001b[0m \u001b[0mt\u001b[0m\u001b[1;33m.\u001b[0m\u001b[0mppf\u001b[0m\u001b[1;33m(\u001b[0m\u001b[0mp_threshold\u001b[0m \u001b[1;33m/\u001b[0m \u001b[1;36m2\u001b[0m\u001b[1;33m,\u001b[0m \u001b[0mX\u001b[0m\u001b[1;33m.\u001b[0m\u001b[0mshape\u001b[0m\u001b[1;33m[\u001b[0m\u001b[1;36m0\u001b[0m\u001b[1;33m]\u001b[0m \u001b[1;33m-\u001b[0m \u001b[1;36m1\u001b[0m\u001b[1;33m)\u001b[0m\u001b[1;33m\u001b[0m\u001b[0m\n\u001b[1;32m---> 18\u001b[1;33m         \u001b[0mT_obs\u001b[0m\u001b[1;33m,\u001b[0m \u001b[0mclusters\u001b[0m\u001b[1;33m,\u001b[0m \u001b[0mcluster_pv\u001b[0m\u001b[1;33m,\u001b[0m \u001b[0mH0\u001b[0m \u001b[1;33m=\u001b[0m \u001b[0mclu_all\u001b[0m \u001b[1;33m=\u001b[0m \u001b[0mspatio_temporal_cluster_1samp_test\u001b[0m\u001b[1;33m(\u001b[0m\u001b[0mX\u001b[0m\u001b[1;33m,\u001b[0m \u001b[0mconnectivity\u001b[0m\u001b[1;33m=\u001b[0m\u001b[0mconnectivity\u001b[0m\u001b[1;33m,\u001b[0m \u001b[0mthreshold\u001b[0m\u001b[1;33m=\u001b[0m\u001b[0mt_threshold\u001b[0m\u001b[1;33m,\u001b[0m \u001b[0mn_jobs\u001b[0m\u001b[1;33m=\u001b[0m\u001b[1;36m4\u001b[0m\u001b[1;33m)\u001b[0m\u001b[1;33m\u001b[0m\u001b[0m\n\u001b[0m\u001b[0;32m     19\u001b[0m     \u001b[1;32melse\u001b[0m\u001b[1;33m:\u001b[0m\u001b[1;33m\u001b[0m\u001b[0m\n\u001b[0;32m     20\u001b[0m         \u001b[0mf_threshold\u001b[0m \u001b[1;33m=\u001b[0m \u001b[0mf\u001b[0m\u001b[1;33m.\u001b[0m\u001b[0mppf\u001b[0m\u001b[1;33m(\u001b[0m\u001b[1;36m1\u001b[0m \u001b[1;33m-\u001b[0m \u001b[0mp_threshold\u001b[0m \u001b[1;33m/\u001b[0m \u001b[1;36m2\u001b[0m\u001b[1;33m,\u001b[0m \u001b[0mX1\u001b[0m\u001b[1;33m.\u001b[0m\u001b[0mshape\u001b[0m\u001b[1;33m[\u001b[0m\u001b[1;36m0\u001b[0m\u001b[1;33m]\u001b[0m \u001b[1;33m-\u001b[0m \u001b[1;36m1\u001b[0m\u001b[1;33m,\u001b[0m \u001b[0mX2\u001b[0m\u001b[1;33m.\u001b[0m\u001b[0mshape\u001b[0m\u001b[1;33m[\u001b[0m\u001b[1;36m0\u001b[0m\u001b[1;33m]\u001b[0m \u001b[1;33m-\u001b[0m \u001b[1;36m1\u001b[0m\u001b[1;33m)\u001b[0m\u001b[1;33m\u001b[0m\u001b[0m\n",
      "\u001b[1;32mC:\\Users\\adorb\\WinPython-64bit-3.6.3.0Qt5\\python-3.6.3.amd64\\lib\\site-packages\\mne\\stats\\cluster_level.py\u001b[0m in \u001b[0;36mspatio_temporal_cluster_1samp_test\u001b[1;34m(X, threshold, n_permutations, tail, stat_fun, connectivity, n_jobs, seed, max_step, spatial_exclude, step_down_p, t_power, out_type, check_disjoint, buffer_size, verbose)\u001b[0m\n",
      "\u001b[1;32mC:\\Users\\adorb\\WinPython-64bit-3.6.3.0Qt5\\python-3.6.3.amd64\\lib\\site-packages\\mne\\utils.py\u001b[0m in \u001b[0;36mverbose\u001b[1;34m(function, *args, **kwargs)\u001b[0m\n\u001b[0;32m    950\u001b[0m         \u001b[1;32mwith\u001b[0m \u001b[0muse_log_level\u001b[0m\u001b[1;33m(\u001b[0m\u001b[0mverbose_level\u001b[0m\u001b[1;33m)\u001b[0m\u001b[1;33m:\u001b[0m\u001b[1;33m\u001b[0m\u001b[0m\n\u001b[0;32m    951\u001b[0m             \u001b[1;32mreturn\u001b[0m \u001b[0mfunction\u001b[0m\u001b[1;33m(\u001b[0m\u001b[1;33m*\u001b[0m\u001b[0margs\u001b[0m\u001b[1;33m,\u001b[0m \u001b[1;33m**\u001b[0m\u001b[0mkwargs\u001b[0m\u001b[1;33m)\u001b[0m\u001b[1;33m\u001b[0m\u001b[0m\n\u001b[1;32m--> 952\u001b[1;33m     \u001b[1;32mreturn\u001b[0m \u001b[0mfunction\u001b[0m\u001b[1;33m(\u001b[0m\u001b[1;33m*\u001b[0m\u001b[0margs\u001b[0m\u001b[1;33m,\u001b[0m \u001b[1;33m**\u001b[0m\u001b[0mkwargs\u001b[0m\u001b[1;33m)\u001b[0m\u001b[1;33m\u001b[0m\u001b[0m\n\u001b[0m\u001b[0;32m    953\u001b[0m \u001b[1;33m\u001b[0m\u001b[0m\n\u001b[0;32m    954\u001b[0m \u001b[1;33m\u001b[0m\u001b[0m\n",
      "\u001b[1;32mC:\\Users\\adorb\\WinPython-64bit-3.6.3.0Qt5\\python-3.6.3.amd64\\lib\\site-packages\\mne\\stats\\cluster_level.py\u001b[0m in \u001b[0;36mspatio_temporal_cluster_1samp_test\u001b[1;34m(X, threshold, n_permutations, tail, stat_fun, connectivity, n_jobs, seed, max_step, spatial_exclude, step_down_p, t_power, out_type, check_disjoint, buffer_size, verbose)\u001b[0m\n\u001b[0;32m   1329\u001b[0m         \u001b[0mn_jobs\u001b[0m\u001b[1;33m=\u001b[0m\u001b[0mn_jobs\u001b[0m\u001b[1;33m,\u001b[0m \u001b[0mseed\u001b[0m\u001b[1;33m=\u001b[0m\u001b[0mseed\u001b[0m\u001b[1;33m,\u001b[0m \u001b[0mmax_step\u001b[0m\u001b[1;33m=\u001b[0m\u001b[0mmax_step\u001b[0m\u001b[1;33m,\u001b[0m \u001b[0mexclude\u001b[0m\u001b[1;33m=\u001b[0m\u001b[0mexclude\u001b[0m\u001b[1;33m,\u001b[0m\u001b[1;33m\u001b[0m\u001b[0m\n\u001b[0;32m   1330\u001b[0m         \u001b[0mstep_down_p\u001b[0m\u001b[1;33m=\u001b[0m\u001b[0mstep_down_p\u001b[0m\u001b[1;33m,\u001b[0m \u001b[0mt_power\u001b[0m\u001b[1;33m=\u001b[0m\u001b[0mt_power\u001b[0m\u001b[1;33m,\u001b[0m \u001b[0mout_type\u001b[0m\u001b[1;33m=\u001b[0m\u001b[0mout_type\u001b[0m\u001b[1;33m,\u001b[0m\u001b[1;33m\u001b[0m\u001b[0m\n\u001b[1;32m-> 1331\u001b[1;33m         check_disjoint=check_disjoint, buffer_size=buffer_size)\n\u001b[0m\u001b[0;32m   1332\u001b[0m \u001b[1;33m\u001b[0m\u001b[0m\n\u001b[0;32m   1333\u001b[0m \u001b[1;33m\u001b[0m\u001b[0m\n",
      "\u001b[1;32mC:\\Users\\adorb\\WinPython-64bit-3.6.3.0Qt5\\python-3.6.3.amd64\\lib\\site-packages\\mne\\stats\\cluster_level.py\u001b[0m in \u001b[0;36mpermutation_cluster_1samp_test\u001b[1;34m(X, threshold, n_permutations, tail, stat_fun, connectivity, verbose, n_jobs, seed, max_step, exclude, step_down_p, t_power, out_type, check_disjoint, buffer_size)\u001b[0m\n",
      "\u001b[1;32mC:\\Users\\adorb\\WinPython-64bit-3.6.3.0Qt5\\python-3.6.3.amd64\\lib\\site-packages\\mne\\utils.py\u001b[0m in \u001b[0;36mverbose\u001b[1;34m(function, *args, **kwargs)\u001b[0m\n\u001b[0;32m    950\u001b[0m         \u001b[1;32mwith\u001b[0m \u001b[0muse_log_level\u001b[0m\u001b[1;33m(\u001b[0m\u001b[0mverbose_level\u001b[0m\u001b[1;33m)\u001b[0m\u001b[1;33m:\u001b[0m\u001b[1;33m\u001b[0m\u001b[0m\n\u001b[0;32m    951\u001b[0m             \u001b[1;32mreturn\u001b[0m \u001b[0mfunction\u001b[0m\u001b[1;33m(\u001b[0m\u001b[1;33m*\u001b[0m\u001b[0margs\u001b[0m\u001b[1;33m,\u001b[0m \u001b[1;33m**\u001b[0m\u001b[0mkwargs\u001b[0m\u001b[1;33m)\u001b[0m\u001b[1;33m\u001b[0m\u001b[0m\n\u001b[1;32m--> 952\u001b[1;33m     \u001b[1;32mreturn\u001b[0m \u001b[0mfunction\u001b[0m\u001b[1;33m(\u001b[0m\u001b[1;33m*\u001b[0m\u001b[0margs\u001b[0m\u001b[1;33m,\u001b[0m \u001b[1;33m**\u001b[0m\u001b[0mkwargs\u001b[0m\u001b[1;33m)\u001b[0m\u001b[1;33m\u001b[0m\u001b[0m\n\u001b[0m\u001b[0;32m    953\u001b[0m \u001b[1;33m\u001b[0m\u001b[0m\n\u001b[0;32m    954\u001b[0m \u001b[1;33m\u001b[0m\u001b[0m\n",
      "\u001b[1;32mC:\\Users\\adorb\\WinPython-64bit-3.6.3.0Qt5\\python-3.6.3.amd64\\lib\\site-packages\\mne\\stats\\cluster_level.py\u001b[0m in \u001b[0;36mpermutation_cluster_1samp_test\u001b[1;34m(X, threshold, n_permutations, tail, stat_fun, connectivity, verbose, n_jobs, seed, max_step, exclude, step_down_p, t_power, out_type, check_disjoint, buffer_size)\u001b[0m\n\u001b[0;32m   1207\u001b[0m         \u001b[0mmax_step\u001b[0m\u001b[1;33m=\u001b[0m\u001b[0mmax_step\u001b[0m\u001b[1;33m,\u001b[0m \u001b[0mexclude\u001b[0m\u001b[1;33m=\u001b[0m\u001b[0mexclude\u001b[0m\u001b[1;33m,\u001b[0m \u001b[0mstep_down_p\u001b[0m\u001b[1;33m=\u001b[0m\u001b[0mstep_down_p\u001b[0m\u001b[1;33m,\u001b[0m\u001b[1;33m\u001b[0m\u001b[0m\n\u001b[0;32m   1208\u001b[0m         \u001b[0mt_power\u001b[0m\u001b[1;33m=\u001b[0m\u001b[0mt_power\u001b[0m\u001b[1;33m,\u001b[0m \u001b[0mout_type\u001b[0m\u001b[1;33m=\u001b[0m\u001b[0mout_type\u001b[0m\u001b[1;33m,\u001b[0m \u001b[0mcheck_disjoint\u001b[0m\u001b[1;33m=\u001b[0m\u001b[0mcheck_disjoint\u001b[0m\u001b[1;33m,\u001b[0m\u001b[1;33m\u001b[0m\u001b[0m\n\u001b[1;32m-> 1209\u001b[1;33m         buffer_size=buffer_size)\n\u001b[0m\u001b[0;32m   1210\u001b[0m \u001b[1;33m\u001b[0m\u001b[0m\n\u001b[0;32m   1211\u001b[0m \u001b[1;33m\u001b[0m\u001b[0m\n",
      "\u001b[1;32mC:\\Users\\adorb\\WinPython-64bit-3.6.3.0Qt5\\python-3.6.3.amd64\\lib\\site-packages\\mne\\stats\\cluster_level.py\u001b[0m in \u001b[0;36m_permutation_cluster_test\u001b[1;34m(X, threshold, n_permutations, tail, stat_fun, connectivity, n_jobs, seed, max_step, exclude, step_down_p, t_power, out_type, check_disjoint, buffer_size)\u001b[0m\n\u001b[0;32m    751\u001b[0m                                             tail == 0 and threshold < 0):\n\u001b[0;32m    752\u001b[0m         raise ValueError('incompatible tail and threshold signs, got %s and %s'\n\u001b[1;32m--> 753\u001b[1;33m                          % (tail, threshold))\n\u001b[0m\u001b[0;32m    754\u001b[0m \u001b[1;33m\u001b[0m\u001b[0m\n\u001b[0;32m    755\u001b[0m     \u001b[1;31m# check dimensions for each group in X (a list at this stage).\u001b[0m\u001b[1;33m\u001b[0m\u001b[1;33m\u001b[0m\u001b[0m\n",
      "\u001b[1;31mValueError\u001b[0m: incompatible tail and threshold signs, got 0 and -2.6757222341106464"
     ]
    }
   ],
   "source": [
    "for key,val in paired_tests.items():\n",
    "    logger.info(key)\n",
    "    clu[key] = sensor_perm_test(PSD_ave.loc[val[0],val[2],fmin:fmax].values, PSD_ave.loc[val[1],val[2],fmin:fmax].values, stat_file=stat_file, test_key=key, freqs=PSD_ave.loc[:,:,fmin:fmax].freq.values, sensors=PSD_ave.chan.values.tolist(), paired=True)"
   ]
  },
  {
   "cell_type": "code",
   "execution_count": 20,
   "metadata": {},
   "outputs": [
    {
     "data": {
      "text/plain": [
       "nan"
      ]
     },
     "execution_count": 20,
     "metadata": {},
     "output_type": "execute_result"
    }
   ],
   "source": [
    "t.ppf(0.01 / 2, 52 - 1)"
   ]
  },
  {
   "cell_type": "markdown",
   "metadata": {},
   "source": [
    "# Expertise"
   ]
  },
  {
   "cell_type": "code",
   "execution_count": 6,
   "metadata": {},
   "outputs": [],
   "source": [
    "fmin = 3 #PSD_norm.freq.values[0]\n",
    "fmax = 45 #PSD_norm.freq.values[-1]\n",
    "stat_path = op.join(Analysis_path, task, 'meg', 'Stats', 'PSD')\n",
    "os.makedirs(stat_path, exist_ok=True)\n",
    "stat_file = op.join(stat_path, '{}-{}Hz.nc'.format(fmin, fmax))\n",
    "exp_tests = {'N_vs_E+RS': 'RS', 'N_vs_E+FA': 'FA', 'N_vs_E+OM': 'OM'}"
   ]
  },
  {
   "cell_type": "code",
   "execution_count": 8,
   "metadata": {},
   "outputs": [
    {
     "name": "stdout",
     "output_type": "stream",
     "text": [
      "N_vs_E+RS\n",
      "stat_fun(H1): min=0.000000 max=18.148567\n",
      "Running initial clustering\n",
      "Found 1075 clusters\n",
      "Permuting 1023 times...\n",
      "[                                                            ]   0.00%  |   \n",
      "Computing cluster p-values\n",
      "Done.\n",
      "Isotrak not found\n",
      "N_vs_E+FA\n",
      "stat_fun(H1): min=0.000000 max=12.152635\n",
      "Running initial clustering\n",
      "Found 855 clusters\n",
      "Permuting 1023 times...\n",
      "[                                                            ]   0.00%  |   \n",
      "Computing cluster p-values\n",
      "Done.\n",
      "Isotrak not found\n",
      "N_vs_E+OM\n",
      "stat_fun(H1): min=0.000000 max=11.845604\n",
      "Running initial clustering\n",
      "Found 745 clusters\n",
      "Permuting 1023 times...\n",
      "[                                                            ]   0.00%  |   \n",
      "Computing cluster p-values\n",
      "Done.\n",
      "Isotrak not found\n"
     ]
    }
   ],
   "source": [
    "for key,val in exp_tests.items():\n",
    "    logger.info(key)\n",
    "    clu[key] = sensor_perm_test(PSD_ave.loc[val,novices,fmin:fmax].values, PSD_ave.loc[val,experts,fmin:fmax].values, stat_file=stat_file, test_key=key, freqs=PSD_ave.loc[:,:,fmin:fmax].freq.values, sensors=PSD_ave.chan.values.tolist(), paired=False)"
   ]
  },
  {
   "cell_type": "markdown",
   "metadata": {},
   "source": [
    "# Interaction"
   ]
  },
  {
   "cell_type": "code",
   "execution_count": 13,
   "metadata": {},
   "outputs": [],
   "source": [
    "fmin = 3 #PSD_norm.freq.values[0]\n",
    "fmax = 45 #PSD_norm.freq.values[-1]\n",
    "stat_path = op.join(Analysis_path, task, 'meg', 'Stats', 'PSD')\n",
    "os.makedirs(stat_path, exist_ok=True)\n",
    "stat_file = op.join(stat_path, '{}-{}Hz.nc'.format(fmin, fmax))\n",
    "inter_tests = {'N_vs_E+RS-OM': ('RS', 'OM'), 'N_vs_E+RS-FA': ('RS', 'FA'), 'N_vs_E+OM-FA': ('OM', 'FA')}"
   ]
  },
  {
   "cell_type": "code",
   "execution_count": 18,
   "metadata": {},
   "outputs": [
    {
     "data": {
      "text/plain": [
       "52"
      ]
     },
     "execution_count": 18,
     "metadata": {},
     "output_type": "execute_result"
    }
   ],
   "source": [
    "len(subjects)"
   ]
  },
  {
   "cell_type": "code",
   "execution_count": 14,
   "metadata": {},
   "outputs": [
    {
     "name": "stdout",
     "output_type": "stream",
     "text": [
      "N_vs_E+RS-OM\n",
      "stat_fun(H1): min=0.000000 max=24.862250\n",
      "Running initial clustering\n",
      "Found 2384 clusters\n",
      "Permuting 1023 times...\n",
      "[                                                            ]   0.00%  |   \n",
      "Computing cluster p-values\n",
      "Done.\n",
      "Isotrak not found\n",
      "N_vs_E+RS-FA\n",
      "stat_fun(H1): min=0.000000 max=23.796187\n",
      "Running initial clustering\n",
      "Found 2459 clusters\n",
      "Permuting 1023 times...\n",
      "[                                                            ]   0.00%  |   \n",
      "Computing cluster p-values\n",
      "Done.\n",
      "Isotrak not found\n",
      "N_vs_E+OM-FA\n",
      "stat_fun(H1): min=0.000000 max=13.935637\n",
      "Running initial clustering\n",
      "Found 1799 clusters\n",
      "Permuting 1023 times...\n",
      "[                                                            ]   0.00%  |   \n",
      "Computing cluster p-values\n",
      "Done.\n",
      "Isotrak not found\n"
     ]
    }
   ],
   "source": [
    "for key,val in inter_tests.items():\n",
    "    logger.info(key)\n",
    "    clu[key] = sensor_perm_test(PSD_ave.loc[val[0],novices,fmin:fmax].values - PSD_ave.loc[val[1],novices,fmin:fmax].values, PSD_ave.loc[val[0],experts,fmin:fmax].values - PSD_ave.loc[val[1],experts,fmin:fmax].values, stat_file=stat_file, test_key=key, freqs=PSD_ave.loc[:,:,fmin:fmax].freq.values, sensors=PSD_ave.chan.values.tolist(), paired=False)"
   ]
  },
  {
   "cell_type": "code",
   "execution_count": null,
   "metadata": {},
   "outputs": [],
   "source": []
  }
 ],
 "metadata": {
  "kernelspec": {
   "display_name": "Python 3",
   "language": "python",
   "name": "python3"
  },
  "language_info": {
   "codemirror_mode": {
    "name": "ipython",
    "version": 3
   },
   "file_extension": ".py",
   "mimetype": "text/x-python",
   "name": "python",
   "nbconvert_exporter": "python",
   "pygments_lexer": "ipython3",
   "version": "3.6.3"
  },
  "toc": {
   "base_numbering": 1,
   "nav_menu": {},
   "number_sections": true,
   "sideBar": true,
   "skip_h1_title": false,
   "title_cell": "Table of Contents",
   "title_sidebar": "Contents",
   "toc_cell": false,
   "toc_position": {},
   "toc_section_display": true,
   "toc_window_display": false
  }
 },
 "nbformat": 4,
 "nbformat_minor": 2
}
