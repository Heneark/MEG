{
 "cells": [
  {
   "cell_type": "code",
   "execution_count": 1,
   "metadata": {},
   "outputs": [],
   "source": [
    "import matplotlib\n",
    "matplotlib.use('Qt5Agg')#for visbrain to work in jupyterlab/notebook\n",
    "from header import *\n",
    "import visbrain\n",
    "from visbrain import Brain, Colorbar\n",
    "from visbrain.objects import BrainObj, ColorbarObj, SceneObj, SourceObj\n",
    "import xarray as xr"
   ]
  },
  {
   "cell_type": "code",
   "execution_count": 2,
   "metadata": {},
   "outputs": [],
   "source": [
    "task = 'SMEG'\n",
    "names = ['R_ECG_included', 'R_ECG_excluded', 'T_ECG_included', 'T_ECG_excluded']\n",
    "name = names[0]\n",
    "noise_cov = 'baseline_cov'\n",
    "start = 0.35\n",
    "stop = 0.5\n",
    "sfreq = 200\n",
    "path = op.join(Analysis_path, task, 'meg', 'Stats', str(start)+'_'+str(stop))\n",
    "filename = op.join(path, name+'-'+noise_cov+'.nc')\n",
    "test_key = 'RS_vs_OM+N'\n",
    "p_thresh = 0.1"
   ]
  },
  {
   "cell_type": "code",
   "execution_count": 3,
   "metadata": {},
   "outputs": [
    {
     "data": {
      "text/plain": [
       "<xarray.DataArray (data: 3, hemisphere: 2, time: 31, src: 10242)>\n",
       "array([[[[-0.667514, ..., -0.723448],\n",
       "         ..., \n",
       "         [-0.131598, ...,  0.529988]],\n",
       "\n",
       "        [[-0.737492, ..., -1.294203],\n",
       "         ..., \n",
       "         [-0.188281, ..., -0.538888]]],\n",
       "\n",
       "\n",
       "       ..., \n",
       "       [[[ 0.      , ...,  0.      ],\n",
       "         ..., \n",
       "         [ 0.      , ...,  0.      ]],\n",
       "\n",
       "        [[ 0.      , ...,  0.      ],\n",
       "         ..., \n",
       "         [ 0.      , ...,  0.      ]]]])\n",
       "Coordinates:\n",
       "  * data        (data) object 'T_stat' 'p_val' 'clu_inds'\n",
       "  * time        (time) float64 0.35 0.355 0.36 0.365 0.37 0.375 0.38 0.385 ...\n",
       "  * hemisphere  (hemisphere) object 'left' 'right'\n",
       "  * src         (src) int64 0 1 2 3 4 5 6 7 8 9 10 11 12 13 14 15 16 17 18 ..."
      ]
     },
     "execution_count": 3,
     "metadata": {},
     "output_type": "execute_result"
    }
   ],
   "source": [
    "stats = xr.open_dataarray(filename, test_key)\n",
    "stats.load()"
   ]
  },
  {
   "cell_type": "code",
   "execution_count": 4,
   "metadata": {},
   "outputs": [
    {
     "name": "stderr",
     "output_type": "stream",
     "text": [
      "C:\\Users\\adorb\\WinPython-64bit-3.6.3.0Qt5\\python-3.6.3.amd64\\lib\\site-packages\\ipykernel_launcher.py:7: UserWarning: \n",
      "No significant cluster for left hemisphere.\n",
      "\n",
      "  import sys\n"
     ]
    }
   ],
   "source": [
    "if np.where(stats.loc['p_val', 'left']<p_thresh)[0].any():\n",
    "    t_signif_lh = np.unique(np.where(stats.loc['p_val', 'left']<p_thresh)[0], return_counts=True)\n",
    "    best_t_lh = stats.time[t_signif_lh[0][t_signif_lh[1].argsort()][::-1]]\n",
    "    print(t_signif_lh)\n",
    "    print(best_t_lh)\n",
    "else:\n",
    "    warnings.warn('\\nNo significant cluster for left hemisphere.\\n')\n",
    "    best_t_lh = [None]"
   ]
  },
  {
   "cell_type": "code",
   "execution_count": 5,
   "metadata": {},
   "outputs": [
    {
     "name": "stdout",
     "output_type": "stream",
     "text": [
      "(array([10, 11], dtype=int64), array([ 13, 180], dtype=int64))\n",
      "<xarray.DataArray 'time' (time: 2)>\n",
      "array([ 0.405,  0.4  ])\n",
      "Coordinates:\n",
      "  * time     (time) float64 0.405 0.4\n"
     ]
    }
   ],
   "source": [
    "if np.where(stats.loc['p_val', 'right']<p_thresh)[0].any():\n",
    "    t_signif_rh = np.unique(np.where(stats.loc['p_val', 'right']<p_thresh)[0], return_counts=True)\n",
    "    best_t_rh = stats.time[t_signif_rh[0][t_signif_rh[1].argsort()][::-1]]\n",
    "    print(t_signif_rh)\n",
    "    print(best_t_rh)\n",
    "else:\n",
    "    warnings.warn('\\nNo significant cluster for right hemisphere.\\n')\n",
    "    best_t_rh = [None]"
   ]
  },
  {
   "cell_type": "code",
   "execution_count": 6,
   "metadata": {},
   "outputs": [
    {
     "name": "stdout",
     "output_type": "stream",
     "text": [
      "t = 0.405 s\n"
     ]
    }
   ],
   "source": [
    "t = float(best_t_rh[0] if best_t_rh[0] is not None else best_t_lh[0])\n",
    "#t = int(best_t_rh[8])\n",
    "#t = int(best_t_lh[0])\n",
    "print('t =', t, 's')\n",
    "mask_lh = np.where(stats.loc['p_val', 'left', t] < p_thresh)\n",
    "mask_rh = np.where(stats.loc['p_val', 'right', t] < p_thresh)\n",
    "lh = np.where(stats.loc['p_val', 'left', t] < p_thresh, stats.loc['T_stat', 'left', t].values, 0)\n",
    "rh = np.where(stats.loc['p_val', 'right', t] < p_thresh, stats.loc['T_stat', 'right', t].values, 0)"
   ]
  },
  {
   "cell_type": "code",
   "execution_count": 7,
   "metadata": {},
   "outputs": [],
   "source": [
    "cmax = np.max(np.abs(np.concatenate([lh, rh])))\n",
    "clim = (-cmax, cmax)"
   ]
  },
  {
   "cell_type": "code",
   "execution_count": 8,
   "metadata": {},
   "outputs": [
    {
     "name": "stderr",
     "output_type": "stream",
     "text": [
      "\u001b[1m\u001b[1;37mINFO\u001b[0m | BrainObj(name='inflated') created\n",
      "\u001b[1m\u001b[1;37mINFO\u001b[0m | Add data to secific vertices.\n",
      "\u001b[1m\u001b[1;37mINFO\u001b[0m | Add data to secific vertices.\n",
      "\u001b[1m\u001b[1;37mINFO\u001b[0m | VolumeObj(name='brodmann') created\n",
      "\u001b[1m\u001b[1;37mINFO\u001b[0m | RoiObj(name='brodmann') created\n",
      "\u001b[1m\u001b[1;37mINFO\u001b[0m | brodmann ROI loaded.\n",
      "\u001b[1m\u001b[1;37mINFO\u001b[0m | CrossSecObj(name='brodmann') created\n"
     ]
    }
   ],
   "source": [
    "b_obj = BrainObj('inflated', translucent=False, hemisphere='both')#, sulcus=True)\n",
    "\n",
    "#b_obj.add_activation(data=data_lh[t], vertices=vertices, hemisphere='left', cmap='bwr', clim=clim)\n",
    "#b_obj.add_activation(data=data_rh[t], vertices=vertices, hemisphere='right', cmap='bwr', clim=clim)\n",
    "#b_obj.add_activation(data=np.where(pv_lh[t]>=0.05, -np.inf, data_lh[t]), hide_under=clim[0], vertices=vertices, hemisphere='left', cmap='bwr', clim=clim)\n",
    "#b_obj.add_activation(data=np.where(pv_lh[t]>=0.05, -np.inf, data_rh[t]), hide_under=clim[0], vertices=vertices, hemisphere='right', cmap='bwr', clim=clim)\n",
    "b_obj.add_activation(data=lh, vertices=stats.src.values, hemisphere='left', smoothing_steps=4, cmap='bwr', clim=clim)\n",
    "b_obj.add_activation(data=rh, vertices=stats.src.values, hemisphere='right', smoothing_steps=4, cmap='bwr', clim=clim)\n",
    "\n",
    "\n",
    "vb = Brain(brain_obj=b_obj)\n",
    "#cb = Colorbar(vmin=clim[0], vmax=clim[-1], cmap='bwr', ndigits=4, cblabel='T stat')"
   ]
  },
  {
   "cell_type": "code",
   "execution_count": 9,
   "metadata": {},
   "outputs": [],
   "source": [
    "vb.show()\n",
    "vb.cbar_select('brain')\n",
    "vb.cbar_control('brain', cblabel='{} (t = {} s)'.format(test_key, t))\n",
    "vb.rotate(custom=(90, 0))\n",
    "#cb.show()\n",
    "#sc.preview()"
   ]
  },
  {
   "cell_type": "code",
   "execution_count": 10,
   "metadata": {},
   "outputs": [
    {
     "name": "stderr",
     "output_type": "stream",
     "text": [
      "\u001b[1m\u001b[1;33mWARNING\u001b[0m | dpi parameter is not active if `print_size` is None. Use for example `print_size=(5, 5)`\n",
      "\u001b[1m\u001b[1;37mINFO\u001b[0m | Image of size (1761, 1588)px successfully saved (Z:\\meditation\\ERC\\Analyses\\SMEG\\meg\\Stats\\0.35_0.5\\RS_vs_OM+N_t_0.405.png)\n"
     ]
    }
   ],
   "source": [
    "vb.screenshot(op.join(path,'{}_t_{}.png'.format(test_key, t)))"
   ]
  },
  {
   "cell_type": "code",
   "execution_count": null,
   "metadata": {},
   "outputs": [],
   "source": [
    "t_signif_rh"
   ]
  }
 ],
 "metadata": {
  "kernelspec": {
   "display_name": "Python 3",
   "language": "python",
   "name": "python3"
  },
  "language_info": {
   "codemirror_mode": {
    "name": "ipython",
    "version": 3
   },
   "file_extension": ".py",
   "mimetype": "text/x-python",
   "name": "python",
   "nbconvert_exporter": "python",
   "pygments_lexer": "ipython3",
   "version": "3.6.3"
  }
 },
 "nbformat": 4,
 "nbformat_minor": 2
}
