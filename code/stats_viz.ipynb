{
 "cells": [
  {
   "cell_type": "code",
   "execution_count": null,
   "metadata": {},
   "outputs": [],
   "source": [
    "import matplotlib\n",
    "matplotlib.use('Qt5Agg')#for visbrain to work in jupyterlab/notebook\n",
    "from header import *\n",
    "import visbrain\n",
    "from visbrain import Brain, Colorbar\n",
    "from visbrain.objects import BrainObj, ColorbarObj, SceneObj, SourceObj\n",
    "import xarray as xr"
   ]
  },
  {
   "cell_type": "code",
   "execution_count": null,
   "metadata": {},
   "outputs": [],
   "source": [
    "task = 'SMEG'\n",
    "path = op.join(Analysis_path, task, 'meg', 'Stats')\n",
    "test_key = 'N_vs_E+RS'\n",
    "sfreq = 200\n",
    "start = 0.3\n",
    "stop = 0.5\n",
    "filename = op.join(path, '*-'+test_key+'-*'+str(start)+'_'+str(stop)+'*fsaverage*')\n",
    "files = glob.glob(filename)"
   ]
  },
  {
   "cell_type": "code",
   "execution_count": null,
   "metadata": {},
   "outputs": [],
   "source": [
    "pv_lh = np.loadtxt(files[0])\n",
    "data_lh = np.loadtxt(files[1])\n",
    "\n",
    "vertices = np.arange(data_lh.shape[1])\n",
    "\n",
    "pv_rh = np.loadtxt(files[2])\n",
    "data_rh = np.loadtxt(files[3])"
   ]
  },
  {
   "cell_type": "code",
   "execution_count": null,
   "metadata": {},
   "outputs": [],
   "source": [
    "if np.where(pv_lh<0.05)[0].any():\n",
    "    t_signif_lh = np.unique(np.where(pv_lh<0.05)[0], return_counts=True)\n",
    "    best_t_lh = t_signif_lh[0][t_signif_lh[1].argsort()][::-1]\n",
    "    print(t_signif_lh)\n",
    "    print(best_t_lh)\n",
    "else:\n",
    "    warnings.warn('\\nNo significant cluster for left hemisphere.\\n')\n",
    "    best_t_lh = [None]"
   ]
  },
  {
   "cell_type": "code",
   "execution_count": null,
   "metadata": {},
   "outputs": [],
   "source": [
    "if np.where(pv_rh<0.05)[0].any():\n",
    "    t_signif_rh = np.unique(np.where(pv_rh<0.05)[0], return_counts=True)\n",
    "    best_t_rh = t_signif_rh[0][t_signif_rh[1].argsort()][::-1]\n",
    "    print(t_signif_rh)\n",
    "    print(best_t_rh)\n",
    "else:\n",
    "    warnings.warn('\\nNo significant cluster for right hemisphere.\\n')\n",
    "    best_t_rh = [None]"
   ]
  },
  {
   "cell_type": "code",
   "execution_count": null,
   "metadata": {},
   "outputs": [],
   "source": [
    "t = int((best_t_rh[0] if best_t_rh[0] is not None else best_t_lh[0]))\n",
    "#t = int(best_t_rh[8])\n",
    "#t = int(best_t_lh[0])\n",
    "print('t =', (t+start*sfreq)/sfreq)\n",
    "lh = np.where(pv_lh[t]<0.05)\n",
    "rh = np.where(pv_rh[t]<0.05)"
   ]
  },
  {
   "cell_type": "code",
   "execution_count": null,
   "metadata": {},
   "outputs": [],
   "source": [
    "cmin = np.min(np.concatenate([data_lh[t][lh], data_rh[t][rh]]))\n",
    "cmax = np.max(np.concatenate([data_lh[t][lh], data_rh[t][rh]]))\n",
    "clim = (-np.max(np.abs([cmin, cmax])), np.max(np.abs([cmin, cmax])))"
   ]
  },
  {
   "cell_type": "code",
   "execution_count": null,
   "metadata": {},
   "outputs": [],
   "source": [
    "b_obj = BrainObj('inflated', translucent=False, hemisphere='both')#, sulcus=True)\n",
    "\n",
    "#b_obj.add_activation(data=data_lh[t], vertices=vertices, hemisphere='left', cmap='bwr', clim=clim)\n",
    "#b_obj.add_activation(data=data_rh[t], vertices=vertices, hemisphere='right', cmap='bwr', clim=clim)\n",
    "#b_obj.add_activation(data=data_lh[t][lh], vertices=vertices[lh], hemisphere='left', cmap='bwr', clim=clim)\n",
    "#b_obj.add_activation(data=data_rh[t][rh], vertices=vertices[rh], hemisphere='right', cmap='bwr', clim=clim)\n",
    "#b_obj.add_activation(data=np.where(pv_lh[t]>=0.05, -np.inf, data_lh[t]), hide_under=clim[0], vertices=vertices, hemisphere='left', cmap='bwr', clim=clim)\n",
    "#b_obj.add_activation(data=np.where(pv_lh[t]>=0.05, -np.inf, data_rh[t]), hide_under=clim[0], vertices=vertices, hemisphere='right', cmap='bwr', clim=clim)\n",
    "b_obj.add_activation(data=np.where(pv_lh[t]<0.05, data_lh[t], 0), vertices=vertices, hemisphere='left', cmap='bwr', clim=clim)\n",
    "b_obj.add_activation(data=np.where(pv_rh[t]<0.05, data_lh[t], 0), vertices=vertices, hemisphere='right', cmap='bwr', clim=clim)\n",
    "\n",
    "vb = Brain(brain_obj=b_obj)\n",
    "#cb = Colorbar(vmin=clim[0], vmax=clim[-1], cmap='bwr', ndigits=4, cblabel='T stat')"
   ]
  },
  {
   "cell_type": "code",
   "execution_count": null,
   "metadata": {},
   "outputs": [],
   "source": [
    "vb.show()\n",
    "vb.cbar_select('brain')\n",
    "vb.cbar_control('brain', cblabel='{} (t = {} s)'.format(test_key, (t+start*sfreq)/sfreq))\n",
    "vb.rotate(custom=(180, -45))\n",
    "#cb.show()\n",
    "#sc.preview()"
   ]
  },
  {
   "cell_type": "code",
   "execution_count": null,
   "metadata": {},
   "outputs": [],
   "source": [
    "vb.screenshot(op.join(path,test_key+'_t_'+str((t+start*sfreq)/sfreq)+'.png'))"
   ]
  },
  {
   "cell_type": "code",
   "execution_count": null,
   "metadata": {},
   "outputs": [],
   "source": [
    "t_signif_rh"
   ]
  }
 ],
 "metadata": {
  "kernelspec": {
   "display_name": "Python 3",
   "language": "python",
   "name": "python3"
  },
  "language_info": {
   "codemirror_mode": {
    "name": "ipython",
    "version": 3
   },
   "file_extension": ".py",
   "mimetype": "text/x-python",
   "name": "python",
   "nbconvert_exporter": "python",
   "pygments_lexer": "ipython3",
   "version": "3.6.3"
  }
 },
 "nbformat": 4,
 "nbformat_minor": 2
}
