{
 "cells": [
  {
   "cell_type": "code",
   "execution_count": 1,
   "metadata": {},
   "outputs": [],
   "source": [
    "import matplotlib\n",
    "matplotlib.use('Qt5Agg')#for visbrain to work in jupyterlab/notebook\n",
    "from header import *\n",
    "import visbrain\n",
    "from visbrain import Brain, Colorbar, Signal\n",
    "from visbrain.objects import BrainObj, ColorbarObj, SceneObj, SourceObj\n",
    "import xarray as xr"
   ]
  },
  {
   "cell_type": "code",
   "execution_count": 2,
   "metadata": {},
   "outputs": [],
   "source": [
    "task = 'SMEG'\n",
    "names = ['R_ECG_included', 'R_ECG_excluded', 'T_ECG_included', 'T_ECG_excluded']\n",
    "name = names[3]\n",
    "noise_cov = 'baseline_cov'\n",
    "start = 0.1\n",
    "stop = 0.2\n",
    "surface = 'ico4'\n",
    "sfreq = 200\n",
    "path = op.join(Analysis_path, task, 'meg', 'Stats', str(start)+'_'+str(stop))\n",
    "filename = op.join(path, '{}-{}-surface_{}-{}Hz.nc'.format(name, noise_cov, surface, sfreq))\n",
    "test_key = 'HER_0.0001'\n",
    "p_thresh = 0.05"
   ]
  },
  {
   "cell_type": "code",
   "execution_count": 3,
   "metadata": {},
   "outputs": [
    {
     "data": {
      "text/plain": [
       "<xarray.DataArray (data: 3, hemisphere: 2, time: 30, src: 10242)>\n",
       "array([[[[ 7.993716, ...,  5.745473],\n",
       "         ...,\n",
       "         [10.239217, ...,  6.573741]],\n",
       "\n",
       "        [[10.370866, ...,  6.368161],\n",
       "         ...,\n",
       "         [17.312774, ...,  7.769947]]],\n",
       "\n",
       "\n",
       "       ...,\n",
       "\n",
       "\n",
       "       [[[ 1.      , ...,  1.      ],\n",
       "         ...,\n",
       "         [ 1.      , ...,  1.      ]],\n",
       "\n",
       "        [[ 3.      , ...,  3.      ],\n",
       "         ...,\n",
       "         [ 3.      , ...,  3.      ]]]])\n",
       "Coordinates:\n",
       "  * data        (data) object 'T_stat' 'p_val' 'clu_inds'\n",
       "  * time        (time) float64 0.05 0.055 0.06 0.065 0.07 0.075 0.08 0.085 ...\n",
       "  * src         (src) int64 0 1 2 3 4 5 6 7 8 9 10 11 12 13 14 15 16 17 18 ...\n",
       "  * hemisphere  (hemisphere) object 'left' 'right'"
      ]
     },
     "execution_count": 3,
     "metadata": {},
     "output_type": "execute_result"
    }
   ],
   "source": [
    "stats = xr.open_dataarray(filename, test_key)\n",
    "stats.load()"
   ]
  },
  {
   "cell_type": "markdown",
   "metadata": {},
   "source": [
    "## Order times by number of significant sources"
   ]
  },
  {
   "cell_type": "code",
   "execution_count": 6,
   "metadata": {},
   "outputs": [
    {
     "name": "stdout",
     "output_type": "stream",
     "text": [
      "(array([ 0,  1,  2,  3,  4,  5,  6,  7,  8,  9, 10, 11, 12, 13, 14, 15, 16,\n",
      "       17, 18, 19, 20, 21, 22, 23, 24, 25, 26, 27, 28, 29]), array([20471, 20460, 20465, 20460, 20455, 20458, 20468, 20457, 20478,\n",
      "       20479, 20484, 20481, 20482, 20482, 20479, 20480, 20481, 20478,\n",
      "       20482, 20481, 20484, 20482, 20482, 20482, 20479, 20483, 20483,\n",
      "       20481, 20481, 20480]))\n",
      "<xarray.DataArray 'time' (time: 30)>\n",
      "array([0.15 , 0.1  , 0.18 , 0.175, 0.155, 0.115, 0.14 , 0.11 , 0.16 , 0.165,\n",
      "       0.105, 0.145, 0.13 , 0.19 , 0.185, 0.125, 0.195, 0.095, 0.12 , 0.17 ,\n",
      "       0.135, 0.09 , 0.05 , 0.08 , 0.06 , 0.065, 0.055, 0.075, 0.085, 0.07 ])\n",
      "Coordinates:\n",
      "  * time     (time) float64 0.15 0.1 0.18 0.175 0.155 0.115 0.14 0.11 0.16 ...\n"
     ]
    }
   ],
   "source": [
    "if np.where(stats.loc['p_val']<p_thresh)[1].any():\n",
    "    t_signif = np.unique(np.where(stats.loc['p_val']<p_thresh)[1], return_counts=True)\n",
    "    best_t = stats.time[t_signif[0][t_signif[1].argsort()][::-1]]\n",
    "    print(t_signif)\n",
    "    print(best_t)\n",
    "else:\n",
    "    warnings.warn('\\nNo significant cluster.\\n')"
   ]
  },
  {
   "cell_type": "code",
   "execution_count": null,
   "metadata": {},
   "outputs": [],
   "source": [
    "t = best_t.values[3]\n",
    "mask = stats.loc['p_val', :, t].values.ravel() < p_thresh\n",
    "data = stats.loc['T_stat', :, t].values.ravel()[mask]\n",
    "vertices = np.arange((stats.src.values[-1]+1)*2, dtype=int)[mask]\n",
    "print('Significant clusters at t =', t, 's:', np.unique(stats.loc['clu_inds', :, t].values.ravel()[mask]))\n",
    "cmax = np.max(np.abs(data))\n",
    "clim = (-cmax, cmax)"
   ]
  },
  {
   "cell_type": "markdown",
   "metadata": {},
   "source": [
    "## Visbrain"
   ]
  },
  {
   "cell_type": "code",
   "execution_count": null,
   "metadata": {},
   "outputs": [],
   "source": [
    "b_obj = BrainObj('inflated', translucent=False, hemisphere='both', sulcus=True)\n",
    "b_obj.add_activation(data, vertices, hide_under=clim[0], hemisphere='both', smoothing_steps=4, cmap='bwr', clim=clim)\n",
    "vb = Brain(brain_obj=b_obj, bgcolor=None)"
   ]
  },
  {
   "cell_type": "code",
   "execution_count": null,
   "metadata": {},
   "outputs": [],
   "source": [
    "vb.cbar_select('brain')\n",
    "vb.cbar_control('brain', cblabel='{} (t = {} s)'.format(test_key, round(t, 3)), bgcolor=None)#, txtcolor='black')\n",
    "vb.rotate(custom=(225, -45))\n",
    "vb.show()\n",
    "#cb.show()\n",
    "#sc.preview()"
   ]
  },
  {
   "cell_type": "code",
   "execution_count": null,
   "metadata": {},
   "outputs": [],
   "source": [
    "vb.screenshot(op.join(path,'{}_t_{}.png'.format(test_key, t)), transparent=True)"
   ]
  },
  {
   "cell_type": "markdown",
   "metadata": {},
   "source": [
    "## Cluster analysis"
   ]
  },
  {
   "cell_type": "code",
   "execution_count": null,
   "metadata": {},
   "outputs": [],
   "source": [
    "state = 'RS'\n",
    "surface = 'ico4'\n",
    "stc_file = op.join(Analysis_path, task, 'meg', 'SourceEstimate', 'fsaverage', 'Grand_average', '{}-{}-baseline_cov-surface_{}'.format(state, name, surface))\n",
    "clusters = np.unique(stats.loc['clu_inds'].values[stats.loc['p_val'].values < p_thresh])\n",
    "clusters"
   ]
  },
  {
   "cell_type": "code",
   "execution_count": null,
   "metadata": {},
   "outputs": [],
   "source": [
    "clu = clusters[0]\n",
    "vert_clu = np.stack(np.where(stats.loc['clu_inds'].values == clu)[0::2])\n",
    "vert_clu"
   ]
  },
  {
   "cell_type": "code",
   "execution_count": null,
   "metadata": {},
   "outputs": [],
   "source": [
    "stc = mne.read_source_estimate(stc_file)\n",
    "data = stc.data.T[:,vert_clu[1]].T\n",
    "data.shape"
   ]
  },
  {
   "cell_type": "code",
   "execution_count": null,
   "metadata": {},
   "outputs": [],
   "source": [
    "#Signal(data[::10,:-1:6], sf=200, time=stats.time.values, xlabel='Time /s', ylabel='Amplitude /µV', grid_titles=['Source ' + str(k) for k in sorted(vert_clu[1])[::10]]).show()\n",
    "#Signal(data[::10,:-1:6], form='butterfly', sf=200, time=stats.time.values, xlabel='Time /s', ylabel='Amplitude /µV', grid_titles=['Source ' + str(k) for k in sorted(vert_clu[1])[::10]]).show()\n",
    "Signal(data.mean(axis=0), time=stc.times*1000, xlabel='Time /ms', ylabel='Amplitude /µV').show()"
   ]
  },
  {
   "cell_type": "markdown",
   "metadata": {},
   "source": [
    "## Visbrain one hemi at a time"
   ]
  },
  {
   "cell_type": "code",
   "execution_count": 4,
   "metadata": {},
   "outputs": [
    {
     "name": "stdout",
     "output_type": "stream",
     "text": [
      "(array([ 0,  1,  2,  3,  4,  5,  6,  7,  8,  9, 10, 11, 12, 13, 14, 15, 16,\n",
      "       17, 18, 19, 20, 21, 22, 23, 24, 25, 26, 27, 28, 29]), array([9184, 9402, 9189, 9351, 9257, 9384, 9353, 9569, 9612, 9657, 9683,\n",
      "       9793, 9832, 9875, 9874, 9897, 9867, 9904, 9923, 9936, 9923, 9885,\n",
      "       9886, 9921, 9922, 9974, 9953, 9943, 9880, 9834]))\n",
      "<xarray.DataArray 'time' (time: 30)>\n",
      "array([0.175, 0.18 , 0.185, 0.145, 0.15 , 0.14 , 0.17 , 0.165, 0.135, 0.125,\n",
      "       0.16 , 0.155, 0.19 , 0.115, 0.12 , 0.13 , 0.195, 0.11 , 0.105, 0.1  ,\n",
      "       0.095, 0.09 , 0.085, 0.055, 0.075, 0.08 , 0.065, 0.07 , 0.06 , 0.05 ])\n",
      "Coordinates:\n",
      "  * time     (time) float64 0.175 0.18 0.185 0.145 0.15 0.14 0.17 0.165 ...\n"
     ]
    }
   ],
   "source": [
    "if np.where(stats.loc['p_val', 'left']<p_thresh)[0].any():\n",
    "    t_signif_lh = np.unique(np.where(stats.loc['p_val', 'left']<p_thresh)[0], return_counts=True)\n",
    "    best_t_lh = stats.time[t_signif_lh[0][t_signif_lh[1].argsort()][::-1]]\n",
    "    print(t_signif_lh)\n",
    "    print(best_t_lh)\n",
    "else:\n",
    "    warnings.warn('\\nNo significant cluster for left hemisphere.\\n')\n",
    "    best_t_lh = [None]"
   ]
  },
  {
   "cell_type": "code",
   "execution_count": 5,
   "metadata": {},
   "outputs": [
    {
     "name": "stdout",
     "output_type": "stream",
     "text": [
      "(array([ 0,  1,  2,  3,  4,  5,  6,  7,  8,  9, 10, 11, 12, 13, 14, 15, 16,\n",
      "       17, 18, 19, 20, 21, 22, 23, 24, 25, 26, 27, 28, 29]), array([8727, 8929, 8590, 8772, 8686, 8693, 8837, 9054, 9207, 9249, 9390,\n",
      "       9499, 9546, 9554, 9552, 9565, 9582, 9590, 9626, 9659, 9638, 9627,\n",
      "       9592, 9591, 9604, 9675, 9644, 9631, 9583, 9563]))\n",
      "<xarray.DataArray 'time' (time: 30)>\n",
      "array([0.175, 0.145, 0.18 , 0.15 , 0.185, 0.155, 0.14 , 0.17 , 0.16 , 0.165,\n",
      "       0.135, 0.19 , 0.13 , 0.125, 0.195, 0.115, 0.12 , 0.11 , 0.105, 0.1  ,\n",
      "       0.095, 0.09 , 0.085, 0.055, 0.08 , 0.065, 0.05 , 0.075, 0.07 , 0.06 ])\n",
      "Coordinates:\n",
      "  * time     (time) float64 0.175 0.145 0.18 0.15 0.185 0.155 0.14 0.17 0.16 ...\n"
     ]
    }
   ],
   "source": [
    "if np.where(stats.loc['p_val', 'right']<p_thresh)[0].any():\n",
    "    t_signif_rh = np.unique(np.where(stats.loc['p_val', 'right']<p_thresh)[0], return_counts=True)\n",
    "    best_t_rh = stats.time[t_signif_rh[0][t_signif_rh[1].argsort()][::-1]]\n",
    "    print(t_signif_rh)\n",
    "    print(best_t_rh)\n",
    "else:\n",
    "    warnings.warn('\\nNo significant cluster for right hemisphere.\\n')\n",
    "    best_t_rh = [None]"
   ]
  },
  {
   "cell_type": "code",
   "execution_count": 6,
   "metadata": {},
   "outputs": [
    {
     "name": "stdout",
     "output_type": "stream",
     "text": [
      "t = 0.175 s\n"
     ]
    }
   ],
   "source": [
    "t = float(best_t_rh[0] if best_t_rh[0] is not None else best_t_lh[0])\n",
    "#t = float(best_t_rh[3])\n",
    "#t = float(best_t_lh[1])\n",
    "#t=0.07\n",
    "print('t =', t, 's')\n",
    "mask_lh = np.where(stats.loc['p_val', 'left', t] < p_thresh)\n",
    "mask_rh = np.where(stats.loc['p_val', 'right', t] < p_thresh)\n",
    "lh = np.where(stats.loc['p_val', 'left', t] < p_thresh, stats.loc['T_stat', 'left', t].values, 0)\n",
    "rh = np.where(stats.loc['p_val', 'right', t] < p_thresh, stats.loc['T_stat', 'right', t].values, 0)"
   ]
  },
  {
   "cell_type": "code",
   "execution_count": 7,
   "metadata": {},
   "outputs": [],
   "source": [
    "cmax = np.max(np.abs(np.concatenate([lh, rh])))\n",
    "clim = (-cmax, cmax)"
   ]
  },
  {
   "cell_type": "code",
   "execution_count": 8,
   "metadata": {},
   "outputs": [
    {
     "name": "stderr",
     "output_type": "stream",
     "text": [
      "\u001b[1m\u001b[1;37mINFO\u001b[0m | BrainObj(name='inflated') created\n",
      "\u001b[1m\u001b[1;37mINFO\u001b[0m | File already dowloaded (/home/benjamin.ador/.local/lib/python3.5/site-packages/visbrain/data/templates/sulcus.npy).\n",
      "\u001b[1m\u001b[1;37mINFO\u001b[0m | Add data to secific vertices.\n",
      "\u001b[1m\u001b[1;37mINFO\u001b[0m | Add data to secific vertices.\n",
      "\u001b[1m\u001b[1;37mINFO\u001b[0m | VolumeObj(name='brodmann') created\n",
      "\u001b[1m\u001b[1;37mINFO\u001b[0m | RoiObj(name='brodmann') created\n",
      "\u001b[1m\u001b[1;37mINFO\u001b[0m | brodmann ROI loaded.\n",
      "\u001b[1m\u001b[1;37mINFO\u001b[0m | CrossSecObj(name='brodmann') created\n"
     ]
    }
   ],
   "source": [
    "b_obj = BrainObj('inflated', translucent=False, hemisphere='both', sulcus=True)\n",
    "\n",
    "#b_obj.add_activation(data=np.where(stats.loc['p_val', 'left', t] < p_thresh, stats.loc['T_stat', 'left', t].values, -np.inf), hide_under=clim[0], vertices=stats.src.values, hemisphere='left', smoothing_steps=4, cmap='bwr', clim=clim)\n",
    "#b_obj.add_activation(data=np.where(stats.loc['p_val', 'right', t] < p_thresh, stats.loc['T_stat', 'right', t].values, -np.inf), hide_under=clim[0], vertices=stats.src.values, hemisphere='right', smoothing_steps=4, cmap='bwr', clim=clim)\n",
    "b_obj.add_activation(data=lh, vertices=stats.src.values, hemisphere='left', smoothing_steps=4, cmap='bwr', clim=clim)\n",
    "b_obj.add_activation(data=rh, vertices=stats.src.values, hemisphere='right', smoothing_steps=4, cmap='bwr', clim=clim)\n",
    "\n",
    "\n",
    "vb = Brain(brain_obj=b_obj)\n",
    "#cb = Colorbar(vmin=clim[0], vmax=clim[-1], cmap='bwr', ndigits=4, cblabel='T stat')"
   ]
  },
  {
   "cell_type": "code",
   "execution_count": 9,
   "metadata": {},
   "outputs": [],
   "source": [
    "vb.show()\n",
    "vb.cbar_select('brain')\n",
    "vb.cbar_control('brain', cblabel='{} (t = {} s)'.format(test_key, t))\n",
    "vb.rotate(custom=(225, -45))\n",
    "#cb.show()\n",
    "#sc.preview()"
   ]
  },
  {
   "cell_type": "code",
   "execution_count": null,
   "metadata": {},
   "outputs": [],
   "source": [
    "vb.screenshot(op.join(path,'{}_t_{}.png'.format(test_key, t)))"
   ]
  },
  {
   "cell_type": "code",
   "execution_count": null,
   "metadata": {},
   "outputs": [],
   "source": [
    "help(np.concatenate)"
   ]
  },
  {
   "cell_type": "code",
   "execution_count": null,
   "metadata": {},
   "outputs": [],
   "source": [
    "np.stack((stats.src.values, stats.src.values))"
   ]
  },
  {
   "cell_type": "code",
   "execution_count": null,
   "metadata": {},
   "outputs": [],
   "source": [
    "[d for d in data]"
   ]
  },
  {
   "cell_type": "code",
   "execution_count": null,
   "metadata": {},
   "outputs": [],
   "source": [
    "data = stats.loc['T_stat', :, t].values\n",
    "pval = stats.loc['p_val', :, t].values\n",
    "np.savetxt('T_stat_2.csv', data, delimiter=',')\n",
    "np.savetxt('p_val_2.csv', pval, delimiter=',')"
   ]
  },
  {
   "cell_type": "code",
   "execution_count": null,
   "metadata": {},
   "outputs": [],
   "source": [
    "stats.loc['p_val', :, t].values"
   ]
  },
  {
   "cell_type": "code",
   "execution_count": null,
   "metadata": {},
   "outputs": [],
   "source": [
    "(stats.src.values[-1]+1)*2"
   ]
  }
 ],
 "metadata": {
  "kernelspec": {
   "display_name": "Python 3",
   "language": "python",
   "name": "python3"
  },
  "language_info": {
   "codemirror_mode": {
    "name": "ipython",
    "version": 3
   },
   "file_extension": ".py",
   "mimetype": "text/x-python",
   "name": "python",
   "nbconvert_exporter": "python",
   "pygments_lexer": "ipython3",
   "version": "3.5.2"
  }
 },
 "nbformat": 4,
 "nbformat_minor": 2
}
