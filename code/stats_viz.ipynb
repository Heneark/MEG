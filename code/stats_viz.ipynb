{
 "cells": [
  {
   "cell_type": "code",
   "execution_count": null,
   "metadata": {},
   "outputs": [],
   "source": [
    "import matplotlib\n",
    "matplotlib.use('Qt5Agg')#for visbrain to work in jupyterlab/notebook\n",
    "from header import *\n",
    "import visbrain\n",
    "from visbrain import Brain, Colorbar, Signal\n",
    "from visbrain.objects import BrainObj, ColorbarObj, SceneObj, SourceObj\n",
    "import xarray as xr"
   ]
  },
  {
   "cell_type": "code",
   "execution_count": null,
   "metadata": {},
   "outputs": [],
   "source": [
    "task = 'SMEG'\n",
    "names = ['R_ECG_included', 'R_ECG_excluded', 'T_ECG_included', 'T_ECG_excluded']\n",
    "name = names[3]\n",
    "noise_cov = 'baseline_cov'\n",
    "start = 0.1\n",
    "stop = 0.2\n",
    "sfreq = 200\n",
    "path = op.join(Analysis_path, task, 'meg', 'Stats', str(start)+'_'+str(stop))\n",
    "filename = op.join(path, name+'-'+noise_cov+'.nc')\n",
    "test_key = 'RS_vs_OM+N'\n",
    "p_thresh = 0.05"
   ]
  },
  {
   "cell_type": "code",
   "execution_count": null,
   "metadata": {},
   "outputs": [],
   "source": [
    "stats = xr.open_dataarray(filename, test_key)\n",
    "stats.load()"
   ]
  },
  {
   "cell_type": "markdown",
   "metadata": {},
   "source": [
    "## Order times by number of significant sources"
   ]
  },
  {
   "cell_type": "code",
   "execution_count": null,
   "metadata": {},
   "outputs": [],
   "source": [
    "if np.where(stats.loc['p_val']<p_thresh)[1].any():\n",
    "    t_signif = np.unique(np.where(stats.loc['p_val']<p_thresh)[1], return_counts=True)\n",
    "    best_t = stats.time[t_signif[0][t_signif[1].argsort()][::-1]]\n",
    "    print(t_signif)\n",
    "    print(best_t)\n",
    "else:\n",
    "    warnings.warn('\\nNo significant cluster.\\n')"
   ]
  },
  {
   "cell_type": "code",
   "execution_count": null,
   "metadata": {},
   "outputs": [],
   "source": [
    "t = best_t.values[3]\n",
    "mask = stats.loc['p_val', :, t].values.ravel() < p_thresh\n",
    "data = stats.loc['T_stat', :, t].values.ravel()[mask]\n",
    "vertices = np.arange((stats.src.values[-1]+1)*2, dtype=int)[mask]\n",
    "print('Significant clusters at t =', t, 's:', np.unique(stats.loc['clu_inds', :, t].values.ravel()[mask]))\n",
    "cmax = np.max(np.abs(data))\n",
    "clim = (-cmax, cmax)"
   ]
  },
  {
   "cell_type": "markdown",
   "metadata": {},
   "source": [
    "## Visbrain"
   ]
  },
  {
   "cell_type": "code",
   "execution_count": null,
   "metadata": {},
   "outputs": [],
   "source": [
    "b_obj = BrainObj('inflated', translucent=False, hemisphere='both', sulcus=True)\n",
    "b_obj.add_activation(data, vertices, hide_under=clim[0], hemisphere='both', smoothing_steps=4, cmap='bwr', clim=clim)\n",
    "vb = Brain(brain_obj=b_obj, bgcolor=None)"
   ]
  },
  {
   "cell_type": "code",
   "execution_count": null,
   "metadata": {},
   "outputs": [],
   "source": [
    "vb.cbar_select('brain')\n",
    "vb.cbar_control('brain', cblabel='{} (t = {} s)'.format(test_key, round(t, 3)), bgcolor=None)#, txtcolor='black')\n",
    "vb.rotate(custom=(225, -45))\n",
    "vb.show()\n",
    "#cb.show()\n",
    "#sc.preview()"
   ]
  },
  {
   "cell_type": "code",
   "execution_count": null,
   "metadata": {},
   "outputs": [],
   "source": [
    "vb.screenshot(op.join(path,'{}_t_{}.png'.format(test_key, t)), transparent=True)"
   ]
  },
  {
   "cell_type": "markdown",
   "metadata": {},
   "source": [
    "## Cluster analysis"
   ]
  },
  {
   "cell_type": "code",
   "execution_count": null,
   "metadata": {},
   "outputs": [],
   "source": [
    "state = 'RS'\n",
    "surface = 'ico4'\n",
    "stc_file = op.join(Analysis_path, task, 'meg', 'SourceEstimate', 'fsaverage', 'Grand_average', '{}-{}-baseline_cov-surface_{}'.format(state, name, surface))\n",
    "clusters = np.unique(stats.loc['clu_inds'].values[stats.loc['p_val'].values < p_thresh])\n",
    "clusters"
   ]
  },
  {
   "cell_type": "code",
   "execution_count": null,
   "metadata": {},
   "outputs": [],
   "source": [
    "clu = clusters[0]\n",
    "vert_clu = np.stack(np.where(stats.loc['clu_inds'].values == clu)[0::2])\n",
    "vert_clu"
   ]
  },
  {
   "cell_type": "code",
   "execution_count": null,
   "metadata": {},
   "outputs": [],
   "source": [
    "stc = mne.read_source_estimate(stc_file)\n",
    "data = stc.data.T[:,vert_clu[1]].T\n",
    "data.shape"
   ]
  },
  {
   "cell_type": "code",
   "execution_count": null,
   "metadata": {},
   "outputs": [],
   "source": [
    "#Signal(data[::10,:-1:6], sf=200, time=stats.time.values, xlabel='Time /s', ylabel='Amplitude /µV', grid_titles=['Source ' + str(k) for k in sorted(vert_clu[1])[::10]]).show()\n",
    "#Signal(data[::10,:-1:6], form='butterfly', sf=200, time=stats.time.values, xlabel='Time /s', ylabel='Amplitude /µV', grid_titles=['Source ' + str(k) for k in sorted(vert_clu[1])[::10]]).show()\n",
    "Signal(data.mean(axis=0), time=stc.times*1000, xlabel='Time /ms', ylabel='Amplitude /µV').show()"
   ]
  },
  {
   "cell_type": "markdown",
   "metadata": {},
   "source": [
    "## Visbrain one hemi at a time"
   ]
  },
  {
   "cell_type": "code",
   "execution_count": null,
   "metadata": {},
   "outputs": [],
   "source": [
    "if np.where(stats.loc['p_val', 'left']<p_thresh)[0].any():\n",
    "    t_signif_lh = np.unique(np.where(stats.loc['p_val', 'left']<p_thresh)[0], return_counts=True)\n",
    "    best_t_lh = stats.time[t_signif_lh[0][t_signif_lh[1].argsort()][::-1]]\n",
    "    print(t_signif_lh)\n",
    "    print(best_t_lh)\n",
    "else:\n",
    "    warnings.warn('\\nNo significant cluster for left hemisphere.\\n')\n",
    "    best_t_lh = [None]"
   ]
  },
  {
   "cell_type": "code",
   "execution_count": null,
   "metadata": {},
   "outputs": [],
   "source": [
    "if np.where(stats.loc['p_val', 'right']<p_thresh)[0].any():\n",
    "    t_signif_rh = np.unique(np.where(stats.loc['p_val', 'right']<p_thresh)[0], return_counts=True)\n",
    "    best_t_rh = stats.time[t_signif_rh[0][t_signif_rh[1].argsort()][::-1]]\n",
    "    print(t_signif_rh)\n",
    "    print(best_t_rh)\n",
    "else:\n",
    "    warnings.warn('\\nNo significant cluster for right hemisphere.\\n')\n",
    "    best_t_rh = [None]"
   ]
  },
  {
   "cell_type": "code",
   "execution_count": null,
   "metadata": {},
   "outputs": [],
   "source": [
    "t = float(best_t_rh[0] if best_t_rh[0] is not None else best_t_lh[0])\n",
    "#t = float(best_t_rh[3])\n",
    "#t = float(best_t_lh[1])\n",
    "#t=0.07\n",
    "print('t =', t, 's')\n",
    "mask_lh = np.where(stats.loc['p_val', 'left', t] < p_thresh)\n",
    "mask_rh = np.where(stats.loc['p_val', 'right', t] < p_thresh)\n",
    "lh = np.where(stats.loc['p_val', 'left', t] < p_thresh, stats.loc['T_stat', 'left', t].values, 0)\n",
    "rh = np.where(stats.loc['p_val', 'right', t] < p_thresh, stats.loc['T_stat', 'right', t].values, 0)"
   ]
  },
  {
   "cell_type": "code",
   "execution_count": null,
   "metadata": {},
   "outputs": [],
   "source": [
    "cmax = np.max(np.abs(np.concatenate([lh, rh])))\n",
    "clim = (-cmax, cmax)"
   ]
  },
  {
   "cell_type": "code",
   "execution_count": null,
   "metadata": {},
   "outputs": [],
   "source": [
    "b_obj = BrainObj('inflated', translucent=False, hemisphere='both', sulcus=True)\n",
    "\n",
    "#b_obj.add_activation(data=np.where(stats.loc['p_val', 'left', t] < p_thresh, stats.loc['T_stat', 'left', t].values, -np.inf), hide_under=clim[0], vertices=stats.src.values, hemisphere='left', smoothing_steps=4, cmap='bwr', clim=clim)\n",
    "#b_obj.add_activation(data=np.where(stats.loc['p_val', 'right', t] < p_thresh, stats.loc['T_stat', 'right', t].values, -np.inf), hide_under=clim[0], vertices=stats.src.values, hemisphere='right', smoothing_steps=4, cmap='bwr', clim=clim)\n",
    "b_obj.add_activation(data=lh, vertices=stats.src.values, hemisphere='left', smoothing_steps=4, cmap='bwr', clim=clim)\n",
    "b_obj.add_activation(data=rh, vertices=stats.src.values, hemisphere='right', smoothing_steps=4, cmap='bwr', clim=clim)\n",
    "\n",
    "\n",
    "vb = Brain(brain_obj=b_obj)\n",
    "#cb = Colorbar(vmin=clim[0], vmax=clim[-1], cmap='bwr', ndigits=4, cblabel='T stat')"
   ]
  },
  {
   "cell_type": "code",
   "execution_count": null,
   "metadata": {},
   "outputs": [],
   "source": [
    "vb.show()\n",
    "vb.cbar_select('brain')\n",
    "vb.cbar_control('brain', cblabel='{} (t = {} s)'.format(test_key, t))\n",
    "vb.rotate(custom=(225, -45))\n",
    "#cb.show()\n",
    "#sc.preview()"
   ]
  },
  {
   "cell_type": "code",
   "execution_count": null,
   "metadata": {},
   "outputs": [],
   "source": [
    "vb.screenshot(op.join(path,'{}_t_{}.png'.format(test_key, t)))"
   ]
  },
  {
   "cell_type": "code",
   "execution_count": null,
   "metadata": {},
   "outputs": [],
   "source": [
    "help(np.concatenate)"
   ]
  },
  {
   "cell_type": "code",
   "execution_count": null,
   "metadata": {},
   "outputs": [],
   "source": [
    "np.stack((stats.src.values, stats.src.values))"
   ]
  },
  {
   "cell_type": "code",
   "execution_count": null,
   "metadata": {},
   "outputs": [],
   "source": [
    "[d for d in data]"
   ]
  },
  {
   "cell_type": "code",
   "execution_count": null,
   "metadata": {},
   "outputs": [],
   "source": [
    "data = stats.loc['T_stat', :, t].values\n",
    "pval = stats.loc['p_val', :, t].values\n",
    "np.savetxt('T_stat_2.csv', data, delimiter=',')\n",
    "np.savetxt('p_val_2.csv', pval, delimiter=',')"
   ]
  },
  {
   "cell_type": "code",
   "execution_count": null,
   "metadata": {},
   "outputs": [],
   "source": [
    "stats.loc['p_val', :, t].values"
   ]
  },
  {
   "cell_type": "code",
   "execution_count": null,
   "metadata": {},
   "outputs": [],
   "source": [
    "(stats.src.values[-1]+1)*2"
   ]
  }
 ],
 "metadata": {
  "kernelspec": {
   "display_name": "Python 3",
   "language": "python",
   "name": "python3"
  },
  "language_info": {
   "codemirror_mode": {
    "name": "ipython",
    "version": 3
   },
   "file_extension": ".py",
   "mimetype": "text/x-python",
   "name": "python",
   "nbconvert_exporter": "python",
   "pygments_lexer": "ipython3",
   "version": "3.6.3"
  }
 },
 "nbformat": 4,
 "nbformat_minor": 2
}
