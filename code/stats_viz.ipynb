{
 "cells": [
  {
   "cell_type": "code",
   "execution_count": null,
   "metadata": {},
   "outputs": [],
   "source": [
    "import matplotlib\n",
    "matplotlib.use('Qt5Agg')#for visbrain to work in jupyterlab/notebook\n",
    "from header import *\n",
    "import visbrain\n",
    "from visbrain import Brain, Colorbar\n",
    "from visbrain.objects import BrainObj, ColorbarObj, SceneObj, SourceObj\n",
    "import xarray as xr"
   ]
  },
  {
   "cell_type": "code",
   "execution_count": null,
   "metadata": {},
   "outputs": [],
   "source": [
    "task = 'SMEG'\n",
    "names = ['R_ECG_included', 'R_ECG_excluded', 'T_ECG_included', 'T_ECG_excluded']\n",
    "name = names[0]\n",
    "noise_cov = 'baseline_cov'\n",
    "start = 0.35\n",
    "stop = 0.5\n",
    "sfreq = 200\n",
    "path = op.join(Analysis_path, task, 'meg', 'Stats', str(start)+'_'+str(stop))\n",
    "filename = op.join(path, name+'-'+noise_cov+'.nc')\n",
    "test_key = 'RS_vs_OM+N'\n",
    "p_thresh = 0.1"
   ]
  },
  {
   "cell_type": "code",
   "execution_count": null,
   "metadata": {},
   "outputs": [],
   "source": [
    "stats = xr.open_dataarray(filename, test_key)\n",
    "stats.load()"
   ]
  },
  {
   "cell_type": "code",
   "execution_count": null,
   "metadata": {},
   "outputs": [],
   "source": [
    "if np.where(stats.loc['p_val', 'left']<p_thresh)[0].any():\n",
    "    t_signif_lh = np.unique(np.where(stats.loc['p_val', 'left']<p_thresh)[0], return_counts=True)\n",
    "    best_t_lh = stats.time[t_signif_lh[0][t_signif_lh[1].argsort()][::-1]]\n",
    "    print(t_signif_lh)\n",
    "    print(best_t_lh)\n",
    "else:\n",
    "    warnings.warn('\\nNo significant cluster for left hemisphere.\\n')\n",
    "    best_t_lh = [None]"
   ]
  },
  {
   "cell_type": "code",
   "execution_count": null,
   "metadata": {},
   "outputs": [],
   "source": [
    "if np.where(stats.loc['p_val', 'right']<p_thresh)[0].any():\n",
    "    t_signif_rh = np.unique(np.where(stats.loc['p_val', 'right']<p_thresh)[0], return_counts=True)\n",
    "    best_t_rh = stats.time[t_signif_rh[0][t_signif_rh[1].argsort()][::-1]]\n",
    "    print(t_signif_rh)\n",
    "    print(best_t_rh)\n",
    "else:\n",
    "    warnings.warn('\\nNo significant cluster for right hemisphere.\\n')\n",
    "    best_t_rh = [None]"
   ]
  },
  {
   "cell_type": "code",
   "execution_count": null,
   "metadata": {},
   "outputs": [],
   "source": [
    "t = float(best_t_rh[0] if best_t_rh[0] is not None else best_t_lh[0])\n",
    "#t = int(best_t_rh[8])\n",
    "#t = int(best_t_lh[0])\n",
    "print('t =', t, 's')\n",
    "mask_lh = np.where(stats.loc['p_val', 'left', t] < p_thresh)\n",
    "mask_rh = np.where(stats.loc['p_val', 'right', t] < p_thresh)\n",
    "lh = np.where(stats.loc['p_val', 'left', t] < p_thresh, stats.loc['T_stat', 'left', t].values, 0)\n",
    "rh = np.where(stats.loc['p_val', 'right', t] < p_thresh, stats.loc['T_stat', 'right', t].values, 0)"
   ]
  },
  {
   "cell_type": "code",
   "execution_count": null,
   "metadata": {},
   "outputs": [],
   "source": [
    "cmax = np.max(np.abs(np.concatenate([lh, rh])))\n",
    "clim = (-cmax, cmax)"
   ]
  },
  {
   "cell_type": "code",
   "execution_count": null,
   "metadata": {},
   "outputs": [],
   "source": [
    "b_obj = BrainObj('inflated', translucent=False, hemisphere='both')#, sulcus=True)\n",
    "\n",
    "#b_obj.add_activation(data=data_lh[t], vertices=vertices, hemisphere='left', cmap='bwr', clim=clim)\n",
    "#b_obj.add_activation(data=data_rh[t], vertices=vertices, hemisphere='right', cmap='bwr', clim=clim)\n",
    "#b_obj.add_activation(data=np.where(pv_lh[t]>=0.05, -np.inf, data_lh[t]), hide_under=clim[0], vertices=vertices, hemisphere='left', cmap='bwr', clim=clim)\n",
    "#b_obj.add_activation(data=np.where(pv_lh[t]>=0.05, -np.inf, data_rh[t]), hide_under=clim[0], vertices=vertices, hemisphere='right', cmap='bwr', clim=clim)\n",
    "b_obj.add_activation(data=lh, vertices=stats.src.values, hemisphere='left', smoothing_steps=4, cmap='bwr', clim=clim)\n",
    "b_obj.add_activation(data=rh, vertices=stats.src.values, hemisphere='right', smoothing_steps=4, cmap='bwr', clim=clim)\n",
    "\n",
    "\n",
    "vb = Brain(brain_obj=b_obj)\n",
    "#cb = Colorbar(vmin=clim[0], vmax=clim[-1], cmap='bwr', ndigits=4, cblabel='T stat')"
   ]
  },
  {
   "cell_type": "code",
   "execution_count": null,
   "metadata": {},
   "outputs": [],
   "source": [
    "vb.show()\n",
    "vb.cbar_select('brain')\n",
    "vb.cbar_control('brain', cblabel='{} (t = {} s)'.format(test_key, t))\n",
    "vb.rotate(custom=(90, 0))\n",
    "#cb.show()\n",
    "#sc.preview()"
   ]
  },
  {
   "cell_type": "code",
   "execution_count": null,
   "metadata": {},
   "outputs": [],
   "source": [
    "vb.screenshot(op.join(path,'{}_t_{}.png'.format(test_key, t)))"
   ]
  },
  {
   "cell_type": "code",
   "execution_count": null,
   "metadata": {},
   "outputs": [],
   "source": [
    "t_signif_rh"
   ]
  }
 ],
 "metadata": {
  "kernelspec": {
   "display_name": "Python 3",
   "language": "python",
   "name": "python3"
  },
  "language_info": {
   "codemirror_mode": {
    "name": "ipython",
    "version": 3
   },
   "file_extension": ".py",
   "mimetype": "text/x-python",
   "name": "python",
   "nbconvert_exporter": "python",
   "pygments_lexer": "ipython3",
   "version": "3.5.2"
  }
 },
 "nbformat": 4,
 "nbformat_minor": 2
}
