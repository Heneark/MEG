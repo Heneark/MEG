{
 "cells": [
  {
   "cell_type": "code",
   "execution_count": 1,
   "metadata": {},
   "outputs": [],
   "source": [
    "import matplotlib\n",
    "matplotlib.use('Qt5Agg')#for visbrain to work in jupyterlab/notebook\n",
    "from header import *\n",
    "import visbrain\n",
    "from visbrain import Brain, Colorbar\n",
    "from visbrain.objects import BrainObj, ColorbarObj, SceneObj, SourceObj\n",
    "import xarray as xr"
   ]
  },
  {
   "cell_type": "code",
   "execution_count": 2,
   "metadata": {},
   "outputs": [],
   "source": [
    "task = 'SMEG'\n",
    "names = ['R_ECG_included', 'R_ECG_excluded', 'T_ECG_included', 'T_ECG_excluded']\n",
    "name = names[0]\n",
    "noise_cov = 'baseline_cov'\n",
    "start = 0.3\n",
    "stop = 0.5\n",
    "sfreq = 200\n",
    "path = op.join(Analysis_path, task, 'meg', 'Stats', str(start)+'_'+str(stop))\n",
    "filename = op.join(path, name+'-'+noise_cov+'.nc')\n",
    "test_key = 'N_vs_E+FA-OM'\n",
    "p_thresh = 0.05"
   ]
  },
  {
   "cell_type": "code",
   "execution_count": 8,
   "metadata": {},
   "outputs": [
    {
     "data": {
      "text/plain": [
       "<xarray.DataArray (data: 3, hemisphere: 2, time: 41, src: 10242)>\n",
       "array([[[[  6.906465e-02, ...,   1.268053e+01],\n",
       "         ..., \n",
       "         [  4.506646e-01, ...,   3.089404e+00]],\n",
       "\n",
       "        [[  2.904559e-01, ...,   4.491989e+00],\n",
       "         ..., \n",
       "         [  1.215011e+00, ...,   8.858618e-01]]],\n",
       "\n",
       "\n",
       "       ..., \n",
       "       [[[  0.000000e+00, ...,   1.000000e+00],\n",
       "         ..., \n",
       "         [  0.000000e+00, ...,   0.000000e+00]],\n",
       "\n",
       "        [[  0.000000e+00, ...,   1.300000e+02],\n",
       "         ..., \n",
       "         [  0.000000e+00, ...,   0.000000e+00]]]])\n",
       "Coordinates:\n",
       "  * time        (time) float64 0.3 0.305 0.31 0.315 0.32 0.325 0.33 0.335 ...\n",
       "  * src         (src) float64 0.0 1.0 2.0 3.0 4.0 5.0 6.0 7.0 8.0 9.0 10.0 ...\n",
       "  * hemisphere  (hemisphere) object 'left' 'right'\n",
       "  * data        (data) object 'T_stat' 'p_val' 'clu_inds'"
      ]
     },
     "execution_count": 8,
     "metadata": {},
     "output_type": "execute_result"
    }
   ],
   "source": [
    "stats = xr.open_dataarray(filename, test_key)\n",
    "stats.load()"
   ]
  },
  {
   "cell_type": "code",
   "execution_count": 6,
   "metadata": {},
   "outputs": [
    {
     "data": {
      "text/plain": [
       "array([0, 1, 2, 3, 4])"
      ]
     },
     "execution_count": 6,
     "metadata": {},
     "output_type": "execute_result"
    }
   ],
   "source": [
    "np.arange(5)"
   ]
  },
  {
   "cell_type": "code",
   "execution_count": null,
   "metadata": {},
   "outputs": [],
   "source": [
    "if np.where(pv_lh<p_thresh)[0].any():\n",
    "    t_signif_lh = np.unique(np.where(pv_lh<p_thresh)[0], return_counts=True)\n",
    "    best_t_lh = t_signif_lh[0][t_signif_lh[1].argsort()][::-1]\n",
    "    print(t_signif_lh)\n",
    "    print(best_t_lh)\n",
    "else:\n",
    "    warnings.warn('\\nNo significant cluster for left hemisphere.\\n')\n",
    "    best_t_lh = [None]"
   ]
  },
  {
   "cell_type": "code",
   "execution_count": null,
   "metadata": {},
   "outputs": [],
   "source": [
    "if np.where(pv_rh<p_thresh)[0].any():\n",
    "    t_signif_rh = np.unique(np.where(pv_rh<p_thresh)[0], return_counts=True)\n",
    "    best_t_rh = t_signif_rh[0][t_signif_rh[1].argsort()][::-1]\n",
    "    print(t_signif_rh)\n",
    "    print(best_t_rh)\n",
    "else:\n",
    "    warnings.warn('\\nNo significant cluster for right hemisphere.\\n')\n",
    "    best_t_rh = [None]"
   ]
  },
  {
   "cell_type": "code",
   "execution_count": null,
   "metadata": {},
   "outputs": [],
   "source": [
    "t = int((best_t_rh[0] if best_t_rh[0] is not None else best_t_lh[0]))\n",
    "#t = int(best_t_rh[8])\n",
    "#t = int(best_t_lh[0])\n",
    "print('t =', (t+start*sfreq)/sfreq)\n",
    "mask_lh = np.where(pv_lh[t]<p_thresh)\n",
    "mask_rh = np.where(pv_rh[t]<p_thresh)\n",
    "lh = np.where(pv_lh[t]<p_thresh, data_lh[t], 0)\n",
    "rh = np.where(pv_rh[t]<p_thresh, data_rh[t], 0)"
   ]
  },
  {
   "cell_type": "code",
   "execution_count": null,
   "metadata": {},
   "outputs": [],
   "source": [
    "cmax = np.max(np.abs(np.concatenate([lh, rh])))\n",
    "clim = (-cmax, cmax)"
   ]
  },
  {
   "cell_type": "code",
   "execution_count": null,
   "metadata": {},
   "outputs": [],
   "source": [
    "b_obj = BrainObj('inflated', translucent=False, hemisphere='both')#, sulcus=True)\n",
    "\n",
    "#b_obj.add_activation(data=data_lh[t], vertices=vertices, hemisphere='left', cmap='bwr', clim=clim)\n",
    "#b_obj.add_activation(data=data_rh[t], vertices=vertices, hemisphere='right', cmap='bwr', clim=clim)\n",
    "#b_obj.add_activation(data=data_lh[t][mask_lh], vertices=vertices[mask_lh], hemisphere='left', cmap='bwr', clim=clim)\n",
    "#b_obj.add_activation(data=data_rh[t][mask_rh], vertices=vertices[mask_rh], hemisphere='right', cmap='bwr', clim=clim)\n",
    "#b_obj.add_activation(data=np.where(pv_lh[t]>=0.05, -np.inf, data_lh[t]), hide_under=clim[0], vertices=vertices, hemisphere='left', cmap='bwr', clim=clim)\n",
    "#b_obj.add_activation(data=np.where(pv_lh[t]>=0.05, -np.inf, data_rh[t]), hide_under=clim[0], vertices=vertices, hemisphere='right', cmap='bwr', clim=clim)\n",
    "#b_obj.add_activation(data=np.where(pv_lh[t]<0.05, data_lh[t], 0), vertices=vertices, hemisphere='left', cmap='bwr', clim=clim)\n",
    "#b_obj.add_activation(data=np.where(pv_rh[t]<0.05, data_lh[t], 0), vertices=vertices, hemisphere='right', cmap='bwr', clim=clim)\n",
    "b_obj.add_activation(data=lh, vertices=vertices, hemisphere='left', cmap='bwr', clim=clim)\n",
    "b_obj.add_activation(data=rh, vertices=vertices, hemisphere='right', cmap='bwr', clim=clim)\n",
    "\n",
    "\n",
    "vb = Brain(brain_obj=b_obj)\n",
    "#cb = Colorbar(vmin=clim[0], vmax=clim[-1], cmap='bwr', ndigits=4, cblabel='T stat')"
   ]
  },
  {
   "cell_type": "code",
   "execution_count": null,
   "metadata": {},
   "outputs": [],
   "source": [
    "vb.show()\n",
    "vb.cbar_select('brain')\n",
    "vb.cbar_control('brain', cblabel='{} (t = {} s)'.format(test_key, (t+start*sfreq)/sfreq))\n",
    "vb.rotate(custom=(180, -45))\n",
    "#cb.show()\n",
    "#sc.preview()"
   ]
  },
  {
   "cell_type": "code",
   "execution_count": null,
   "metadata": {},
   "outputs": [],
   "source": [
    "vb.screenshot(op.join(path,test_key+'_t_'+str((t+start*sfreq)/sfreq)+'.png'))"
   ]
  },
  {
   "cell_type": "code",
   "execution_count": null,
   "metadata": {},
   "outputs": [],
   "source": [
    "t_signif_rh"
   ]
  }
 ],
 "metadata": {
  "kernelspec": {
   "display_name": "Python 3",
   "language": "python",
   "name": "python3"
  },
  "language_info": {
   "codemirror_mode": {
    "name": "ipython",
    "version": 3
   },
   "file_extension": ".py",
   "mimetype": "text/x-python",
   "name": "python",
   "nbconvert_exporter": "python",
   "pygments_lexer": "ipython3",
   "version": "3.6.3"
  }
 },
 "nbformat": 4,
 "nbformat_minor": 2
}
