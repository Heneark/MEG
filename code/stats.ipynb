{
 "cells": [
  {
   "cell_type": "code",
   "execution_count": 1,
   "metadata": {
    "ExecuteTime": {
     "end_time": "2018-05-31T16:28:38.455672Z",
     "start_time": "2018-05-31T16:28:38.029386Z"
    }
   },
   "outputs": [],
   "source": [
    "import matplotlib\n",
    "matplotlib.use('Qt5Agg')\n",
    "from header import *\n",
    "import psutil\n",
    "from mne.stats import spatio_temporal_cluster_1samp_test, spatio_temporal_cluster_test, permutation_cluster_1samp_test, permutation_cluster_test, summarize_clusters_stc\n",
    "from scipy.stats.distributions import f,t\n",
    "from tqdm import tqdm\n",
    "import visbrain\n",
    "from visbrain.objects import BrainObj, ColorbarObj, SceneObj, SourceObj\n",
    "import xarray as xr\n",
    "warnings.filterwarnings(\"ignore\",category=DeprecationWarning)"
   ]
  },
  {
   "cell_type": "code",
   "execution_count": 2,
   "metadata": {
    "ExecuteTime": {
     "end_time": "2018-05-31T16:28:49.581843Z",
     "start_time": "2018-05-31T16:28:49.549387Z"
    }
   },
   "outputs": [],
   "source": [
    "t0 = time.perf_counter()\n",
    "task = 'SMEG' #'MIMOSA'\n",
    "states = ['RS','FA','OM']\n",
    "subjects = get_subjlist(task)\n",
    "subjects = subjects[:subjects.index('109')]\n",
    "\n",
    "reject = ['069', '072', '030', '054', '071', '090', '093']\n",
    "for sub in reject:\n",
    "    if sub in subjects:\n",
    "        subjects.remove(sub)\n",
    "\n",
    "subjects.sort()\n",
    "#subjects = ['002', '007', '012', '014', '018', '032', '037', '042', '083', '087', '089', '091', '050', '055', '064', '067', '068', '070', '073']\n",
    "experts = []\n",
    "novices = []\n",
    "experts_i = []\n",
    "novices_i = []\n",
    "for s,sub in enumerate(subjects):\n",
    "    if expertise(sub) == 'N':\n",
    "        novices.append(sub)\n",
    "        novices_i.append(s)\n",
    "    if expertise(sub) == 'E':\n",
    "        experts.append(sub)\n",
    "        experts_i.append(s)"
   ]
  },
  {
   "cell_type": "code",
   "execution_count": 3,
   "metadata": {},
   "outputs": [],
   "source": [
    "names = ['R_ECG_included', 'R_ECG_excluded', 'T_ECG_included', 'T_ECG_excluded']\n",
    "name = names[-1]\n",
    "noise_cov = 'empty_room_cov'\n",
    "stc_ext = '-lh.stc'\n",
    "sfreq = 200\n",
    "surface = 'ico4'\n",
    "start = None\n",
    "stop = None\n",
    "stc_path = op.join(Analysis_path, task, 'meg', 'SourceEstimate')\n",
    "evo_path = op.join(Analysis_path, task, 'meg', 'Evoked')"
   ]
  },
  {
   "cell_type": "markdown",
   "metadata": {},
   "source": [
    "# Evoked"
   ]
  },
  {
   "cell_type": "code",
   "execution_count": 4,
   "metadata": {},
   "outputs": [
    {
     "data": {
      "text/plain": [
       "<xarray.DataArray (state: 3, subject: 34, time: 90, sensor: 275)>\n",
       "array([[[[ -7.273666e-16, ...,  -5.160424e-15],\n",
       "         ..., \n",
       "         [ -4.482074e-15, ...,  -4.317540e-16]],\n",
       "\n",
       "        ..., \n",
       "        [[  2.196487e-15, ...,   1.408550e-15],\n",
       "         ..., \n",
       "         [  5.216744e-15, ...,   1.765455e-14]]],\n",
       "\n",
       "\n",
       "       ..., \n",
       "       [[[  2.321139e-15, ...,  -1.001085e-15],\n",
       "         ..., \n",
       "         [ -5.865644e-15, ...,   7.151555e-15]],\n",
       "\n",
       "        ..., \n",
       "        [[  1.841743e-14, ...,  -1.249284e-14],\n",
       "         ..., \n",
       "         [  1.584615e-14, ...,  -1.187543e-14]]]])\n",
       "Coordinates:\n",
       "  * time     (time) float64 -0.175 -0.17 -0.165 -0.16 -0.155 -0.15 -0.145 ...\n",
       "  * subject  (subject) object '002' '004' '007' '010' '012' '014' '016' ...\n",
       "  * state    (state) object 'RS' 'FA' 'OM'\n",
       "  * sensor   (sensor) object 'MLC11' 'MLC12' 'MLC13' 'MLC14' 'MLC15' 'MLC16' ..."
      ]
     },
     "execution_count": 4,
     "metadata": {},
     "output_type": "execute_result"
    }
   ],
   "source": [
    "data_file = op.join(evo_path, 'DATASET-{}Hz.nc'.format(sfreq))\n",
    "evo = xr.open_dataarray(data_file, name)\n",
    "evo.load()"
   ]
  },
  {
   "cell_type": "code",
   "execution_count": 5,
   "metadata": {},
   "outputs": [],
   "source": [
    "def evoked_perm_test(X1, X2, stat_file, test_key, times, sensors, mode='a', p_threshold=0.01, connectivity=None, paired=False, fif_significance=0.05):\n",
    "    \"\"\"\n",
    "    If paired, test X1-X2.\n",
    "    A summary SourceEstimate of the stats is saved if there is a significant cluster (p-value < fif_significance).\n",
    "    Saving can be forced by setting fif_significance to 1, or disabled by setting it to 0.\n",
    "    Input: arrays of shape (subjects, time, space)\n",
    "    \"\"\"\n",
    "    os.makedirs(op.dirname(stat_file), exist_ok=True)\n",
    "    evoked_file = op.splitext(stat_file)[0] + '_' + test_key + '-stat.fif'\n",
    "    \n",
    "    if not isinstance(X2, (np.ndarray, xr.DataArray, list)):\n",
    "        X2 = np.zeros(X1.shape)\n",
    "    \n",
    "    if paired:\n",
    "        X = X1 - X2\n",
    "        t_threshold = -t.ppf(p_threshold / 2, X.shape[0] - 1)\n",
    "        T_obs, clusters, cluster_pv, H0 = clu_all = spatio_temporal_cluster_1samp_test(X, connectivity=connectivity, threshold=t_threshold, n_jobs=4)\n",
    "    else:\n",
    "        f_threshold = f.ppf(1 - p_threshold / 2, X1.shape[0] - 1, X2.shape[0] - 1)\n",
    "        T_obs, clusters, cluster_pv, H0 = clu_all = spatio_temporal_cluster_test([X1,X2], connectivity=connectivity, threshold=f_threshold, n_jobs=4)\n",
    "    \n",
    "    p_val = np.ones_like(T_obs)\n",
    "    clu_inds = np.zeros_like(T_obs)\n",
    "    info = mne.create_info(sensors, np.round(1 / (times[1] - times[0])), 'mag')\n",
    "    \n",
    "    for c,clu in enumerate(clusters):\n",
    "        p_val[clu] = cluster_pv[c]\n",
    "        clu_inds[clu] = c+1\n",
    "        if np.where(cluster_pv[c] <= fif_significance)[0].size:\n",
    "            data = np.full_like(T_obs, np.nan)\n",
    "            data[clu] = T_obs[clu]\n",
    "            mne.write_evokeds(evoked_file, mne.EvokedArray(data.T, info, times[0], 'cluster_{}'.format(c+1)))\n",
    "    \n",
    "    if np.where(p_val <= fif_significance)[0].size:\n",
    "        mne.write_evokeds(evoked_file, mne.EvokedArray(np.where(p_val <= fif_significance, T_obs, np.nan).T, info, times[0], 'all_clusters'))\n",
    "    \n",
    "    stats = xr.DataArray(np.zeros((3, *T_obs.shape)), dims=['data', 'time', 'sensor'], coords={'data':['T_stat', 'p_val', 'clu_inds'], 'time':times, 'sensor':sensors})\n",
    "    stats.loc['T_stat'] = T_obs\n",
    "    stats.loc['p_val'] = p_val\n",
    "    stats.loc['clu_inds'] = clu_inds\n",
    "    \n",
    "    stats.to_netcdf(path=stat_file, group=test_key, mode=mode if op.isfile(stat_file) else 'w')\n",
    "    return clu_all"
   ]
  },
  {
   "cell_type": "code",
   "execution_count": 6,
   "metadata": {},
   "outputs": [],
   "source": [
    "start = .1#evo.time.values[0]\n",
    "stop = .25#evo.time.values[-1]\n",
    "stat_path = op.join(Analysis_path, task, 'meg', 'Stats', 'evoked_{}_{}'.format(start, stop))\n",
    "os.makedirs(stat_path, exist_ok=True)\n",
    "stat_file = op.join(stat_path, '{}-{}Hz.nc'.format(name, sfreq))\n",
    "paired_tests = {'RS_vs_FA':('RS', 'FA', subjects), 'RS_vs_OM':('RS', 'OM', subjects),\n",
    "         'OM_vs_FA':('OM', 'FA', subjects), 'RS_vs_FA+E':('RS', 'FA', experts),\n",
    "         'RS_vs_OM+E':('RS', 'OM', experts), 'OM_vs_FA+E':('OM', 'FA', experts),\n",
    "         'RS_vs_FA+N':('RS', 'FA', novices), 'RS_vs_OM+N':('RS', 'OM', novices),\n",
    "         'OM_vs_FA+N':('OM', 'FA', novices)}\n",
    "clu = dict()"
   ]
  },
  {
   "cell_type": "code",
   "execution_count": 11,
   "metadata": {},
   "outputs": [
    {
     "name": "stdout",
     "output_type": "stream",
     "text": [
      "stat_fun(H1): min=-3.903630 max=4.331629\n",
      "Running initial clustering\n",
      "Found 48 clusters\n",
      "Permuting 1023 times...\n"
     ]
    },
    {
     "name": "stderr",
     "output_type": "stream",
     "text": [
      "[Parallel(n_jobs=4)]: Done   2 out of   4 | elapsed:    3.3s remaining:    3.3s\n",
      "[Parallel(n_jobs=4)]: Done   4 out of   4 | elapsed:    5.5s remaining:    0.0s\n",
      "[Parallel(n_jobs=4)]: Done   4 out of   4 | elapsed:    5.5s finished\n"
     ]
    },
    {
     "name": "stdout",
     "output_type": "stream",
     "text": [
      "Computing cluster p-values\n",
      "Done.\n",
      "stat_fun(H1): min=-4.195056 max=3.370257\n",
      "Running initial clustering\n",
      "Found 27 clusters\n",
      "Permuting 1023 times...\n"
     ]
    },
    {
     "name": "stderr",
     "output_type": "stream",
     "text": [
      "[Parallel(n_jobs=4)]: Done   2 out of   4 | elapsed:    3.4s remaining:    3.4s\n",
      "[Parallel(n_jobs=4)]: Done   4 out of   4 | elapsed:    4.7s remaining:    0.0s\n",
      "[Parallel(n_jobs=4)]: Done   4 out of   4 | elapsed:    4.7s finished\n"
     ]
    },
    {
     "name": "stdout",
     "output_type": "stream",
     "text": [
      "Computing cluster p-values\n",
      "Done.\n",
      "stat_fun(H1): min=-3.504096 max=3.761773\n",
      "Running initial clustering\n",
      "Found 47 clusters\n",
      "Permuting 1023 times...\n"
     ]
    },
    {
     "name": "stderr",
     "output_type": "stream",
     "text": [
      "[Parallel(n_jobs=4)]: Done   2 out of   4 | elapsed:    3.3s remaining:    3.3s\n",
      "[Parallel(n_jobs=4)]: Done   4 out of   4 | elapsed:    4.6s remaining:    0.0s\n",
      "[Parallel(n_jobs=4)]: Done   4 out of   4 | elapsed:    4.6s finished\n"
     ]
    },
    {
     "name": "stdout",
     "output_type": "stream",
     "text": [
      "Computing cluster p-values\n",
      "Done.\n",
      "stat_fun(H1): min=-4.474297 max=9.878227\n",
      "Running initial clustering\n",
      "Found 49 clusters\n",
      "Permuting 511 times (exact test)...\n"
     ]
    },
    {
     "name": "stderr",
     "output_type": "stream",
     "text": [
      "[Parallel(n_jobs=4)]: Done   2 out of   4 | elapsed:    2.2s remaining:    2.2s\n",
      "[Parallel(n_jobs=4)]: Done   4 out of   4 | elapsed:    3.5s remaining:    0.0s\n",
      "[Parallel(n_jobs=4)]: Done   4 out of   4 | elapsed:    3.5s finished\n"
     ]
    },
    {
     "name": "stdout",
     "output_type": "stream",
     "text": [
      "Computing cluster p-values\n",
      "Done.\n"
     ]
    },
    {
     "name": "stderr",
     "output_type": "stream",
     "text": [
      "<ipython-input-5-0b386bd81268>:32: RuntimeWarning: This filename (C:\\Users\\adorb\\Documents\\2018-01-08_internship-M2\\ERC\\Analyses\\SMEG\\meg\\Stats\\evoked_0.1_0.25\\T_ECG_excluded-200Hz_RS_vs_FA+E-stat.fif) does not conform to MNE naming conventions. All evoked files should end with -ave.fif, -ave.fif.gz, _ave.fif or _ave.fif.gz\n",
      "  mne.write_evokeds(evoked_file, mne.EvokedArray(data.T, info, times[0], 'cluster_{}'.format(c+1)))\n"
     ]
    },
    {
     "name": "stdout",
     "output_type": "stream",
     "text": [
      "This filename (C:\\Users\\adorb\\Documents\\2018-01-08_internship-M2\\ERC\\Analyses\\SMEG\\meg\\Stats\\evoked_0.1_0.25\\T_ECG_excluded-200Hz_RS_vs_FA+E-stat.fif) does not conform to MNE naming conventions. All evoked files should end with -ave.fif, -ave.fif.gz, _ave.fif or _ave.fif.gz\n"
     ]
    },
    {
     "name": "stderr",
     "output_type": "stream",
     "text": [
      "<ipython-input-5-0b386bd81268>:32: RuntimeWarning: This filename (C:\\Users\\adorb\\Documents\\2018-01-08_internship-M2\\ERC\\Analyses\\SMEG\\meg\\Stats\\evoked_0.1_0.25\\T_ECG_excluded-200Hz_RS_vs_FA+E-stat.fif) does not conform to MNE naming conventions. All evoked files should end with -ave.fif, -ave.fif.gz, _ave.fif or _ave.fif.gz\n",
      "  mne.write_evokeds(evoked_file, mne.EvokedArray(data.T, info, times[0], 'cluster_{}'.format(c+1)))\n"
     ]
    },
    {
     "name": "stdout",
     "output_type": "stream",
     "text": [
      "This filename (C:\\Users\\adorb\\Documents\\2018-01-08_internship-M2\\ERC\\Analyses\\SMEG\\meg\\Stats\\evoked_0.1_0.25\\T_ECG_excluded-200Hz_RS_vs_FA+E-stat.fif) does not conform to MNE naming conventions. All evoked files should end with -ave.fif, -ave.fif.gz, _ave.fif or _ave.fif.gz\n"
     ]
    },
    {
     "name": "stderr",
     "output_type": "stream",
     "text": [
      "<ipython-input-5-0b386bd81268>:35: RuntimeWarning: This filename (C:\\Users\\adorb\\Documents\\2018-01-08_internship-M2\\ERC\\Analyses\\SMEG\\meg\\Stats\\evoked_0.1_0.25\\T_ECG_excluded-200Hz_RS_vs_FA+E-stat.fif) does not conform to MNE naming conventions. All evoked files should end with -ave.fif, -ave.fif.gz, _ave.fif or _ave.fif.gz\n",
      "  mne.write_evokeds(evoked_file, mne.EvokedArray(np.where(p_val <= fif_significance, T_obs, np.nan).T, info, times[0], 'all_clusters'))\n"
     ]
    },
    {
     "name": "stdout",
     "output_type": "stream",
     "text": [
      "This filename (C:\\Users\\adorb\\Documents\\2018-01-08_internship-M2\\ERC\\Analyses\\SMEG\\meg\\Stats\\evoked_0.1_0.25\\T_ECG_excluded-200Hz_RS_vs_FA+E-stat.fif) does not conform to MNE naming conventions. All evoked files should end with -ave.fif, -ave.fif.gz, _ave.fif or _ave.fif.gz\n",
      "stat_fun(H1): min=-4.367471 max=5.444041\n",
      "Running initial clustering\n",
      "Found 43 clusters\n",
      "Permuting 511 times (exact test)...\n"
     ]
    },
    {
     "name": "stderr",
     "output_type": "stream",
     "text": [
      "[Parallel(n_jobs=4)]: Done   2 out of   4 | elapsed:    2.2s remaining:    2.2s\n",
      "[Parallel(n_jobs=4)]: Done   4 out of   4 | elapsed:    3.5s remaining:    0.0s\n",
      "[Parallel(n_jobs=4)]: Done   4 out of   4 | elapsed:    3.5s finished\n"
     ]
    },
    {
     "name": "stdout",
     "output_type": "stream",
     "text": [
      "Computing cluster p-values\n",
      "Done.\n",
      "stat_fun(H1): min=-12.289697 max=6.809021\n",
      "Running initial clustering\n",
      "Found 70 clusters\n",
      "Permuting 511 times (exact test)...\n"
     ]
    },
    {
     "name": "stderr",
     "output_type": "stream",
     "text": [
      "[Parallel(n_jobs=4)]: Done   2 out of   4 | elapsed:    2.0s remaining:    2.0s\n",
      "[Parallel(n_jobs=4)]: Done   4 out of   4 | elapsed:    3.3s remaining:    0.0s\n",
      "[Parallel(n_jobs=4)]: Done   4 out of   4 | elapsed:    3.3s finished\n"
     ]
    },
    {
     "name": "stdout",
     "output_type": "stream",
     "text": [
      "Computing cluster p-values\n",
      "Done.\n",
      "stat_fun(H1): min=-3.027193 max=3.601276\n",
      "Running initial clustering\n",
      "Found 14 clusters\n",
      "Permuting 1023 times...\n"
     ]
    },
    {
     "name": "stderr",
     "output_type": "stream",
     "text": [
      "[Parallel(n_jobs=4)]: Done   2 out of   4 | elapsed:    3.0s remaining:    3.0s\n",
      "[Parallel(n_jobs=4)]: Done   4 out of   4 | elapsed:    4.3s remaining:    0.0s\n",
      "[Parallel(n_jobs=4)]: Done   4 out of   4 | elapsed:    4.3s finished\n"
     ]
    },
    {
     "name": "stdout",
     "output_type": "stream",
     "text": [
      "Computing cluster p-values\n",
      "Done.\n",
      "stat_fun(H1): min=-3.548634 max=4.546885\n",
      "Running initial clustering\n",
      "Found 22 clusters\n",
      "Permuting 1023 times...\n"
     ]
    },
    {
     "name": "stderr",
     "output_type": "stream",
     "text": [
      "[Parallel(n_jobs=4)]: Done   2 out of   4 | elapsed:    3.2s remaining:    3.2s\n",
      "[Parallel(n_jobs=4)]: Done   4 out of   4 | elapsed:    4.7s remaining:    0.0s\n",
      "[Parallel(n_jobs=4)]: Done   4 out of   4 | elapsed:    4.7s finished\n"
     ]
    },
    {
     "name": "stdout",
     "output_type": "stream",
     "text": [
      "Computing cluster p-values\n",
      "Done.\n",
      "stat_fun(H1): min=-3.471529 max=4.742145\n",
      "Running initial clustering\n",
      "Found 47 clusters\n",
      "Permuting 1023 times...\n"
     ]
    },
    {
     "name": "stderr",
     "output_type": "stream",
     "text": [
      "[Parallel(n_jobs=4)]: Done   2 out of   4 | elapsed:    2.9s remaining:    2.9s\n",
      "[Parallel(n_jobs=4)]: Done   4 out of   4 | elapsed:    4.9s remaining:    0.0s\n",
      "[Parallel(n_jobs=4)]: Done   4 out of   4 | elapsed:    4.9s finished\n"
     ]
    },
    {
     "name": "stdout",
     "output_type": "stream",
     "text": [
      "Computing cluster p-values\n",
      "Done.\n"
     ]
    }
   ],
   "source": [
    "for key,val in paired_tests.items():\n",
    "    clu[key] = evoked_perm_test(evo.loc[val[0],val[2],start:stop].values, evo.loc[val[1],val[2],start:stop].values, stat_file=stat_file, test_key=key, times=evo.loc[:,:,start:stop].time.values, sensors=evo.sensor.values.tolist(), paired=True)"
   ]
  },
  {
   "cell_type": "code",
   "execution_count": 10,
   "metadata": {},
   "outputs": [
    {
     "data": {
      "text/plain": [
       "array([-0.175, -0.17 , -0.165, -0.16 , -0.155, -0.15 , -0.145, -0.14 ,\n",
       "       -0.135, -0.13 , -0.125, -0.12 , -0.115, -0.11 , -0.105, -0.1  ,\n",
       "       -0.095, -0.09 , -0.085, -0.08 , -0.075, -0.07 , -0.065, -0.06 ,\n",
       "       -0.055, -0.05 , -0.045, -0.04 , -0.035, -0.03 , -0.025, -0.02 ,\n",
       "       -0.015, -0.01 , -0.005,  0.   ,  0.005,  0.01 ,  0.015,  0.02 ,\n",
       "        0.025,  0.03 ,  0.035,  0.04 ,  0.045,  0.05 ,  0.055,  0.06 ,\n",
       "        0.065,  0.07 ,  0.075,  0.08 ,  0.085,  0.09 ,  0.095,  0.1  ,\n",
       "        0.105,  0.11 ,  0.115,  0.12 ,  0.125,  0.13 ,  0.135,  0.14 ,\n",
       "        0.145,  0.15 ,  0.155,  0.16 ,  0.165,  0.17 ,  0.175,  0.18 ,\n",
       "        0.185,  0.19 ,  0.195,  0.2  ,  0.205,  0.21 ,  0.215,  0.22 ,\n",
       "        0.225,  0.23 ,  0.235,  0.24 ,  0.245,  0.25 ,  0.255,  0.26 ,\n",
       "        0.265,  0.27 ])"
      ]
     },
     "execution_count": 10,
     "metadata": {},
     "output_type": "execute_result"
    }
   ],
   "source": [
    "evo.time.values"
   ]
  },
  {
   "cell_type": "markdown",
   "metadata": {},
   "source": [
    "# SourceEstimate"
   ]
  },
  {
   "cell_type": "code",
   "execution_count": 6,
   "metadata": {},
   "outputs": [
    {
     "data": {
      "text/plain": [
       "<xarray.DataArray (state: 3, subject: 34, time: 50, src: 20484)>\n",
       "array([[[[ 8.556109e-03, ...,  2.134121e-02],\n",
       "         ...,\n",
       "         [ 4.530383e-02, ...,  1.810445e-02]],\n",
       "\n",
       "        ...,\n",
       "\n",
       "        [[ 1.169846e-01, ...,  8.895773e-02],\n",
       "         ...,\n",
       "         [ 1.032996e-01, ...,  1.014239e-01]]],\n",
       "\n",
       "\n",
       "       ...,\n",
       "\n",
       "\n",
       "       [[[ 3.722164e-02, ...,  3.015478e-02],\n",
       "         ...,\n",
       "         [ 2.718116e-02, ...,  2.640520e-02]],\n",
       "\n",
       "        ...,\n",
       "\n",
       "        [[-4.905814e-06, ...,  5.309783e-02],\n",
       "         ...,\n",
       "         [ 9.928549e-02, ...,  2.555502e-02]]]])\n",
       "Coordinates:\n",
       "  * time     (time) float64 0.1 0.105 0.11 0.115 0.12 0.125 0.13 0.135 0.14 ...\n",
       "  * subject  (subject) object '002' '004' '007' '010' '012' '014' '016' ...\n",
       "  * state    (state) object 'RS' 'FA' 'OM'\n",
       "  * src      (src) object 'lh_0' 'lh_1' 'lh_2' 'lh_3' 'lh_4' 'lh_5' 'lh_6' ..."
      ]
     },
     "execution_count": 6,
     "metadata": {},
     "output_type": "execute_result"
    }
   ],
   "source": [
    "data_file = op.join(stc_path, 'fsaverage', 'DATASET-{}-surface_{}-{}Hz-beamformer.nc'.format(noise_cov, surface, sfreq))\n",
    "stc = xr.open_dataarray(data_file, name)\n",
    "stc.load()"
   ]
  },
  {
   "cell_type": "code",
   "execution_count": 17,
   "metadata": {},
   "outputs": [],
   "source": [
    "def cluster_perm_test(X1, X2, stat_file, test_key, times, vertices, mode='a', p_threshold=0.01, connectivity='ico5', paired=False, fif_significance=0.05, tmin=0):\n",
    "    \"\"\"\n",
    "    If paired, test X1-X2.\n",
    "    A summary SourceEstimate of the stats is saved if there is a significant cluster (p-value < fif_significance).\n",
    "    Saving can be forced by setting fif_significance to 1, or disabled by setting it to 0.\n",
    "    Input: arrays of shape (subjects, time, space)\n",
    "    \"\"\"\n",
    "    if not isinstance(X2, (np.ndarray, xr.DataArray)):\n",
    "        X2 = np.zeros(X1.shape)\n",
    "    \n",
    "    if type(connectivity) is str:\n",
    "        connectivity = mne.spatial_tris_connectivity(mne.grade_to_tris(int(connectivity[-1])))\n",
    "    \n",
    "    if paired:\n",
    "        X = X1 - X2\n",
    "        t_threshold = -t.ppf(p_threshold / 2, X.shape[0] - 1)\n",
    "        T_obs, clusters, cluster_pv, H0 = clu_all = spatio_temporal_cluster_1samp_test(X, connectivity=connectivity, threshold=t_threshold, n_jobs=4)\n",
    "    else:\n",
    "        f_threshold = f.ppf(1 - p_threshold / 2, X1.shape[0] - 1, X2.shape[0] - 1)\n",
    "        T_obs, clusters, cluster_pv, H0 = clu_all = spatio_temporal_cluster_test([X1,X2], connectivity=connectivity, threshold=f_threshold, n_jobs=4)\n",
    "    \n",
    "    p_val = np.ones(T_obs.shape)\n",
    "    clu_inds = np.zeros(T_obs.shape)\n",
    "    \n",
    "    for c,clu in enumerate(clusters):\n",
    "        p_val[clu] = cluster_pv[c]\n",
    "        clu_inds[clu] = c+1\n",
    "    \n",
    "    stats = xr.DataArray(np.zeros((3, 2, len(times), len(vertices))), dims=['data', 'hemisphere', 'time', 'src'], coords={'data':['T_stat', 'p_val', 'clu_inds'], 'hemisphere':['left', 'right'], 'time':times, 'src':vertices})\n",
    "    for h,hemi in enumerate(['left', 'right']):\n",
    "        i = h + 1\n",
    "        h *= len(vertices)\n",
    "        i *= len(vertices)\n",
    "        stats.loc['T_stat', hemi] = T_obs[:, h:i]\n",
    "        stats.loc['p_val', hemi] = p_val[:, h:i]\n",
    "        stats.loc['clu_inds', hemi] = clu_inds[:, h:i]\n",
    "    \n",
    "    if not op.isdir(op.split(stat_file)[0]):\n",
    "        os.makedirs(op.split(stat_file)[0])\n",
    "    \n",
    "    if not op.isfile(stat_file):\n",
    "        mode = 'w'\n",
    "    \n",
    "    stats.to_netcdf(path=stat_file, group=test_key, mode=mode)\n",
    "    \n",
    "    if np.where(cluster_pv <= fif_significance)[0].size:\n",
    "        clu_sum = summarize_clusters_stc(clu_all, tstep=1, tmin=0)\n",
    "        clu_sum.save(op.splitext(stat_file)[0] + '-' + test_key + '-summary')\n",
    "        \n",
    "        stats_stc = mne.SourceEstimate(np.where(p_val <= fif_significance, T_obs, 0).T, [np.arange(10242), np.arange(10242)], times[0], 1/sfreq, 'fsaverage')\n",
    "        stats_stc.save(op.splitext(stat_file)[0] + '-' + test_key)\n",
    "    \n",
    "    return clu_all"
   ]
  },
  {
   "cell_type": "code",
   "execution_count": 8,
   "metadata": {},
   "outputs": [
    {
     "name": "stdout",
     "output_type": "stream",
     "text": [
      "-- number of connected vertices : 20484\n"
     ]
    }
   ],
   "source": [
    "spacing='ico5'\n",
    "connectivity = mne.spatial_tris_connectivity(mne.grade_to_tris(int(spacing[-1])))"
   ]
  },
  {
   "cell_type": "code",
   "execution_count": 9,
   "metadata": {},
   "outputs": [],
   "source": [
    "start = stc.time.values[0]\n",
    "stop = stc.time.values[-1]\n",
    "vertno = np.arange(stc.shape[-1]/2, dtype=int)\n",
    "\n",
    "stat_path = op.join(Analysis_path, task, 'meg', 'Stats', '{}_{}'.format(round(start,4),round(stop,4)))\n",
    "os.makedirs(stat_path, exist_ok=True)\n",
    "stat_file = op.join(stat_path, '{}-{}-surface_{}-{}Hz-beamformer.nc'.format(name, noise_cov, surface, sfreq))\n",
    "\n",
    "paired_tests = {'RS_vs_FA':('RS', 'FA', subjects), 'RS_vs_OM':('RS', 'OM', subjects),\n",
    "         'OM_vs_FA':('OM', 'FA', subjects), 'RS_vs_FA+E':('RS', 'FA', experts),\n",
    "         'RS_vs_OM+E':('RS', 'OM', experts), 'OM_vs_FA+E':('OM', 'FA', experts),\n",
    "         'RS_vs_FA+N':('RS', 'FA', novices), 'RS_vs_OM+N':('RS', 'OM', novices),\n",
    "         'OM_vs_FA+N':('OM', 'FA', novices)}\n",
    "clu = dict()"
   ]
  },
  {
   "cell_type": "markdown",
   "metadata": {},
   "source": [
    "# Heartbeat Evoked Response"
   ]
  },
  {
   "cell_type": "code",
   "execution_count": 16,
   "metadata": {},
   "outputs": [
    {
     "data": {
      "text/plain": [
       "(50, 20484)"
      ]
     },
     "execution_count": 16,
     "metadata": {},
     "output_type": "execute_result"
    }
   ],
   "source": [
    "clu['RS_vs_FA'][0].shape"
   ]
  },
  {
   "cell_type": "code",
   "execution_count": 35,
   "metadata": {},
   "outputs": [
    {
     "name": "stdout",
     "output_type": "stream",
     "text": [
      "stat_fun(H1): min=2.469534 max=41.924578\n",
      "Running initial clustering\n",
      "Found 6 clusters\n",
      "Permuting 1023 times...\n",
      "[...................................     ] 87.84314 \\    "
     ]
    },
    {
     "name": "stderr",
     "output_type": "stream",
     "text": [
      "[Parallel(n_jobs=4)]: Done   2 out of   4 | elapsed:  1.2min remaining:  1.2min\n"
     ]
    },
    {
     "name": "stdout",
     "output_type": "stream",
     "text": [
      "[....................................... ] 99.22481 |    Computing cluster p-values\n",
      "Done.\n"
     ]
    },
    {
     "name": "stderr",
     "output_type": "stream",
     "text": [
      "[Parallel(n_jobs=4)]: Done   4 out of   4 | elapsed:  1.3min remaining:    0.0s\n",
      "[Parallel(n_jobs=4)]: Done   4 out of   4 | elapsed:  1.3min finished\n"
     ]
    }
   ],
   "source": [
    "test_key = 'HER_0.0001'\n",
    "#X1 = stc.values.reshape((np.multiply(*stc.shape[0:2]),*stc.shape[2:]))\n",
    "X1 = stc.values.mean(axis=0)\n",
    "X2 = np.zeros(X1.shape)\n",
    "T_obs[test_key], clusters[test_key], cluster_pv[test_key], H0[test_key], mask[test_key] = cluster_perm_test(X1, X2, stat_file=stat_file, test_key=test_key, times=stc.time.values, vertices=vertno, connectivity=connectivity, paired=True, p_threshold=0.0001)"
   ]
  },
  {
   "cell_type": "code",
   "execution_count": 31,
   "metadata": {},
   "outputs": [],
   "source": [
    "X1 = stc.values.mean(axis=0)"
   ]
  },
  {
   "cell_type": "code",
   "execution_count": 39,
   "metadata": {},
   "outputs": [
    {
     "data": {
      "text/plain": [
       "(34, 30, 20484)"
      ]
     },
     "execution_count": 39,
     "metadata": {},
     "output_type": "execute_result"
    }
   ],
   "source": [
    "X1.shape"
   ]
  },
  {
   "cell_type": "markdown",
   "metadata": {},
   "source": [
    "# States tests"
   ]
  },
  {
   "cell_type": "code",
   "execution_count": 18,
   "metadata": {},
   "outputs": [
    {
     "name": "stdout",
     "output_type": "stream",
     "text": [
      "stat_fun(H1): min=-5.528916 max=3.513895\n",
      "Running initial clustering\n",
      "Found 489 clusters\n",
      "Permuting 1023 times...\n",
      "[..................................      ] 86.82171 \\    "
     ]
    },
    {
     "name": "stderr",
     "output_type": "stream",
     "text": [
      "[Parallel(n_jobs=4)]: Done   2 out of   4 | elapsed:  4.0min remaining:  4.0min\n"
     ]
    },
    {
     "name": "stdout",
     "output_type": "stream",
     "text": [
      "[....................................... ] 99.22481 |    Computing cluster p-values\n"
     ]
    },
    {
     "name": "stderr",
     "output_type": "stream",
     "text": [
      "[Parallel(n_jobs=4)]: Done   4 out of   4 | elapsed:  4.2min remaining:    0.0s\n",
      "[Parallel(n_jobs=4)]: Done   4 out of   4 | elapsed:  4.2min finished\n"
     ]
    },
    {
     "name": "stdout",
     "output_type": "stream",
     "text": [
      "Done.\n",
      "Writing STC to disk...\n",
      "[done]\n",
      "Writing STC to disk...\n",
      "[done]\n",
      "stat_fun(H1): min=-6.958375 max=4.619963\n",
      "Running initial clustering\n",
      "Found 389 clusters\n",
      "Permuting 1023 times...\n",
      "[..................................      ] 86.82171 \\    "
     ]
    },
    {
     "name": "stderr",
     "output_type": "stream",
     "text": [
      "[Parallel(n_jobs=4)]: Done   2 out of   4 | elapsed:  3.8min remaining:  3.8min\n"
     ]
    },
    {
     "name": "stdout",
     "output_type": "stream",
     "text": [
      "[....................................... ] 99.22481 |    "
     ]
    },
    {
     "name": "stderr",
     "output_type": "stream",
     "text": [
      "[Parallel(n_jobs=4)]: Done   4 out of   4 | elapsed:  4.0min remaining:    0.0s\n",
      "[Parallel(n_jobs=4)]: Done   4 out of   4 | elapsed:  4.0min finished\n"
     ]
    },
    {
     "name": "stdout",
     "output_type": "stream",
     "text": [
      "Computing cluster p-values\n",
      "Done.\n",
      "Writing STC to disk...\n",
      "[done]\n",
      "Writing STC to disk...\n",
      "[done]\n"
     ]
    }
   ],
   "source": [
    "for key,val in paired_tests.items():\n",
    "    clu[key] = cluster_perm_test(stc.loc[val[0],val[2],start:stop].values, stc.loc[val[1],val[2],start:stop].values, stat_file=stat_file, test_key=key, times=stc.loc[:,:,start:stop].time.values, vertices=vertno, connectivity=connectivity, paired=True)"
   ]
  },
  {
   "cell_type": "code",
   "execution_count": 14,
   "metadata": {},
   "outputs": [
    {
     "name": "stdout",
     "output_type": "stream",
     "text": [
      "stat_fun(H1): min=-4.626214 max=3.502408\n",
      "Running initial clustering\n",
      "Found 234 clusters\n",
      "Permuting 1023 times...\n",
      "[..................................      ] 86.82171 \\    "
     ]
    },
    {
     "name": "stderr",
     "output_type": "stream",
     "text": [
      "[Parallel(n_jobs=4)]: Done   2 out of   4 | elapsed:  2.4min remaining:  2.4min\n"
     ]
    },
    {
     "name": "stdout",
     "output_type": "stream",
     "text": [
      "[....................................... ] 99.22481 |    Computing cluster p-values\n"
     ]
    },
    {
     "name": "stderr",
     "output_type": "stream",
     "text": [
      "[Parallel(n_jobs=4)]: Done   4 out of   4 | elapsed:  2.5min remaining:    0.0s\n",
      "[Parallel(n_jobs=4)]: Done   4 out of   4 | elapsed:  2.5min finished\n"
     ]
    },
    {
     "name": "stdout",
     "output_type": "stream",
     "text": [
      "Done.\n",
      "\t RS_vs_FA 169.63150782399862 \n",
      "\t*****\n",
      "\n",
      "stat_fun(H1): min=-5.680200 max=4.164851\n",
      "Running initial clustering\n",
      "Found 296 clusters\n",
      "Permuting 1023 times...\n",
      "[..................................      ] 86.82171 \\    "
     ]
    },
    {
     "name": "stderr",
     "output_type": "stream",
     "text": [
      "[Parallel(n_jobs=4)]: Done   2 out of   4 | elapsed:  2.4min remaining:  2.4min\n"
     ]
    },
    {
     "name": "stdout",
     "output_type": "stream",
     "text": [
      "[....................................... ] 99.22481 |    Computing cluster p-values\n",
      "Done.\n"
     ]
    },
    {
     "name": "stderr",
     "output_type": "stream",
     "text": [
      "[Parallel(n_jobs=4)]: Done   4 out of   4 | elapsed:  2.5min remaining:    0.0s\n",
      "[Parallel(n_jobs=4)]: Done   4 out of   4 | elapsed:  2.5min finished\n"
     ]
    },
    {
     "name": "stdout",
     "output_type": "stream",
     "text": [
      "\t RS_vs_OM 152.66863139899942 \n",
      "\t*****\n",
      "\n",
      "stat_fun(H1): min=-4.290628 max=4.616922\n",
      "Running initial clustering\n",
      "Found 179 clusters\n",
      "Permuting 1023 times...\n",
      "[..................................      ] 86.82171 \\    "
     ]
    },
    {
     "name": "stderr",
     "output_type": "stream",
     "text": [
      "[Parallel(n_jobs=4)]: Done   2 out of   4 | elapsed:  2.4min remaining:  2.4min\n"
     ]
    },
    {
     "name": "stdout",
     "output_type": "stream",
     "text": [
      "[....................................... ] 99.22481 |    Computing cluster p-values\n",
      "Done.\n"
     ]
    },
    {
     "name": "stderr",
     "output_type": "stream",
     "text": [
      "[Parallel(n_jobs=4)]: Done   4 out of   4 | elapsed:  2.5min remaining:    0.0s\n",
      "[Parallel(n_jobs=4)]: Done   4 out of   4 | elapsed:  2.5min finished\n"
     ]
    },
    {
     "name": "stdout",
     "output_type": "stream",
     "text": [
      "\t OM_vs_FA 150.30747045799944 \n",
      "\t*****\n",
      "\n",
      "stat_fun(H1): min=-8.467896 max=6.104340\n",
      "Running initial clustering\n",
      "Found 275 clusters\n",
      "Permuting 1023 times...\n",
      "[....................................... ] 99.22481 |    "
     ]
    },
    {
     "name": "stderr",
     "output_type": "stream",
     "text": [
      "[Parallel(n_jobs=4)]: Done   2 out of   4 | elapsed:  1.6min remaining:  1.6min\n"
     ]
    },
    {
     "name": "stdout",
     "output_type": "stream",
     "text": [
      "Computing cluster p-values\n",
      "Done.\n"
     ]
    },
    {
     "name": "stderr",
     "output_type": "stream",
     "text": [
      "[Parallel(n_jobs=4)]: Done   4 out of   4 | elapsed:  1.6min remaining:    0.0s\n",
      "[Parallel(n_jobs=4)]: Done   4 out of   4 | elapsed:  1.6min finished\n"
     ]
    },
    {
     "name": "stdout",
     "output_type": "stream",
     "text": [
      "\t RS_vs_FA+E 96.18219719400076 \n",
      "\t*****\n",
      "\n",
      "stat_fun(H1): min=-7.390697 max=4.751567\n",
      "Running initial clustering\n",
      "Found 259 clusters\n",
      "Permuting 1023 times...\n",
      "[..................................      ] 86.82171 \\    "
     ]
    },
    {
     "name": "stderr",
     "output_type": "stream",
     "text": [
      "[Parallel(n_jobs=4)]: Done   2 out of   4 | elapsed:  1.6min remaining:  1.6min\n"
     ]
    },
    {
     "name": "stdout",
     "output_type": "stream",
     "text": [
      "[....................................... ] 99.22481 |    Computing cluster p-values\n",
      "Done.\n"
     ]
    },
    {
     "name": "stderr",
     "output_type": "stream",
     "text": [
      "[Parallel(n_jobs=4)]: Done   4 out of   4 | elapsed:  1.7min remaining:    0.0s\n",
      "[Parallel(n_jobs=4)]: Done   4 out of   4 | elapsed:  1.7min finished\n"
     ]
    },
    {
     "name": "stdout",
     "output_type": "stream",
     "text": [
      "\t RS_vs_OM+E 102.94059272800041 \n",
      "\t*****\n",
      "\n",
      "stat_fun(H1): min=-7.675212 max=5.501048\n",
      "Running initial clustering\n",
      "Found 200 clusters\n",
      "Permuting 1023 times...\n",
      "[..................................      ] 86.82171 \\    "
     ]
    },
    {
     "name": "stderr",
     "output_type": "stream",
     "text": [
      "[Parallel(n_jobs=4)]: Done   2 out of   4 | elapsed:  1.6min remaining:  1.6min\n"
     ]
    },
    {
     "name": "stdout",
     "output_type": "stream",
     "text": [
      "[....................................... ] 99.22481 |    Computing cluster p-values\n",
      "Done.\n"
     ]
    },
    {
     "name": "stderr",
     "output_type": "stream",
     "text": [
      "[Parallel(n_jobs=4)]: Done   4 out of   4 | elapsed:  1.7min remaining:    0.0s\n",
      "[Parallel(n_jobs=4)]: Done   4 out of   4 | elapsed:  1.7min finished\n"
     ]
    },
    {
     "name": "stdout",
     "output_type": "stream",
     "text": [
      "\t OM_vs_FA+E 105.5489469740005 \n",
      "\t*****\n",
      "\n",
      "stat_fun(H1): min=-5.068683 max=4.240074\n",
      "Running initial clustering\n",
      "Found 197 clusters\n",
      "Permuting 1023 times...\n",
      "[...................................     ] 87.84314 \\    "
     ]
    },
    {
     "name": "stderr",
     "output_type": "stream",
     "text": [
      "[Parallel(n_jobs=4)]: Done   2 out of   4 | elapsed:  2.0min remaining:  2.0min\n"
     ]
    },
    {
     "name": "stdout",
     "output_type": "stream",
     "text": [
      "[....................................... ] 99.22481 |    Computing cluster p-values\n",
      "Done.\n"
     ]
    },
    {
     "name": "stderr",
     "output_type": "stream",
     "text": [
      "[Parallel(n_jobs=4)]: Done   4 out of   4 | elapsed:  2.1min remaining:    0.0s\n",
      "[Parallel(n_jobs=4)]: Done   4 out of   4 | elapsed:  2.1min finished\n"
     ]
    },
    {
     "name": "stdout",
     "output_type": "stream",
     "text": [
      "\t RS_vs_FA+N 129.3351460440008 \n",
      "\t*****\n",
      "\n",
      "stat_fun(H1): min=-6.584049 max=4.284856\n",
      "Running initial clustering\n",
      "Found 296 clusters\n",
      "Permuting 1023 times...\n",
      "[..................................      ] 86.82171 \\    "
     ]
    },
    {
     "name": "stderr",
     "output_type": "stream",
     "text": [
      "[Parallel(n_jobs=4)]: Done   2 out of   4 | elapsed:  2.1min remaining:  2.1min\n"
     ]
    },
    {
     "name": "stdout",
     "output_type": "stream",
     "text": [
      "[....................................... ] 99.22481 |    Computing cluster p-values\n",
      "Done.\n"
     ]
    },
    {
     "name": "stderr",
     "output_type": "stream",
     "text": [
      "[Parallel(n_jobs=4)]: Done   4 out of   4 | elapsed:  2.2min remaining:    0.0s\n",
      "[Parallel(n_jobs=4)]: Done   4 out of   4 | elapsed:  2.2min finished\n"
     ]
    },
    {
     "name": "stdout",
     "output_type": "stream",
     "text": [
      "\t RS_vs_OM+N 136.5098531069998 \n",
      "\t*****\n",
      "\n",
      "stat_fun(H1): min=-4.872277 max=4.821694\n",
      "Running initial clustering\n",
      "Found 221 clusters\n",
      "Permuting 1023 times...\n",
      "[..................................      ] 86.82171 \\    "
     ]
    },
    {
     "name": "stderr",
     "output_type": "stream",
     "text": [
      "[Parallel(n_jobs=4)]: Done   2 out of   4 | elapsed:  2.0min remaining:  2.0min\n"
     ]
    },
    {
     "name": "stdout",
     "output_type": "stream",
     "text": [
      "[....................................... ] 99.22481 |    "
     ]
    },
    {
     "name": "stderr",
     "output_type": "stream",
     "text": [
      "[Parallel(n_jobs=4)]: Done   4 out of   4 | elapsed:  2.1min remaining:    0.0s\n",
      "[Parallel(n_jobs=4)]: Done   4 out of   4 | elapsed:  2.1min finished\n"
     ]
    },
    {
     "name": "stdout",
     "output_type": "stream",
     "text": [
      "Computing cluster p-values\n",
      "Done.\n",
      "\t OM_vs_FA+N 130.39482248700006 \n",
      "\t*****\n",
      "\n",
      "stat_fun(H1): min=0.000000 max=18.776765\n",
      "Running initial clustering\n",
      "Found 151 clusters\n",
      "Permuting 1023 times...\n",
      "[...................................     ] 87.84314 \\    "
     ]
    },
    {
     "name": "stderr",
     "output_type": "stream",
     "text": [
      "[Parallel(n_jobs=4)]: Done   2 out of   4 | elapsed:  8.6min remaining:  8.6min\n"
     ]
    },
    {
     "name": "stdout",
     "output_type": "stream",
     "text": [
      "[...................................     ] 87.84314 \\    Computing cluster p-values\n",
      "Done.\n"
     ]
    },
    {
     "name": "stderr",
     "output_type": "stream",
     "text": [
      "[Parallel(n_jobs=4)]: Done   4 out of   4 | elapsed: 10.0min remaining:    0.0s\n",
      "[Parallel(n_jobs=4)]: Done   4 out of   4 | elapsed: 10.0min finished\n"
     ]
    },
    {
     "name": "stdout",
     "output_type": "stream",
     "text": [
      "\t N_vs_E+RS 600.5693754920012 \n",
      "\t*****\n",
      "\n",
      "stat_fun(H1): min=0.000000 max=25.242872\n",
      "Running initial clustering\n",
      "Found 215 clusters\n",
      "Permuting 1023 times...\n",
      "[....................................... ] 99.22481 |    "
     ]
    },
    {
     "name": "stderr",
     "output_type": "stream",
     "text": [
      "[Parallel(n_jobs=4)]: Done   2 out of   4 | elapsed:  8.2min remaining:  8.2min\n"
     ]
    },
    {
     "name": "stdout",
     "output_type": "stream",
     "text": [
      "[...................................     ] 87.84314 \\    Computing cluster p-values\n",
      "Done.\n"
     ]
    },
    {
     "name": "stderr",
     "output_type": "stream",
     "text": [
      "[Parallel(n_jobs=4)]: Done   4 out of   4 | elapsed:  9.8min remaining:    0.0s\n",
      "[Parallel(n_jobs=4)]: Done   4 out of   4 | elapsed:  9.8min finished\n"
     ]
    },
    {
     "name": "stdout",
     "output_type": "stream",
     "text": [
      "\t N_vs_E+FA 591.4444586299996 \n",
      "\t*****\n",
      "\n",
      "stat_fun(H1): min=0.000000 max=17.606169\n",
      "Running initial clustering\n",
      "Found 165 clusters\n",
      "Permuting 1023 times...\n",
      "[..................................      ] 86.82171 \\    "
     ]
    },
    {
     "name": "stderr",
     "output_type": "stream",
     "text": [
      "[Parallel(n_jobs=4)]: Done   2 out of   4 | elapsed:  7.7min remaining:  7.7min\n"
     ]
    },
    {
     "name": "stdout",
     "output_type": "stream",
     "text": [
      "[....................................... ] 99.22481 |    Computing cluster p-values\n",
      "Done.\n"
     ]
    },
    {
     "name": "stderr",
     "output_type": "stream",
     "text": [
      "[Parallel(n_jobs=4)]: Done   4 out of   4 | elapsed:  8.3min remaining:    0.0s\n",
      "[Parallel(n_jobs=4)]: Done   4 out of   4 | elapsed:  8.3min finished\n"
     ]
    },
    {
     "name": "stdout",
     "output_type": "stream",
     "text": [
      "\t N_vs_E+OM 502.1760436989989 \n",
      "\t*****\n",
      "\n",
      "stat_fun(H1): min=0.000000 max=21.111734\n",
      "Running initial clustering\n",
      "Found 405 clusters\n",
      "Permuting 1023 times...\n",
      "[..................................      ] 86.82171 \\    "
     ]
    },
    {
     "name": "stderr",
     "output_type": "stream",
     "text": [
      "[Parallel(n_jobs=4)]: Done   2 out of   4 | elapsed:  8.6min remaining:  8.6min\n"
     ]
    },
    {
     "name": "stdout",
     "output_type": "stream",
     "text": [
      "[....................................... ] 99.22481 |    Computing cluster p-values\n",
      "Done.\n"
     ]
    },
    {
     "name": "stderr",
     "output_type": "stream",
     "text": [
      "[Parallel(n_jobs=4)]: Done   4 out of   4 | elapsed:  8.9min remaining:    0.0s\n",
      "[Parallel(n_jobs=4)]: Done   4 out of   4 | elapsed:  8.9min finished\n"
     ]
    },
    {
     "name": "stdout",
     "output_type": "stream",
     "text": [
      "\t N_vs_E+FA-RS 538.6679550659992 \n",
      "\t*****\n",
      "\n",
      "stat_fun(H1): min=0.000000 max=23.087633\n",
      "Running initial clustering\n",
      "Found 452 clusters\n",
      "Permuting 1023 times...\n",
      "[..................................      ] 86.82171 \\    "
     ]
    },
    {
     "name": "stderr",
     "output_type": "stream",
     "text": [
      "[Parallel(n_jobs=4)]: Done   2 out of   4 | elapsed:  8.3min remaining:  8.3min\n"
     ]
    },
    {
     "name": "stdout",
     "output_type": "stream",
     "text": [
      "[....................................... ] 99.22481 |    Computing cluster p-values\n",
      "Done.\n"
     ]
    },
    {
     "name": "stderr",
     "output_type": "stream",
     "text": [
      "[Parallel(n_jobs=4)]: Done   4 out of   4 | elapsed:  8.6min remaining:    0.0s\n",
      "[Parallel(n_jobs=4)]: Done   4 out of   4 | elapsed:  8.6min finished\n"
     ]
    },
    {
     "name": "stdout",
     "output_type": "stream",
     "text": [
      "\t N_vs_E+OM-RS 521.5901186310002 \n",
      "\t*****\n",
      "\n",
      "stat_fun(H1): min=0.000000 max=29.058168\n",
      "Running initial clustering\n",
      "Found 392 clusters\n",
      "Permuting 1023 times...\n",
      "[....................................... ] 99.22481 |    "
     ]
    },
    {
     "name": "stderr",
     "output_type": "stream",
     "text": [
      "[Parallel(n_jobs=4)]: Done   2 out of   4 | elapsed:  8.4min remaining:  8.4min\n"
     ]
    },
    {
     "name": "stdout",
     "output_type": "stream",
     "text": [
      "Computing cluster p-values\n",
      "Done.\n"
     ]
    },
    {
     "name": "stderr",
     "output_type": "stream",
     "text": [
      "[Parallel(n_jobs=4)]: Done   4 out of   4 | elapsed:  8.4min remaining:    0.0s\n",
      "[Parallel(n_jobs=4)]: Done   4 out of   4 | elapsed:  8.4min finished\n"
     ]
    },
    {
     "name": "stdout",
     "output_type": "stream",
     "text": [
      "\t N_vs_E+FA-OM 509.4705776610008 \n",
      "\t*****\n",
      "\n",
      "\n",
      "*****\n",
      "Total running time: 4437.454123295\n"
     ]
    }
   ],
   "source": [
    "t0 = time.perf_counter()\n",
    "ti = t0\n",
    "test_key = 'RS_vs_FA'\n",
    "T_obs[test_key], clusters[test_key], cluster_pv[test_key], H0[test_key] = clu[test_key] = cluster_perm_test(stc.loc['RS',:,start:stop].values, stc.loc['FA',:,start:stop].values, stat_file=stat_file, test_key=test_key, times=stc.time.loc[start:stop], vertices=vertno, connectivity=connectivity, paired=True)\n",
    "print('\\t',test_key, time.perf_counter()-ti,'\\n\\t*****\\n')\n",
    "ti = time.perf_counter()\n",
    "\n",
    "test_key = 'RS_vs_OM'\n",
    "T_obs[test_key], clusters[test_key], cluster_pv[test_key], H0[test_key] = clu[test_key] = cluster_perm_test(stc.loc['RS',:,start:stop].values, stc.loc['OM',:,start:stop].values, stat_file=stat_file, test_key=test_key, times=stc.time.loc[start:stop], vertices=vertno, connectivity=connectivity, paired=True)\n",
    "print('\\t',test_key, time.perf_counter()-ti,'\\n\\t*****\\n')\n",
    "ti = time.perf_counter()\n",
    "\n",
    "test_key = 'OM_vs_FA'\n",
    "T_obs[test_key], clusters[test_key], cluster_pv[test_key], H0[test_key] = clu[test_key] = cluster_perm_test(stc.loc['OM',:,start:stop].values, stc.loc['FA',:,start:stop].values, stat_file=stat_file, test_key=test_key, times=stc.time.loc[start:stop], vertices=vertno, connectivity=connectivity, paired=True)\n",
    "print('\\t',test_key, time.perf_counter()-ti,'\\n\\t*****\\n')\n",
    "ti = time.perf_counter()\n",
    "\n",
    "test_key = 'RS_vs_FA+E'\n",
    "T_obs[test_key], clusters[test_key], cluster_pv[test_key], H0[test_key] = clu[test_key] = cluster_perm_test(stc.loc['RS',experts,start:stop].values, stc.loc['FA',experts,start:stop].values, stat_file=stat_file, test_key=test_key, times=stc.time.loc[start:stop], vertices=vertno, connectivity=connectivity, paired=True)\n",
    "print('\\t',test_key, time.perf_counter()-ti,'\\n\\t*****\\n')\n",
    "ti = time.perf_counter()\n",
    "\n",
    "test_key = 'RS_vs_OM+E'\n",
    "T_obs[test_key], clusters[test_key], cluster_pv[test_key], H0[test_key] = clu[test_key] = cluster_perm_test(stc.loc['RS',experts,start:stop].values, stc.loc['OM',experts,start:stop].values, stat_file=stat_file, test_key=test_key, times=stc.time.loc[start:stop], vertices=vertno, connectivity=connectivity, paired=True)\n",
    "print('\\t',test_key, time.perf_counter()-ti,'\\n\\t*****\\n')\n",
    "ti = time.perf_counter()\n",
    "\n",
    "test_key = 'OM_vs_FA+E'\n",
    "T_obs[test_key], clusters[test_key], cluster_pv[test_key], H0[test_key] = clu[test_key] = cluster_perm_test(stc.loc['OM',experts,start:stop].values, stc.loc['FA',experts,start:stop].values, stat_file=stat_file, test_key=test_key, times=stc.time.loc[start:stop], vertices=vertno, connectivity=connectivity, paired=True)\n",
    "print('\\t',test_key, time.perf_counter()-ti,'\\n\\t*****\\n')\n",
    "ti = time.perf_counter()\n",
    "\n",
    "test_key = 'RS_vs_FA+N'\n",
    "T_obs[test_key], clusters[test_key], cluster_pv[test_key], H0[test_key] = clu[test_key] = cluster_perm_test(stc.loc['RS',novices,start:stop].values, stc.loc['FA',novices,start:stop].values, stat_file=stat_file, test_key=test_key, times=stc.time.loc[start:stop], vertices=vertno, connectivity=connectivity, paired=True)\n",
    "print('\\t',test_key, time.perf_counter()-ti,'\\n\\t*****\\n')\n",
    "ti = time.perf_counter()\n",
    "\n",
    "test_key = 'RS_vs_OM+N'\n",
    "T_obs[test_key], clusters[test_key], cluster_pv[test_key], H0[test_key] = clu[test_key] = cluster_perm_test(stc.loc['RS',novices,start:stop].values, stc.loc['OM',novices,start:stop].values, stat_file=stat_file, test_key=test_key, times=stc.time.loc[start:stop], vertices=vertno, connectivity=connectivity, paired=True)\n",
    "print('\\t',test_key, time.perf_counter()-ti,'\\n\\t*****\\n')\n",
    "ti = time.perf_counter()\n",
    "\n",
    "test_key = 'OM_vs_FA+N'\n",
    "T_obs[test_key], clusters[test_key], cluster_pv[test_key], H0[test_key] = clu[test_key] = cluster_perm_test(stc.loc['OM',novices,start:stop].values, stc.loc['FA',novices,start:stop].values, stat_file=stat_file, test_key=test_key, times=stc.time.loc[start:stop], vertices=vertno, connectivity=connectivity, paired=True)\n",
    "print('\\t',test_key, time.perf_counter()-ti,'\\n\\t*****\\n')\n",
    "ti = time.perf_counter()\n",
    "\n",
    "\n",
    "test_key = 'N_vs_E+RS'\n",
    "T_obs[test_key], clusters[test_key], cluster_pv[test_key], H0[test_key] = clu[test_key] = cluster_perm_test(stc.loc['RS',novices,start:stop].values, stc.loc['RS',experts,start:stop].values, stat_file=stat_file, test_key=test_key, times=stc.time.loc[start:stop], vertices=vertno, connectivity=connectivity)\n",
    "print('\\t',test_key, time.perf_counter()-ti,'\\n\\t*****\\n')\n",
    "ti = time.perf_counter()\n",
    "\n",
    "test_key = 'N_vs_E+FA'\n",
    "T_obs[test_key], clusters[test_key], cluster_pv[test_key], H0[test_key] = clu[test_key] = cluster_perm_test(stc.loc['FA',novices,start:stop].values, stc.loc['FA',experts,start:stop].values, stat_file=stat_file, test_key=test_key, times=stc.time.loc[start:stop], vertices=vertno, connectivity=connectivity)\n",
    "print('\\t',test_key, time.perf_counter()-ti,'\\n\\t*****\\n')\n",
    "ti = time.perf_counter()\n",
    "\n",
    "test_key = 'N_vs_E+OM'\n",
    "T_obs[test_key], clusters[test_key], cluster_pv[test_key], H0[test_key] = clu[test_key] = cluster_perm_test(stc.loc['OM',novices,start:stop].values, stc.loc['OM',experts,start:stop].values, stat_file=stat_file, test_key=test_key, times=stc.time.loc[start:stop], vertices=vertno, connectivity=connectivity)\n",
    "print('\\t',test_key, time.perf_counter()-ti,'\\n\\t*****\\n')\n",
    "ti = time.perf_counter()\n",
    "\n",
    "test_key = 'N_vs_E+FA-RS'\n",
    "T_obs[test_key], clusters[test_key], cluster_pv[test_key], H0[test_key] = clu[test_key] = cluster_perm_test(stc.loc['FA',novices,start:stop].values-stc.loc['RS',novices,start:stop].values, stc.loc['FA',experts,start:stop].values-stc.loc['RS',experts,start:stop].values, stat_file=stat_file, test_key=test_key, times=stc.time.loc[start:stop], vertices=vertno, connectivity=connectivity)\n",
    "print('\\t',test_key, time.perf_counter()-ti,'\\n\\t*****\\n')\n",
    "ti = time.perf_counter()\n",
    "\n",
    "test_key = 'N_vs_E+OM-RS'\n",
    "T_obs[test_key], clusters[test_key], cluster_pv[test_key], H0[test_key] = clu[test_key] = cluster_perm_test(stc.loc['OM',novices,start:stop].values-stc.loc['RS',novices,start:stop].values, stc.loc['OM',experts,start:stop].values-stc.loc['RS',experts,start:stop].values, stat_file=stat_file, test_key=test_key, times=stc.time.loc[start:stop], vertices=vertno, connectivity=connectivity)\n",
    "print('\\t',test_key, time.perf_counter()-ti,'\\n\\t*****\\n')\n",
    "ti = time.perf_counter()\n",
    "\n",
    "test_key = 'N_vs_E+FA-OM'\n",
    "T_obs[test_key], clusters[test_key], cluster_pv[test_key], H0[test_key] = clu[test_key] = cluster_perm_test(stc.loc['FA',novices,start:stop].values-stc.loc['OM',novices,start:stop].values, stc.loc['FA',experts,start:stop].values-stc.loc['OM',experts,start:stop].values, stat_file=stat_file, test_key=test_key, times=stc.time.loc[start:stop], vertices=vertno, connectivity=connectivity)\n",
    "print('\\t',test_key, time.perf_counter()-ti,'\\n\\t*****\\n')\n",
    "ti = time.perf_counter()\n",
    "\n",
    "\n",
    "T = ti - t0\n",
    "print('\\n*****\\nTotal running time:', T)"
   ]
  },
  {
   "cell_type": "code",
   "execution_count": 3,
   "metadata": {},
   "outputs": [],
   "source": [
    "names = ['T_ECG_included', 'T_ECG_excluded']#'R_ECG_included', 'R_ECG_excluded', \n",
    "name = names[0]\n",
    "noise_cov = 'empty_room_cov'\n",
    "sfreq = 200\n",
    "win = (-.175,-.075)#(.1,.2)\n",
    "surface = 'ico4'\n",
    "\n",
    "stc = dict()\n",
    "for i,w in enumerate([(-.175,-.075),(.1,.2)]):\n",
    "    data_file = op.join(Analysis_path, task, 'meg', 'SourceEstimate', 'fsaverage', 'DATASET-{}-surface_{}-{}_{}-{}Hz.nc'.format(noise_cov, surface, *w, sfreq))\n",
    "    stc[i] = xr.open_dataarray(data_file, name)\n",
    "    stc[i].load()"
   ]
  },
  {
   "cell_type": "code",
   "execution_count": 4,
   "metadata": {},
   "outputs": [],
   "source": [
    "T_obs=dict(); clusters=dict(); cluster_pv=dict(); H0=dict(); clu=dict()\n",
    "vertno = np.arange(stc[0].shape[-1]/2, dtype=int)\n",
    "\n",
    "stat_path = op.join(Analysis_path, task, 'meg', 'Stats', 'baseline')\n",
    "os.makedirs(stat_path, exist_ok=True)\n",
    "stat_file = op.join(stat_path, '{}-{}-surface_{}-{}Hz-baseline.nc'.format(name, noise_cov, surface, sfreq))"
   ]
  },
  {
   "cell_type": "code",
   "execution_count": null,
   "metadata": {},
   "outputs": [],
   "source": [
    "test_key = 'RS'\n",
    "T_obs[test_key], clusters[test_key], cluster_pv[test_key], H0[test_key] = clu[test_key] = cluster_perm_test(stc[1].loc['RS'].values, stc[0].loc['RS'].values, stat_file=stat_file, test_key=test_key, times=stc[0].time, vertices=vertno, connectivity=connectivity, paired=True)\n",
    "test_key = 'FA'\n",
    "T_obs[test_key], clusters[test_key], cluster_pv[test_key], H0[test_key] = clu[test_key] = cluster_perm_test(stc[1].loc['FA'].values, stc[0].loc['FA'].values, stat_file=stat_file, test_key=test_key, times=stc[0].time, vertices=vertno, connectivity=connectivity, paired=True)\n",
    "test_key = 'OM'\n",
    "T_obs[test_key], clusters[test_key], cluster_pv[test_key], H0[test_key] = clu[test_key] = cluster_perm_test(stc[1].loc['OM'].values, stc[0].loc['OM'].values, stat_file=stat_file, test_key=test_key, times=stc[0].time, vertices=vertno, connectivity=connectivity, paired=True)\n"
   ]
  },
  {
   "cell_type": "code",
   "execution_count": 5,
   "metadata": {},
   "outputs": [],
   "source": [
    "def cluster_perm_test1(X1, X2, stat_file, test_key, times=None, vertices=None, mode='a', connectivity='ico5', paired=False):\n",
    "    \"\"\"\n",
    "    If paired, test X1-X2.\n",
    "    Input: arrays of shape (subjects, time, space)\n",
    "    \"\"\"\n",
    "    if not isinstance(X2, (np.ndarray, xr.DataArray)):\n",
    "        X2 = np.zeros(X1.shape)\n",
    "    \n",
    "    if type(connectivity) is str:\n",
    "        connectivity = mne.spatial_tris_connectivity(mne.grade_to_tris(int(connectivity[-1])))\n",
    "    \n",
    "    if paired:\n",
    "        X = X1 - X2\n",
    "        T_obs, clusters, cluster_pv, H0 = permutation_cluster_1samp_test(X, connectivity=connectivity, n_jobs=4)\n",
    "    else:\n",
    "        T_obs, clusters, cluster_pv, H0 = permutation_cluster_test([X1,X2], connectivity=connectivity, n_jobs=4)\n",
    "    \n",
    "    p_val = np.ones(T_obs.shape)\n",
    "    clu_inds = np.zeros(T_obs.shape)\n",
    "    \n",
    "    for c,clu in enumerate(clusters):\n",
    "        p_val[clu] = cluster_pv[c]\n",
    "        clu_inds[clu] = c+1\n",
    "    \n",
    "    if times is not None:\n",
    "        stats = np.zeros((3, *T_obs.shape))\n",
    "        stats = xr.DataArray(stats, dims=['data', 'time'], coords={'data':['T_stat', 'p_val', 'clu_inds'], 'time':times})\n",
    "        stats.loc['T_stat'] = T_obs\n",
    "        stats.loc['p_val'] = p_val\n",
    "        stats.loc['clu_inds'] = clu_inds\n",
    "    \n",
    "    if vertices is not None:\n",
    "        stats = np.zeros((3, 2, len(vertices)))\n",
    "        stats = xr.DataArray(stats, dims=['data', 'hemisphere', 'src'], coords={'data':['T_stat', 'p_val', 'clu_inds'], 'hemisphere':['left', 'right'], 'src':vertices})\n",
    "        for h,hemi in enumerate(['left', 'right']):\n",
    "            i = h + 1\n",
    "            h *= len(vertices)\n",
    "            i *= len(vertices)\n",
    "            stats.loc['T_stat', hemi] = T_obs[h:i]\n",
    "            stats.loc['p_val', hemi] = p_val[h:i]\n",
    "            stats.loc['clu_inds', hemi] = clu_inds[h:i]\n",
    "    \n",
    "    os.makedirs(op.split(stat_file)[0], exist_ok=True)\n",
    "    if not op.isfile(stat_file):\n",
    "        mode = 'w'\n",
    "    \n",
    "    stats.to_netcdf(path=stat_file, group=test_key, mode=mode)\n",
    "    \n",
    "    return T_obs, clusters, cluster_pv, H0"
   ]
  },
  {
   "cell_type": "code",
   "execution_count": 8,
   "metadata": {},
   "outputs": [
    {
     "name": "stdout",
     "output_type": "stream",
     "text": [
      "Using a threshold of 2.034515\n",
      "stat_fun(H1): min=-3.472786 max=3.569783\n",
      "Running initial clustering\n",
      "Found 81 clusters\n",
      "Permuting 1023 times...\n"
     ]
    },
    {
     "name": "stderr",
     "output_type": "stream",
     "text": [
      "[Parallel(n_jobs=4)]: Done   2 out of   4 | elapsed:  2.0min remaining:  2.0min\n",
      "[Parallel(n_jobs=4)]: Done   4 out of   4 | elapsed:  2.0min remaining:    0.0s\n",
      "[Parallel(n_jobs=4)]: Done   4 out of   4 | elapsed:  2.0min finished\n"
     ]
    },
    {
     "name": "stdout",
     "output_type": "stream",
     "text": [
      "Computing cluster p-values\n",
      "Done.\n",
      "Using a threshold of 2.034515\n",
      "stat_fun(H1): min=-4.245138 max=2.861377\n",
      "Running initial clustering\n",
      "Found 66 clusters\n",
      "Permuting 1023 times...\n"
     ]
    },
    {
     "name": "stderr",
     "output_type": "stream",
     "text": [
      "[Parallel(n_jobs=4)]: Done   2 out of   4 | elapsed:  2.2min remaining:  2.2min\n",
      "[Parallel(n_jobs=4)]: Done   4 out of   4 | elapsed:  2.3min remaining:    0.0s\n",
      "[Parallel(n_jobs=4)]: Done   4 out of   4 | elapsed:  2.3min finished\n"
     ]
    },
    {
     "name": "stdout",
     "output_type": "stream",
     "text": [
      "Computing cluster p-values\n",
      "Done.\n",
      "Using a threshold of 2.034515\n",
      "stat_fun(H1): min=-3.930486 max=3.650433\n",
      "Running initial clustering\n",
      "Found 71 clusters\n",
      "Permuting 1023 times...\n"
     ]
    },
    {
     "name": "stderr",
     "output_type": "stream",
     "text": [
      "[Parallel(n_jobs=4)]: Done   2 out of   4 | elapsed:  2.0min remaining:  2.0min\n",
      "[Parallel(n_jobs=4)]: Done   4 out of   4 | elapsed:  2.1min remaining:    0.0s\n",
      "[Parallel(n_jobs=4)]: Done   4 out of   4 | elapsed:  2.1min finished\n"
     ]
    },
    {
     "name": "stdout",
     "output_type": "stream",
     "text": [
      "Computing cluster p-values\n",
      "Done.\n"
     ]
    }
   ],
   "source": [
    "test_key = 'RS_t_avg'\n",
    "T_obs[test_key], clusters[test_key], cluster_pv[test_key], H0[test_key] = clu[test_key] = cluster_perm_test1(stc[1].loc['RS'].mean(dim='time').values, stc[0].loc['RS'].mean(dim='time').values, stat_file=stat_file, test_key=test_key, vertices=vertno, connectivity=connectivity, paired=True)\n",
    "test_key = 'FA_t_avg'\n",
    "T_obs[test_key], clusters[test_key], cluster_pv[test_key], H0[test_key] = clu[test_key] = cluster_perm_test1(stc[1].loc['FA'].mean(dim='time').values, stc[0].loc['FA'].mean(dim='time').values, stat_file=stat_file, test_key=test_key, vertices=vertno, connectivity=connectivity, paired=True)\n",
    "test_key = 'OM_t_avg'\n",
    "T_obs[test_key], clusters[test_key], cluster_pv[test_key], H0[test_key] = clu[test_key] = cluster_perm_test1(stc[1].loc['OM'].mean(dim='time').values, stc[0].loc['OM'].mean(dim='time').values, stat_file=stat_file, test_key=test_key, vertices=vertno, connectivity=connectivity, paired=True)\n"
   ]
  },
  {
   "cell_type": "code",
   "execution_count": null,
   "metadata": {},
   "outputs": [],
   "source": [
    "test_key = 'RS_avg'\n",
    "T_obs[test_key], clusters[test_key], cluster_pv[test_key], H0[test_key] = clu[test_key] = mne.stats.permutation_cluster_1samp_test(stc[1].loc['RS'].mean(dim='time').values - stc[0].loc['RS'].mean(dim='time').values, connectivity=connectivity, n_jobs=4)\n",
    "test_key = 'FA_avg'\n",
    "T_obs[test_key], clusters[test_key], cluster_pv[test_key], H0[test_key] = clu[test_key] = mne.stats.permutation_cluster_1samp_test(stc[1].loc['FA'].mean(dim='time').values - stc[0].loc['FA'].mean(dim='time').values, connectivity=connectivity, n_jobs=4)\n",
    "test_key = 'OM_avg'\n",
    "T_obs[test_key], clusters[test_key], cluster_pv[test_key], H0[test_key] = clu[test_key] = mne.stats.permutation_cluster_1samp_test(stc[1].loc['OM'].mean(dim='time').values - stc[0].loc['OM'].mean(dim='time').values, connectivity=connectivity, n_jobs=4)\n"
   ]
  },
  {
   "cell_type": "code",
   "execution_count": 15,
   "metadata": {},
   "outputs": [
    {
     "data": {
      "text/plain": [
       "<xarray.DataArray (subject: 34, time: 20, src: 20484)>\n",
       "array([[[ 2.008773,  2.415848, ...,  3.622698,  3.64611 ],\n",
       "        [ 2.621764,  1.310435, ...,  1.530294,  1.259914],\n",
       "        ...,\n",
       "        [ 3.962548,  1.117905, ...,  1.488668,  1.574307],\n",
       "        [ 4.025879,  1.885759, ...,  1.656659,  1.290358]],\n",
       "\n",
       "       [[ 4.133355,  0.232459, ...,  1.052002,  0.278649],\n",
       "        [ 2.540437,  0.676301, ...,  1.966223,  2.014599],\n",
       "        ...,\n",
       "        [ 1.747391,  1.61533 , ...,  0.507072,  0.705719],\n",
       "        [ 1.883386,  1.496186, ...,  1.206225,  1.12366 ]],\n",
       "\n",
       "       ...,\n",
       "\n",
       "       [[10.341312,  1.209733, ..., 10.001292, 13.398304],\n",
       "        [ 5.835235,  2.712691, ...,  9.20078 , 11.161971],\n",
       "        ...,\n",
       "        [ 3.612529,  0.464087, ...,  5.773848,  5.331923],\n",
       "        [ 4.28245 ,  0.745975, ...,  5.716484,  5.330768]],\n",
       "\n",
       "       [[ 1.972293,  3.949046, ...,  2.781159,  2.492463],\n",
       "        [ 2.52077 ,  4.748508, ...,  3.543824,  3.394486],\n",
       "        ...,\n",
       "        [ 4.166091,  0.753249, ...,  1.060799,  1.087189],\n",
       "        [ 4.014433,  0.360656, ...,  1.256087,  1.342975]]])\n",
       "Coordinates:\n",
       "  * subject  (subject) object '002' '004' '007' '010' '012' '014' '016' ...\n",
       "  * time     (time) float64 -0.175 -0.17 -0.165 -0.16 -0.155 -0.15 -0.145 ...\n",
       "  * src      (src) object 'lh_0' 'lh_1' 'lh_2' 'lh_3' 'lh_4' 'lh_5' 'lh_6' ...\n",
       "    state    <U2 'RS'"
      ]
     },
     "execution_count": 15,
     "metadata": {},
     "output_type": "execute_result"
    }
   ],
   "source": [
    "stc[0].loc['RS'].mean(dim='time')"
   ]
  },
  {
   "cell_type": "code",
   "execution_count": 10,
   "metadata": {},
   "outputs": [
    {
     "data": {
      "text/plain": [
       "0.245"
      ]
     },
     "execution_count": 10,
     "metadata": {},
     "output_type": "execute_result"
    }
   ],
   "source": [
    "stop"
   ]
  }
 ],
 "metadata": {
  "kernelspec": {
   "display_name": "Python 3",
   "language": "python",
   "name": "python3"
  },
  "language_info": {
   "codemirror_mode": {
    "name": "ipython",
    "version": 3
   },
   "file_extension": ".py",
   "mimetype": "text/x-python",
   "name": "python",
   "nbconvert_exporter": "python",
   "pygments_lexer": "ipython3",
   "version": "3.6.3"
  },
  "toc": {
   "base_numbering": 1,
   "nav_menu": {},
   "number_sections": true,
   "sideBar": true,
   "skip_h1_title": false,
   "title_cell": "Table of Contents",
   "title_sidebar": "Contents",
   "toc_cell": false,
   "toc_position": {},
   "toc_section_display": true,
   "toc_window_display": false
  }
 },
 "nbformat": 4,
 "nbformat_minor": 2
}
