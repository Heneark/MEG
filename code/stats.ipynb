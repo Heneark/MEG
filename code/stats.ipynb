{
 "cells": [
  {
   "cell_type": "code",
   "execution_count": 22,
   "metadata": {
    "ExecuteTime": {
     "end_time": "2018-05-31T16:28:38.455672Z",
     "start_time": "2018-05-31T16:28:38.029386Z"
    }
   },
   "outputs": [
    {
     "name": "stderr",
     "output_type": "stream",
     "text": [
      "/home/benjamin.ador/.local/lib/python3.5/site-packages/matplotlib/__init__.py:1414: UserWarning: \n",
      "This call to matplotlib.use() has no effect because the backend has already\n",
      "been chosen; matplotlib.use() must be called *before* pylab, matplotlib.pyplot,\n",
      "or matplotlib.backends is imported for the first time.\n",
      "\n",
      "The backend was *originally* set to 'TkAgg' by the following code:\n",
      "  File \"/usr/lib/python3.5/runpy.py\", line 184, in _run_module_as_main\n",
      "    \"__main__\", mod_spec)\n",
      "  File \"/usr/lib/python3.5/runpy.py\", line 85, in _run_code\n",
      "    exec(code, run_globals)\n",
      "  File \"/home/benjamin.ador/.local/lib/python3.5/site-packages/ipykernel_launcher.py\", line 16, in <module>\n",
      "    app.launch_new_instance()\n",
      "  File \"/home/benjamin.ador/.local/lib/python3.5/site-packages/traitlets/config/application.py\", line 658, in launch_instance\n",
      "    app.start()\n",
      "  File \"/home/benjamin.ador/.local/lib/python3.5/site-packages/ipykernel/kernelapp.py\", line 486, in start\n",
      "    self.io_loop.start()\n",
      "  File \"/home/benjamin.ador/.local/lib/python3.5/site-packages/tornado/platform/asyncio.py\", line 112, in start\n",
      "    self.asyncio_loop.run_forever()\n",
      "  File \"/usr/lib/python3.5/asyncio/base_events.py\", line 345, in run_forever\n",
      "    self._run_once()\n",
      "  File \"/usr/lib/python3.5/asyncio/base_events.py\", line 1312, in _run_once\n",
      "    handle._run()\n",
      "  File \"/usr/lib/python3.5/asyncio/events.py\", line 125, in _run\n",
      "    self._callback(*self._args)\n",
      "  File \"/home/benjamin.ador/.local/lib/python3.5/site-packages/tornado/platform/asyncio.py\", line 102, in _handle_events\n",
      "    handler_func(fileobj, events)\n",
      "  File \"/home/benjamin.ador/.local/lib/python3.5/site-packages/tornado/stack_context.py\", line 276, in null_wrapper\n",
      "    return fn(*args, **kwargs)\n",
      "  File \"/home/benjamin.ador/.local/lib/python3.5/site-packages/zmq/eventloop/zmqstream.py\", line 450, in _handle_events\n",
      "    self._handle_recv()\n",
      "  File \"/home/benjamin.ador/.local/lib/python3.5/site-packages/zmq/eventloop/zmqstream.py\", line 480, in _handle_recv\n",
      "    self._run_callback(callback, msg)\n",
      "  File \"/home/benjamin.ador/.local/lib/python3.5/site-packages/zmq/eventloop/zmqstream.py\", line 432, in _run_callback\n",
      "    callback(*args, **kwargs)\n",
      "  File \"/home/benjamin.ador/.local/lib/python3.5/site-packages/tornado/stack_context.py\", line 276, in null_wrapper\n",
      "    return fn(*args, **kwargs)\n",
      "  File \"/home/benjamin.ador/.local/lib/python3.5/site-packages/ipykernel/kernelbase.py\", line 283, in dispatcher\n",
      "    return self.dispatch_shell(stream, msg)\n",
      "  File \"/home/benjamin.ador/.local/lib/python3.5/site-packages/ipykernel/kernelbase.py\", line 233, in dispatch_shell\n",
      "    handler(stream, idents, msg)\n",
      "  File \"/home/benjamin.ador/.local/lib/python3.5/site-packages/ipykernel/kernelbase.py\", line 399, in execute_request\n",
      "    user_expressions, allow_stdin)\n",
      "  File \"/home/benjamin.ador/.local/lib/python3.5/site-packages/ipykernel/ipkernel.py\", line 208, in do_execute\n",
      "    res = shell.run_cell(code, store_history=store_history, silent=silent)\n",
      "  File \"/home/benjamin.ador/.local/lib/python3.5/site-packages/ipykernel/zmqshell.py\", line 537, in run_cell\n",
      "    return super(ZMQInteractiveShell, self).run_cell(*args, **kwargs)\n",
      "  File \"/home/benjamin.ador/.local/lib/python3.5/site-packages/IPython/core/interactiveshell.py\", line 2739, in run_cell\n",
      "    self.events.trigger('post_run_cell')\n",
      "  File \"/home/benjamin.ador/.local/lib/python3.5/site-packages/IPython/core/events.py\", line 73, in trigger\n",
      "    func(*args, **kwargs)\n",
      "  File \"/home/benjamin.ador/.local/lib/python3.5/site-packages/ipykernel/pylab/backend_inline.py\", line 160, in configure_once\n",
      "    activate_matplotlib(backend)\n",
      "  File \"/home/benjamin.ador/.local/lib/python3.5/site-packages/IPython/core/pylabtools.py\", line 308, in activate_matplotlib\n",
      "    matplotlib.pyplot.switch_backend(backend)\n",
      "  File \"/home/benjamin.ador/.local/lib/python3.5/site-packages/matplotlib/pyplot.py\", line 231, in switch_backend\n",
      "    matplotlib.use(newbackend, warn=False, force=True)\n",
      "  File \"/home/benjamin.ador/.local/lib/python3.5/site-packages/matplotlib/__init__.py\", line 1410, in use\n",
      "    reload(sys.modules['matplotlib.backends'])\n",
      "  File \"/usr/lib/python3.5/importlib/__init__.py\", line 166, in reload\n",
      "    _bootstrap._exec(spec, module)\n",
      "  File \"/home/benjamin.ador/.local/lib/python3.5/site-packages/matplotlib/backends/__init__.py\", line 16, in <module>\n",
      "    line for line in traceback.format_stack()\n",
      "\n",
      "\n",
      "  use(os.environ['MPLBACKEND'])\n",
      "/home/benjamin.ador/.local/lib/python3.5/site-packages/ipykernel_launcher.py:3: UserWarning: \n",
      "This call to matplotlib.use() has no effect because the backend has already\n",
      "been chosen; matplotlib.use() must be called *before* pylab, matplotlib.pyplot,\n",
      "or matplotlib.backends is imported for the first time.\n",
      "\n",
      "The backend was *originally* set to 'TkAgg' by the following code:\n",
      "  File \"/usr/lib/python3.5/runpy.py\", line 184, in _run_module_as_main\n",
      "    \"__main__\", mod_spec)\n",
      "  File \"/usr/lib/python3.5/runpy.py\", line 85, in _run_code\n",
      "    exec(code, run_globals)\n",
      "  File \"/home/benjamin.ador/.local/lib/python3.5/site-packages/ipykernel_launcher.py\", line 16, in <module>\n",
      "    app.launch_new_instance()\n",
      "  File \"/home/benjamin.ador/.local/lib/python3.5/site-packages/traitlets/config/application.py\", line 658, in launch_instance\n",
      "    app.start()\n",
      "  File \"/home/benjamin.ador/.local/lib/python3.5/site-packages/ipykernel/kernelapp.py\", line 486, in start\n",
      "    self.io_loop.start()\n",
      "  File \"/home/benjamin.ador/.local/lib/python3.5/site-packages/tornado/platform/asyncio.py\", line 112, in start\n",
      "    self.asyncio_loop.run_forever()\n",
      "  File \"/usr/lib/python3.5/asyncio/base_events.py\", line 345, in run_forever\n",
      "    self._run_once()\n",
      "  File \"/usr/lib/python3.5/asyncio/base_events.py\", line 1312, in _run_once\n",
      "    handle._run()\n",
      "  File \"/usr/lib/python3.5/asyncio/events.py\", line 125, in _run\n",
      "    self._callback(*self._args)\n",
      "  File \"/home/benjamin.ador/.local/lib/python3.5/site-packages/tornado/platform/asyncio.py\", line 102, in _handle_events\n",
      "    handler_func(fileobj, events)\n",
      "  File \"/home/benjamin.ador/.local/lib/python3.5/site-packages/tornado/stack_context.py\", line 276, in null_wrapper\n",
      "    return fn(*args, **kwargs)\n",
      "  File \"/home/benjamin.ador/.local/lib/python3.5/site-packages/zmq/eventloop/zmqstream.py\", line 450, in _handle_events\n",
      "    self._handle_recv()\n",
      "  File \"/home/benjamin.ador/.local/lib/python3.5/site-packages/zmq/eventloop/zmqstream.py\", line 480, in _handle_recv\n",
      "    self._run_callback(callback, msg)\n",
      "  File \"/home/benjamin.ador/.local/lib/python3.5/site-packages/zmq/eventloop/zmqstream.py\", line 432, in _run_callback\n",
      "    callback(*args, **kwargs)\n",
      "  File \"/home/benjamin.ador/.local/lib/python3.5/site-packages/tornado/stack_context.py\", line 276, in null_wrapper\n",
      "    return fn(*args, **kwargs)\n",
      "  File \"/home/benjamin.ador/.local/lib/python3.5/site-packages/ipykernel/kernelbase.py\", line 283, in dispatcher\n",
      "    return self.dispatch_shell(stream, msg)\n",
      "  File \"/home/benjamin.ador/.local/lib/python3.5/site-packages/ipykernel/kernelbase.py\", line 233, in dispatch_shell\n",
      "    handler(stream, idents, msg)\n",
      "  File \"/home/benjamin.ador/.local/lib/python3.5/site-packages/ipykernel/kernelbase.py\", line 399, in execute_request\n",
      "    user_expressions, allow_stdin)\n",
      "  File \"/home/benjamin.ador/.local/lib/python3.5/site-packages/ipykernel/ipkernel.py\", line 208, in do_execute\n",
      "    res = shell.run_cell(code, store_history=store_history, silent=silent)\n",
      "  File \"/home/benjamin.ador/.local/lib/python3.5/site-packages/ipykernel/zmqshell.py\", line 537, in run_cell\n",
      "    return super(ZMQInteractiveShell, self).run_cell(*args, **kwargs)\n",
      "  File \"/home/benjamin.ador/.local/lib/python3.5/site-packages/IPython/core/interactiveshell.py\", line 2739, in run_cell\n",
      "    self.events.trigger('post_run_cell')\n",
      "  File \"/home/benjamin.ador/.local/lib/python3.5/site-packages/IPython/core/events.py\", line 73, in trigger\n",
      "    func(*args, **kwargs)\n",
      "  File \"/home/benjamin.ador/.local/lib/python3.5/site-packages/ipykernel/pylab/backend_inline.py\", line 160, in configure_once\n",
      "    activate_matplotlib(backend)\n",
      "  File \"/home/benjamin.ador/.local/lib/python3.5/site-packages/IPython/core/pylabtools.py\", line 308, in activate_matplotlib\n",
      "    matplotlib.pyplot.switch_backend(backend)\n",
      "  File \"/home/benjamin.ador/.local/lib/python3.5/site-packages/matplotlib/pyplot.py\", line 231, in switch_backend\n",
      "    matplotlib.use(newbackend, warn=False, force=True)\n",
      "  File \"/home/benjamin.ador/.local/lib/python3.5/site-packages/matplotlib/__init__.py\", line 1410, in use\n",
      "    reload(sys.modules['matplotlib.backends'])\n",
      "  File \"/usr/lib/python3.5/importlib/__init__.py\", line 166, in reload\n",
      "    _bootstrap._exec(spec, module)\n",
      "  File \"/home/benjamin.ador/.local/lib/python3.5/site-packages/matplotlib/backends/__init__.py\", line 16, in <module>\n",
      "    line for line in traceback.format_stack()\n",
      "\n",
      "\n",
      "  This is separate from the ipykernel package so we can avoid doing imports until\n"
     ]
    }
   ],
   "source": [
    "import matplotlib\n",
    "matplotlib.use('Qt5Agg')\n",
    "from header import *\n",
    "import psutil\n",
    "from mne.stats import spatio_temporal_cluster_1samp_test, spatio_temporal_cluster_test, permutation_cluster_1samp_test, permutation_cluster_test\n",
    "from scipy.stats.distributions import f,t\n",
    "from tqdm import tqdm\n",
    "import visbrain\n",
    "from visbrain.objects import BrainObj, ColorbarObj, SceneObj, SourceObj\n",
    "import xarray as xr\n",
    "warnings.filterwarnings(\"ignore\",category=DeprecationWarning)"
   ]
  },
  {
   "cell_type": "code",
   "execution_count": 2,
   "metadata": {
    "ExecuteTime": {
     "end_time": "2018-05-31T16:28:49.581843Z",
     "start_time": "2018-05-31T16:28:49.549387Z"
    }
   },
   "outputs": [],
   "source": [
    "t0 = time.perf_counter()\n",
    "task = 'SMEG' #'MIMOSA'\n",
    "states = ['RS','FA','OM']\n",
    "subjects = get_subjlist(task)\n",
    "subjects = subjects[:subjects.index('109')]\n",
    "\n",
    "reject = ['069', '072']\n",
    "for sub in reject:\n",
    "    if sub in subjects:\n",
    "        subjects.remove(sub)\n",
    "\n",
    "subjects.sort()\n",
    "#subjects = ['002', '007', '012', '014', '018', '032', '037', '042', '083', '087', '089', '091', '050', '055', '064', '067', '068', '070', '073']\n",
    "experts = []\n",
    "novices = []\n",
    "experts_i = []\n",
    "novices_i = []\n",
    "for s,sub in enumerate(subjects):\n",
    "    if expertise(sub) == 'N':\n",
    "        novices.append(sub)\n",
    "        novices_i.append(s)\n",
    "    if expertise(sub) == 'E':\n",
    "        experts.append(sub)\n",
    "        experts_i.append(s)"
   ]
  },
  {
   "cell_type": "code",
   "execution_count": 3,
   "metadata": {},
   "outputs": [],
   "source": [
    "names = ['R_ECG_included', 'R_ECG_excluded', 'T_ECG_included', 'T_ECG_excluded']\n",
    "name = names[-1]\n",
    "noise_cov = 'empty_room_cov'\n",
    "stc_ext = '-lh.stc'\n",
    "sfreq = 200\n",
    "surface = 'ico4'\n",
    "start = None\n",
    "stop = None\n",
    "stc_path = op.join(Analysis_path, task, 'meg', 'SourceEstimate')"
   ]
  },
  {
   "cell_type": "code",
   "execution_count": 4,
   "metadata": {},
   "outputs": [
    {
     "data": {
      "text/plain": [
       "<xarray.DataArray (state: 3, subject: 34, time: 30, src: 20484)>\n",
       "array([[[[0.008415, ..., 0.011181],\n",
       "         ...,\n",
       "         [0.034438, ..., 0.016494]],\n",
       "\n",
       "        ...,\n",
       "\n",
       "        [[0.098985, ..., 0.038413],\n",
       "         ...,\n",
       "         [0.066159, ..., 0.073925]]],\n",
       "\n",
       "\n",
       "       ...,\n",
       "\n",
       "\n",
       "       [[[0.039998, ..., 0.029402],\n",
       "         ...,\n",
       "         [0.015048, ..., 0.010873]],\n",
       "\n",
       "        ...,\n",
       "\n",
       "        [[0.01282 , ..., 0.02239 ],\n",
       "         ...,\n",
       "         [0.117287, ..., 0.022826]]]])\n",
       "Coordinates:\n",
       "  * src      (src) object 'lh_0' 'lh_1' 'lh_2' 'lh_3' 'lh_4' 'lh_5' 'lh_6' ...\n",
       "  * state    (state) object 'RS' 'FA' 'OM'\n",
       "  * subject  (subject) object '002' '004' '007' '010' '012' '014' '016' ...\n",
       "  * time     (time) float64 0.1 0.105 0.11 0.115 0.12 0.125 0.13 0.135 0.14 ..."
      ]
     },
     "execution_count": 4,
     "metadata": {},
     "output_type": "execute_result"
    }
   ],
   "source": [
    "data_file = op.join(stc_path, 'fsaverage', 'DATASET-{}-surface_{}-{}Hz.nc'.format(noise_cov, surface, sfreq))\n",
    "stc = xr.open_dataarray(data_file, name)\n",
    "stc.load()"
   ]
  },
  {
   "cell_type": "code",
   "execution_count": 4,
   "metadata": {},
   "outputs": [
    {
     "name": "stderr",
     "output_type": "stream",
     "text": [
      "  0%|          | 0/34 [00:00<?, ?it/s]"
     ]
    },
    {
     "name": "stdout",
     "output_type": "stream",
     "text": [
      "RS\n"
     ]
    },
    {
     "name": "stderr",
     "output_type": "stream",
     "text": [
      "100%|██████████| 34/34 [02:24<00:00,  4.25s/it]\n",
      "  0%|          | 0/34 [00:00<?, ?it/s]"
     ]
    },
    {
     "name": "stdout",
     "output_type": "stream",
     "text": [
      "FA\n"
     ]
    },
    {
     "name": "stderr",
     "output_type": "stream",
     "text": [
      "100%|██████████| 34/34 [02:26<00:00,  4.30s/it]\n",
      "  0%|          | 0/34 [00:00<?, ?it/s]"
     ]
    },
    {
     "name": "stdout",
     "output_type": "stream",
     "text": [
      "OM\n"
     ]
    },
    {
     "name": "stderr",
     "output_type": "stream",
     "text": [
      "100%|██████████| 34/34 [02:27<00:00,  4.35s/it]\n"
     ]
    }
   ],
   "source": [
    "for st,state in enumerate(states):\n",
    "    print(state)\n",
    "    for su,sub in enumerate(tqdm(subjects)):\n",
    "        stc_file = op.join(stc_path, 'fsaverage', sub, state+'-'+name+'-'+noise_cov+'*'+stc_ext)\n",
    "        file = glob.glob(stc_file)[0]\n",
    "        data = mne.read_source_estimate(file[:file.index(stc_ext)])\n",
    "        if sfreq:\n",
    "            data.resample(sfreq)\n",
    "        if not st and not su:#and not n \n",
    "            times = data.times\n",
    "            if not start:\n",
    "                start = times[0]\n",
    "            if not stop:\n",
    "                stop = times[-1]\n",
    "            vertices = np.concatenate([['lh_' + str(x) for x in data.lh_vertno],['rh_' + str(x) for x in data.rh_vertno]])\n",
    "            try:\n",
    "                del stc\n",
    "            except:\n",
    "                pass\n",
    "            stc = np.zeros((len(states), len(subjects), data.data.shape[1], data.data.shape[0]))\n",
    "            stc = xr.DataArray(stc, dims=['state', 'subject', 'time', 'src'], coords={'state':states, 'subject':subjects, 'time':times, 'src':vertices})\n",
    "        stc[st,su] = data.data.T\n",
    "        del data"
   ]
  },
  {
   "cell_type": "code",
   "execution_count": 5,
   "metadata": {},
   "outputs": [],
   "source": [
    "def cluster_perm_test(X1, X2, stat_file, test_key, times, vertices, mode='a', p_threshold=0.01, connectivity='ico5', paired=False):\n",
    "    \"\"\"\n",
    "    If paired, test X1-X2.\n",
    "    Input: arrays of shape (subjects, time, space)\n",
    "    \"\"\"\n",
    "    if not isinstance(X2, (np.ndarray, xr.DataArray)):\n",
    "        X2 = np.zeros(X1.shape)\n",
    "    \n",
    "    if type(connectivity) is str:\n",
    "        connectivity = mne.spatial_tris_connectivity(mne.grade_to_tris(int(connectivity[-1])))\n",
    "    \n",
    "    if paired:\n",
    "        X = X1 - X2\n",
    "        t_threshold = -t.ppf(p_threshold / 2, X.shape[0] - 1)\n",
    "        T_obs, clusters, cluster_pv, H0 = spatio_temporal_cluster_1samp_test(X, connectivity=connectivity, threshold=t_threshold, n_jobs=4)\n",
    "    else:\n",
    "        f_threshold = f.ppf(1 - p_threshold / 2, X1.shape[0] - 1, X2.shape[0] - 1)\n",
    "        T_obs, clusters, cluster_pv, H0 = spatio_temporal_cluster_test([X1,X2], connectivity=connectivity, threshold=f_threshold, n_jobs=4)\n",
    "    \n",
    "    p_val = np.ones(T_obs.shape)\n",
    "    clu_inds = np.zeros(T_obs.shape)\n",
    "    \n",
    "    for c,clu in enumerate(clusters):\n",
    "        p_val[clu] = cluster_pv[c]\n",
    "        clu_inds[clu] = c+1\n",
    "    \n",
    "    stats = np.zeros((3, 2, len(times), len(vertices)))\n",
    "    stats = xr.DataArray(stats, dims=['data', 'hemisphere', 'time', 'src'], coords={'data':['T_stat', 'p_val', 'clu_inds'], 'hemisphere':['left', 'right'], 'time':times, 'src':vertices})\n",
    "    for h,hemi in enumerate(['left', 'right']):\n",
    "        i = h + 1\n",
    "        h *= len(vertices)\n",
    "        i *= len(vertices)\n",
    "        stats.loc['T_stat', hemi] = T_obs[:, h:i]\n",
    "        stats.loc['p_val', hemi] = p_val[:, h:i]\n",
    "        stats.loc['clu_inds', hemi] = clu_inds[:, h:i]\n",
    "    \n",
    "    if not op.isdir(op.split(stat_file)[0]):\n",
    "        os.makedirs(op.split(stat_file)[0])\n",
    "    \n",
    "    if not op.isfile(stat_file):\n",
    "        mode = 'w'\n",
    "    \n",
    "    stats.to_netcdf(path=stat_file, group=test_key, mode=mode)\n",
    "    #for h,hemi in enumerate(['lh', 'rh']):\n",
    "    #    i = h + 1\n",
    "    #    h *= T_obs.shape[1]/2\n",
    "    #    i *= T_obs.shape[1]/2\n",
    "    #    \n",
    "    #    np.savetxt(stat_file+'-'+hemi+'-T_stat.tsv', T_obs[:,int(h):int(i)], delimiter='\\t')\n",
    "    #    np.savetxt(stat_file+'-'+hemi+'-p_val.tsv', mask[:,int(h):int(i)], delimiter='\\t')\n",
    "    #\n",
    "    return T_obs, clusters, cluster_pv, H0"
   ]
  },
  {
   "cell_type": "code",
   "execution_count": 6,
   "metadata": {},
   "outputs": [
    {
     "name": "stdout",
     "output_type": "stream",
     "text": [
      "-- number of connected vertices : 20484\n"
     ]
    }
   ],
   "source": [
    "spacing='ico5'\n",
    "connectivity = mne.spatial_tris_connectivity(mne.grade_to_tris(int(spacing[-1])))"
   ]
  },
  {
   "cell_type": "code",
   "execution_count": 7,
   "metadata": {},
   "outputs": [],
   "source": [
    "start = stc.time.values[0]\n",
    "stop = stc.time.values[-1]\n",
    "vertno = np.arange(stc.shape[-1]/2, dtype=int)\n",
    "\n",
    "stat_path = op.join(Analysis_path, task, 'meg', 'Stats', '{}_{}'.format(round(start,4),round(stop,4)))\n",
    "os.makedirs(stat_path, exist_ok=True)\n",
    "stat_file = op.join(stat_path, '{}-{}-surface_{}-{}Hz.nc'.format(name, noise_cov, surface, sfreq))"
   ]
  },
  {
   "cell_type": "code",
   "execution_count": 13,
   "metadata": {},
   "outputs": [],
   "source": [
    "T_obs=dict(); clusters=dict(); cluster_pv=dict(); H0=dict(); mask=dict(); clu=dict()"
   ]
  },
  {
   "cell_type": "markdown",
   "metadata": {},
   "source": [
    "# Heartbeat Evoked Response"
   ]
  },
  {
   "cell_type": "code",
   "execution_count": 35,
   "metadata": {},
   "outputs": [
    {
     "name": "stdout",
     "output_type": "stream",
     "text": [
      "stat_fun(H1): min=2.469534 max=41.924578\n",
      "Running initial clustering\n",
      "Found 6 clusters\n",
      "Permuting 1023 times...\n",
      "[...................................     ] 87.84314 \\    "
     ]
    },
    {
     "name": "stderr",
     "output_type": "stream",
     "text": [
      "[Parallel(n_jobs=4)]: Done   2 out of   4 | elapsed:  1.2min remaining:  1.2min\n"
     ]
    },
    {
     "name": "stdout",
     "output_type": "stream",
     "text": [
      "[....................................... ] 99.22481 |    Computing cluster p-values\n",
      "Done.\n"
     ]
    },
    {
     "name": "stderr",
     "output_type": "stream",
     "text": [
      "[Parallel(n_jobs=4)]: Done   4 out of   4 | elapsed:  1.3min remaining:    0.0s\n",
      "[Parallel(n_jobs=4)]: Done   4 out of   4 | elapsed:  1.3min finished\n"
     ]
    }
   ],
   "source": [
    "test_key = 'HER_0.0001'\n",
    "#X1 = stc.values.reshape((np.multiply(*stc.shape[0:2]),*stc.shape[2:]))\n",
    "X1 = stc.values.mean(axis=0)\n",
    "X2 = np.zeros(X1.shape)\n",
    "T_obs[test_key], clusters[test_key], cluster_pv[test_key], H0[test_key], mask[test_key] = cluster_perm_test(X1, X2, stat_file=stat_file, test_key=test_key, times=stc.time.values, vertices=vertno, connectivity=connectivity, paired=True, p_threshold=0.0001)"
   ]
  },
  {
   "cell_type": "code",
   "execution_count": 31,
   "metadata": {},
   "outputs": [],
   "source": [
    "X1 = stc.values.mean(axis=0)"
   ]
  },
  {
   "cell_type": "code",
   "execution_count": 39,
   "metadata": {},
   "outputs": [
    {
     "data": {
      "text/plain": [
       "(34, 30, 20484)"
      ]
     },
     "execution_count": 39,
     "metadata": {},
     "output_type": "execute_result"
    }
   ],
   "source": [
    "X1.shape"
   ]
  },
  {
   "cell_type": "markdown",
   "metadata": {},
   "source": [
    "# States tests"
   ]
  },
  {
   "cell_type": "code",
   "execution_count": 14,
   "metadata": {},
   "outputs": [
    {
     "name": "stdout",
     "output_type": "stream",
     "text": [
      "stat_fun(H1): min=-4.626214 max=3.502408\n",
      "Running initial clustering\n",
      "Found 234 clusters\n",
      "Permuting 1023 times...\n",
      "[..................................      ] 86.82171 \\    "
     ]
    },
    {
     "name": "stderr",
     "output_type": "stream",
     "text": [
      "[Parallel(n_jobs=4)]: Done   2 out of   4 | elapsed:  2.4min remaining:  2.4min\n"
     ]
    },
    {
     "name": "stdout",
     "output_type": "stream",
     "text": [
      "[....................................... ] 99.22481 |    Computing cluster p-values\n"
     ]
    },
    {
     "name": "stderr",
     "output_type": "stream",
     "text": [
      "[Parallel(n_jobs=4)]: Done   4 out of   4 | elapsed:  2.5min remaining:    0.0s\n",
      "[Parallel(n_jobs=4)]: Done   4 out of   4 | elapsed:  2.5min finished\n"
     ]
    },
    {
     "name": "stdout",
     "output_type": "stream",
     "text": [
      "Done.\n",
      "\t RS_vs_FA 169.63150782399862 \n",
      "\t*****\n",
      "\n",
      "stat_fun(H1): min=-5.680200 max=4.164851\n",
      "Running initial clustering\n",
      "Found 296 clusters\n",
      "Permuting 1023 times...\n",
      "[..................................      ] 86.82171 \\    "
     ]
    },
    {
     "name": "stderr",
     "output_type": "stream",
     "text": [
      "[Parallel(n_jobs=4)]: Done   2 out of   4 | elapsed:  2.4min remaining:  2.4min\n"
     ]
    },
    {
     "name": "stdout",
     "output_type": "stream",
     "text": [
      "[....................................... ] 99.22481 |    Computing cluster p-values\n",
      "Done.\n"
     ]
    },
    {
     "name": "stderr",
     "output_type": "stream",
     "text": [
      "[Parallel(n_jobs=4)]: Done   4 out of   4 | elapsed:  2.5min remaining:    0.0s\n",
      "[Parallel(n_jobs=4)]: Done   4 out of   4 | elapsed:  2.5min finished\n"
     ]
    },
    {
     "name": "stdout",
     "output_type": "stream",
     "text": [
      "\t RS_vs_OM 152.66863139899942 \n",
      "\t*****\n",
      "\n",
      "stat_fun(H1): min=-4.290628 max=4.616922\n",
      "Running initial clustering\n",
      "Found 179 clusters\n",
      "Permuting 1023 times...\n",
      "[..................................      ] 86.82171 \\    "
     ]
    },
    {
     "name": "stderr",
     "output_type": "stream",
     "text": [
      "[Parallel(n_jobs=4)]: Done   2 out of   4 | elapsed:  2.4min remaining:  2.4min\n"
     ]
    },
    {
     "name": "stdout",
     "output_type": "stream",
     "text": [
      "[....................................... ] 99.22481 |    Computing cluster p-values\n",
      "Done.\n"
     ]
    },
    {
     "name": "stderr",
     "output_type": "stream",
     "text": [
      "[Parallel(n_jobs=4)]: Done   4 out of   4 | elapsed:  2.5min remaining:    0.0s\n",
      "[Parallel(n_jobs=4)]: Done   4 out of   4 | elapsed:  2.5min finished\n"
     ]
    },
    {
     "name": "stdout",
     "output_type": "stream",
     "text": [
      "\t OM_vs_FA 150.30747045799944 \n",
      "\t*****\n",
      "\n",
      "stat_fun(H1): min=-8.467896 max=6.104340\n",
      "Running initial clustering\n",
      "Found 275 clusters\n",
      "Permuting 1023 times...\n",
      "[....................................... ] 99.22481 |    "
     ]
    },
    {
     "name": "stderr",
     "output_type": "stream",
     "text": [
      "[Parallel(n_jobs=4)]: Done   2 out of   4 | elapsed:  1.6min remaining:  1.6min\n"
     ]
    },
    {
     "name": "stdout",
     "output_type": "stream",
     "text": [
      "Computing cluster p-values\n",
      "Done.\n"
     ]
    },
    {
     "name": "stderr",
     "output_type": "stream",
     "text": [
      "[Parallel(n_jobs=4)]: Done   4 out of   4 | elapsed:  1.6min remaining:    0.0s\n",
      "[Parallel(n_jobs=4)]: Done   4 out of   4 | elapsed:  1.6min finished\n"
     ]
    },
    {
     "name": "stdout",
     "output_type": "stream",
     "text": [
      "\t RS_vs_FA+E 96.18219719400076 \n",
      "\t*****\n",
      "\n",
      "stat_fun(H1): min=-7.390697 max=4.751567\n",
      "Running initial clustering\n",
      "Found 259 clusters\n",
      "Permuting 1023 times...\n",
      "[..................................      ] 86.82171 \\    "
     ]
    },
    {
     "name": "stderr",
     "output_type": "stream",
     "text": [
      "[Parallel(n_jobs=4)]: Done   2 out of   4 | elapsed:  1.6min remaining:  1.6min\n"
     ]
    },
    {
     "name": "stdout",
     "output_type": "stream",
     "text": [
      "[....................................... ] 99.22481 |    Computing cluster p-values\n",
      "Done.\n"
     ]
    },
    {
     "name": "stderr",
     "output_type": "stream",
     "text": [
      "[Parallel(n_jobs=4)]: Done   4 out of   4 | elapsed:  1.7min remaining:    0.0s\n",
      "[Parallel(n_jobs=4)]: Done   4 out of   4 | elapsed:  1.7min finished\n"
     ]
    },
    {
     "name": "stdout",
     "output_type": "stream",
     "text": [
      "\t RS_vs_OM+E 102.94059272800041 \n",
      "\t*****\n",
      "\n",
      "stat_fun(H1): min=-7.675212 max=5.501048\n",
      "Running initial clustering\n",
      "Found 200 clusters\n",
      "Permuting 1023 times...\n",
      "[..................................      ] 86.82171 \\    "
     ]
    },
    {
     "name": "stderr",
     "output_type": "stream",
     "text": [
      "[Parallel(n_jobs=4)]: Done   2 out of   4 | elapsed:  1.6min remaining:  1.6min\n"
     ]
    },
    {
     "name": "stdout",
     "output_type": "stream",
     "text": [
      "[....................................... ] 99.22481 |    Computing cluster p-values\n",
      "Done.\n"
     ]
    },
    {
     "name": "stderr",
     "output_type": "stream",
     "text": [
      "[Parallel(n_jobs=4)]: Done   4 out of   4 | elapsed:  1.7min remaining:    0.0s\n",
      "[Parallel(n_jobs=4)]: Done   4 out of   4 | elapsed:  1.7min finished\n"
     ]
    },
    {
     "name": "stdout",
     "output_type": "stream",
     "text": [
      "\t OM_vs_FA+E 105.5489469740005 \n",
      "\t*****\n",
      "\n",
      "stat_fun(H1): min=-5.068683 max=4.240074\n",
      "Running initial clustering\n",
      "Found 197 clusters\n",
      "Permuting 1023 times...\n",
      "[...................................     ] 87.84314 \\    "
     ]
    },
    {
     "name": "stderr",
     "output_type": "stream",
     "text": [
      "[Parallel(n_jobs=4)]: Done   2 out of   4 | elapsed:  2.0min remaining:  2.0min\n"
     ]
    },
    {
     "name": "stdout",
     "output_type": "stream",
     "text": [
      "[....................................... ] 99.22481 |    Computing cluster p-values\n",
      "Done.\n"
     ]
    },
    {
     "name": "stderr",
     "output_type": "stream",
     "text": [
      "[Parallel(n_jobs=4)]: Done   4 out of   4 | elapsed:  2.1min remaining:    0.0s\n",
      "[Parallel(n_jobs=4)]: Done   4 out of   4 | elapsed:  2.1min finished\n"
     ]
    },
    {
     "name": "stdout",
     "output_type": "stream",
     "text": [
      "\t RS_vs_FA+N 129.3351460440008 \n",
      "\t*****\n",
      "\n",
      "stat_fun(H1): min=-6.584049 max=4.284856\n",
      "Running initial clustering\n",
      "Found 296 clusters\n",
      "Permuting 1023 times...\n",
      "[..................................      ] 86.82171 \\    "
     ]
    },
    {
     "name": "stderr",
     "output_type": "stream",
     "text": [
      "[Parallel(n_jobs=4)]: Done   2 out of   4 | elapsed:  2.1min remaining:  2.1min\n"
     ]
    },
    {
     "name": "stdout",
     "output_type": "stream",
     "text": [
      "[....................................... ] 99.22481 |    Computing cluster p-values\n",
      "Done.\n"
     ]
    },
    {
     "name": "stderr",
     "output_type": "stream",
     "text": [
      "[Parallel(n_jobs=4)]: Done   4 out of   4 | elapsed:  2.2min remaining:    0.0s\n",
      "[Parallel(n_jobs=4)]: Done   4 out of   4 | elapsed:  2.2min finished\n"
     ]
    },
    {
     "name": "stdout",
     "output_type": "stream",
     "text": [
      "\t RS_vs_OM+N 136.5098531069998 \n",
      "\t*****\n",
      "\n",
      "stat_fun(H1): min=-4.872277 max=4.821694\n",
      "Running initial clustering\n",
      "Found 221 clusters\n",
      "Permuting 1023 times...\n",
      "[..................................      ] 86.82171 \\    "
     ]
    },
    {
     "name": "stderr",
     "output_type": "stream",
     "text": [
      "[Parallel(n_jobs=4)]: Done   2 out of   4 | elapsed:  2.0min remaining:  2.0min\n"
     ]
    },
    {
     "name": "stdout",
     "output_type": "stream",
     "text": [
      "[....................................... ] 99.22481 |    "
     ]
    },
    {
     "name": "stderr",
     "output_type": "stream",
     "text": [
      "[Parallel(n_jobs=4)]: Done   4 out of   4 | elapsed:  2.1min remaining:    0.0s\n",
      "[Parallel(n_jobs=4)]: Done   4 out of   4 | elapsed:  2.1min finished\n"
     ]
    },
    {
     "name": "stdout",
     "output_type": "stream",
     "text": [
      "Computing cluster p-values\n",
      "Done.\n",
      "\t OM_vs_FA+N 130.39482248700006 \n",
      "\t*****\n",
      "\n",
      "stat_fun(H1): min=0.000000 max=18.776765\n",
      "Running initial clustering\n",
      "Found 151 clusters\n",
      "Permuting 1023 times...\n",
      "[...................................     ] 87.84314 \\    "
     ]
    },
    {
     "name": "stderr",
     "output_type": "stream",
     "text": [
      "[Parallel(n_jobs=4)]: Done   2 out of   4 | elapsed:  8.6min remaining:  8.6min\n"
     ]
    },
    {
     "name": "stdout",
     "output_type": "stream",
     "text": [
      "[...................................     ] 87.84314 \\    Computing cluster p-values\n",
      "Done.\n"
     ]
    },
    {
     "name": "stderr",
     "output_type": "stream",
     "text": [
      "[Parallel(n_jobs=4)]: Done   4 out of   4 | elapsed: 10.0min remaining:    0.0s\n",
      "[Parallel(n_jobs=4)]: Done   4 out of   4 | elapsed: 10.0min finished\n"
     ]
    },
    {
     "name": "stdout",
     "output_type": "stream",
     "text": [
      "\t N_vs_E+RS 600.5693754920012 \n",
      "\t*****\n",
      "\n",
      "stat_fun(H1): min=0.000000 max=25.242872\n",
      "Running initial clustering\n",
      "Found 215 clusters\n",
      "Permuting 1023 times...\n",
      "[....................................... ] 99.22481 |    "
     ]
    },
    {
     "name": "stderr",
     "output_type": "stream",
     "text": [
      "[Parallel(n_jobs=4)]: Done   2 out of   4 | elapsed:  8.2min remaining:  8.2min\n"
     ]
    },
    {
     "name": "stdout",
     "output_type": "stream",
     "text": [
      "[...................................     ] 87.84314 \\    Computing cluster p-values\n",
      "Done.\n"
     ]
    },
    {
     "name": "stderr",
     "output_type": "stream",
     "text": [
      "[Parallel(n_jobs=4)]: Done   4 out of   4 | elapsed:  9.8min remaining:    0.0s\n",
      "[Parallel(n_jobs=4)]: Done   4 out of   4 | elapsed:  9.8min finished\n"
     ]
    },
    {
     "name": "stdout",
     "output_type": "stream",
     "text": [
      "\t N_vs_E+FA 591.4444586299996 \n",
      "\t*****\n",
      "\n",
      "stat_fun(H1): min=0.000000 max=17.606169\n",
      "Running initial clustering\n",
      "Found 165 clusters\n",
      "Permuting 1023 times...\n",
      "[..................................      ] 86.82171 \\    "
     ]
    },
    {
     "name": "stderr",
     "output_type": "stream",
     "text": [
      "[Parallel(n_jobs=4)]: Done   2 out of   4 | elapsed:  7.7min remaining:  7.7min\n"
     ]
    },
    {
     "name": "stdout",
     "output_type": "stream",
     "text": [
      "[....................................... ] 99.22481 |    Computing cluster p-values\n",
      "Done.\n"
     ]
    },
    {
     "name": "stderr",
     "output_type": "stream",
     "text": [
      "[Parallel(n_jobs=4)]: Done   4 out of   4 | elapsed:  8.3min remaining:    0.0s\n",
      "[Parallel(n_jobs=4)]: Done   4 out of   4 | elapsed:  8.3min finished\n"
     ]
    },
    {
     "name": "stdout",
     "output_type": "stream",
     "text": [
      "\t N_vs_E+OM 502.1760436989989 \n",
      "\t*****\n",
      "\n",
      "stat_fun(H1): min=0.000000 max=21.111734\n",
      "Running initial clustering\n",
      "Found 405 clusters\n",
      "Permuting 1023 times...\n",
      "[..................................      ] 86.82171 \\    "
     ]
    },
    {
     "name": "stderr",
     "output_type": "stream",
     "text": [
      "[Parallel(n_jobs=4)]: Done   2 out of   4 | elapsed:  8.6min remaining:  8.6min\n"
     ]
    },
    {
     "name": "stdout",
     "output_type": "stream",
     "text": [
      "[....................................... ] 99.22481 |    Computing cluster p-values\n",
      "Done.\n"
     ]
    },
    {
     "name": "stderr",
     "output_type": "stream",
     "text": [
      "[Parallel(n_jobs=4)]: Done   4 out of   4 | elapsed:  8.9min remaining:    0.0s\n",
      "[Parallel(n_jobs=4)]: Done   4 out of   4 | elapsed:  8.9min finished\n"
     ]
    },
    {
     "name": "stdout",
     "output_type": "stream",
     "text": [
      "\t N_vs_E+FA-RS 538.6679550659992 \n",
      "\t*****\n",
      "\n",
      "stat_fun(H1): min=0.000000 max=23.087633\n",
      "Running initial clustering\n",
      "Found 452 clusters\n",
      "Permuting 1023 times...\n",
      "[..................................      ] 86.82171 \\    "
     ]
    },
    {
     "name": "stderr",
     "output_type": "stream",
     "text": [
      "[Parallel(n_jobs=4)]: Done   2 out of   4 | elapsed:  8.3min remaining:  8.3min\n"
     ]
    },
    {
     "name": "stdout",
     "output_type": "stream",
     "text": [
      "[....................................... ] 99.22481 |    Computing cluster p-values\n",
      "Done.\n"
     ]
    },
    {
     "name": "stderr",
     "output_type": "stream",
     "text": [
      "[Parallel(n_jobs=4)]: Done   4 out of   4 | elapsed:  8.6min remaining:    0.0s\n",
      "[Parallel(n_jobs=4)]: Done   4 out of   4 | elapsed:  8.6min finished\n"
     ]
    },
    {
     "name": "stdout",
     "output_type": "stream",
     "text": [
      "\t N_vs_E+OM-RS 521.5901186310002 \n",
      "\t*****\n",
      "\n",
      "stat_fun(H1): min=0.000000 max=29.058168\n",
      "Running initial clustering\n",
      "Found 392 clusters\n",
      "Permuting 1023 times...\n",
      "[....................................... ] 99.22481 |    "
     ]
    },
    {
     "name": "stderr",
     "output_type": "stream",
     "text": [
      "[Parallel(n_jobs=4)]: Done   2 out of   4 | elapsed:  8.4min remaining:  8.4min\n"
     ]
    },
    {
     "name": "stdout",
     "output_type": "stream",
     "text": [
      "Computing cluster p-values\n",
      "Done.\n"
     ]
    },
    {
     "name": "stderr",
     "output_type": "stream",
     "text": [
      "[Parallel(n_jobs=4)]: Done   4 out of   4 | elapsed:  8.4min remaining:    0.0s\n",
      "[Parallel(n_jobs=4)]: Done   4 out of   4 | elapsed:  8.4min finished\n"
     ]
    },
    {
     "name": "stdout",
     "output_type": "stream",
     "text": [
      "\t N_vs_E+FA-OM 509.4705776610008 \n",
      "\t*****\n",
      "\n",
      "\n",
      "*****\n",
      "Total running time: 4437.454123295\n"
     ]
    }
   ],
   "source": [
    "t0 = time.perf_counter()\n",
    "ti = t0\n",
    "test_key = 'RS_vs_FA'\n",
    "T_obs[test_key], clusters[test_key], cluster_pv[test_key], H0[test_key] = clu[test_key] = cluster_perm_test(stc.loc['RS',:,start:stop].values, stc.loc['FA',:,start:stop].values, stat_file=stat_file, test_key=test_key, times=stc.time.loc[start:stop], vertices=vertno, connectivity=connectivity, paired=True)\n",
    "print('\\t',test_key, time.perf_counter()-ti,'\\n\\t*****\\n')\n",
    "ti = time.perf_counter()\n",
    "\n",
    "test_key = 'RS_vs_OM'\n",
    "T_obs[test_key], clusters[test_key], cluster_pv[test_key], H0[test_key] = clu[test_key] = cluster_perm_test(stc.loc['RS',:,start:stop].values, stc.loc['OM',:,start:stop].values, stat_file=stat_file, test_key=test_key, times=stc.time.loc[start:stop], vertices=vertno, connectivity=connectivity, paired=True)\n",
    "print('\\t',test_key, time.perf_counter()-ti,'\\n\\t*****\\n')\n",
    "ti = time.perf_counter()\n",
    "\n",
    "test_key = 'OM_vs_FA'\n",
    "T_obs[test_key], clusters[test_key], cluster_pv[test_key], H0[test_key] = clu[test_key] = cluster_perm_test(stc.loc['OM',:,start:stop].values, stc.loc['FA',:,start:stop].values, stat_file=stat_file, test_key=test_key, times=stc.time.loc[start:stop], vertices=vertno, connectivity=connectivity, paired=True)\n",
    "print('\\t',test_key, time.perf_counter()-ti,'\\n\\t*****\\n')\n",
    "ti = time.perf_counter()\n",
    "\n",
    "test_key = 'RS_vs_FA+E'\n",
    "T_obs[test_key], clusters[test_key], cluster_pv[test_key], H0[test_key] = clu[test_key] = cluster_perm_test(stc.loc['RS',experts,start:stop].values, stc.loc['FA',experts,start:stop].values, stat_file=stat_file, test_key=test_key, times=stc.time.loc[start:stop], vertices=vertno, connectivity=connectivity, paired=True)\n",
    "print('\\t',test_key, time.perf_counter()-ti,'\\n\\t*****\\n')\n",
    "ti = time.perf_counter()\n",
    "\n",
    "test_key = 'RS_vs_OM+E'\n",
    "T_obs[test_key], clusters[test_key], cluster_pv[test_key], H0[test_key] = clu[test_key] = cluster_perm_test(stc.loc['RS',experts,start:stop].values, stc.loc['OM',experts,start:stop].values, stat_file=stat_file, test_key=test_key, times=stc.time.loc[start:stop], vertices=vertno, connectivity=connectivity, paired=True)\n",
    "print('\\t',test_key, time.perf_counter()-ti,'\\n\\t*****\\n')\n",
    "ti = time.perf_counter()\n",
    "\n",
    "test_key = 'OM_vs_FA+E'\n",
    "T_obs[test_key], clusters[test_key], cluster_pv[test_key], H0[test_key] = clu[test_key] = cluster_perm_test(stc.loc['OM',experts,start:stop].values, stc.loc['FA',experts,start:stop].values, stat_file=stat_file, test_key=test_key, times=stc.time.loc[start:stop], vertices=vertno, connectivity=connectivity, paired=True)\n",
    "print('\\t',test_key, time.perf_counter()-ti,'\\n\\t*****\\n')\n",
    "ti = time.perf_counter()\n",
    "\n",
    "test_key = 'RS_vs_FA+N'\n",
    "T_obs[test_key], clusters[test_key], cluster_pv[test_key], H0[test_key] = clu[test_key] = cluster_perm_test(stc.loc['RS',novices,start:stop].values, stc.loc['FA',novices,start:stop].values, stat_file=stat_file, test_key=test_key, times=stc.time.loc[start:stop], vertices=vertno, connectivity=connectivity, paired=True)\n",
    "print('\\t',test_key, time.perf_counter()-ti,'\\n\\t*****\\n')\n",
    "ti = time.perf_counter()\n",
    "\n",
    "test_key = 'RS_vs_OM+N'\n",
    "T_obs[test_key], clusters[test_key], cluster_pv[test_key], H0[test_key] = clu[test_key] = cluster_perm_test(stc.loc['RS',novices,start:stop].values, stc.loc['OM',novices,start:stop].values, stat_file=stat_file, test_key=test_key, times=stc.time.loc[start:stop], vertices=vertno, connectivity=connectivity, paired=True)\n",
    "print('\\t',test_key, time.perf_counter()-ti,'\\n\\t*****\\n')\n",
    "ti = time.perf_counter()\n",
    "\n",
    "test_key = 'OM_vs_FA+N'\n",
    "T_obs[test_key], clusters[test_key], cluster_pv[test_key], H0[test_key] = clu[test_key] = cluster_perm_test(stc.loc['OM',novices,start:stop].values, stc.loc['FA',novices,start:stop].values, stat_file=stat_file, test_key=test_key, times=stc.time.loc[start:stop], vertices=vertno, connectivity=connectivity, paired=True)\n",
    "print('\\t',test_key, time.perf_counter()-ti,'\\n\\t*****\\n')\n",
    "ti = time.perf_counter()\n",
    "\n",
    "\n",
    "test_key = 'N_vs_E+RS'\n",
    "T_obs[test_key], clusters[test_key], cluster_pv[test_key], H0[test_key] = clu[test_key] = cluster_perm_test(stc.loc['RS',novices,start:stop].values, stc.loc['RS',experts,start:stop].values, stat_file=stat_file, test_key=test_key, times=stc.time.loc[start:stop], vertices=vertno, connectivity=connectivity)\n",
    "print('\\t',test_key, time.perf_counter()-ti,'\\n\\t*****\\n')\n",
    "ti = time.perf_counter()\n",
    "\n",
    "test_key = 'N_vs_E+FA'\n",
    "T_obs[test_key], clusters[test_key], cluster_pv[test_key], H0[test_key] = clu[test_key] = cluster_perm_test(stc.loc['FA',novices,start:stop].values, stc.loc['FA',experts,start:stop].values, stat_file=stat_file, test_key=test_key, times=stc.time.loc[start:stop], vertices=vertno, connectivity=connectivity)\n",
    "print('\\t',test_key, time.perf_counter()-ti,'\\n\\t*****\\n')\n",
    "ti = time.perf_counter()\n",
    "\n",
    "test_key = 'N_vs_E+OM'\n",
    "T_obs[test_key], clusters[test_key], cluster_pv[test_key], H0[test_key] = clu[test_key] = cluster_perm_test(stc.loc['OM',novices,start:stop].values, stc.loc['OM',experts,start:stop].values, stat_file=stat_file, test_key=test_key, times=stc.time.loc[start:stop], vertices=vertno, connectivity=connectivity)\n",
    "print('\\t',test_key, time.perf_counter()-ti,'\\n\\t*****\\n')\n",
    "ti = time.perf_counter()\n",
    "\n",
    "test_key = 'N_vs_E+FA-RS'\n",
    "T_obs[test_key], clusters[test_key], cluster_pv[test_key], H0[test_key] = clu[test_key] = cluster_perm_test(stc.loc['FA',novices,start:stop].values-stc.loc['RS',novices,start:stop].values, stc.loc['FA',experts,start:stop].values-stc.loc['RS',experts,start:stop].values, stat_file=stat_file, test_key=test_key, times=stc.time.loc[start:stop], vertices=vertno, connectivity=connectivity)\n",
    "print('\\t',test_key, time.perf_counter()-ti,'\\n\\t*****\\n')\n",
    "ti = time.perf_counter()\n",
    "\n",
    "test_key = 'N_vs_E+OM-RS'\n",
    "T_obs[test_key], clusters[test_key], cluster_pv[test_key], H0[test_key] = clu[test_key] = cluster_perm_test(stc.loc['OM',novices,start:stop].values-stc.loc['RS',novices,start:stop].values, stc.loc['OM',experts,start:stop].values-stc.loc['RS',experts,start:stop].values, stat_file=stat_file, test_key=test_key, times=stc.time.loc[start:stop], vertices=vertno, connectivity=connectivity)\n",
    "print('\\t',test_key, time.perf_counter()-ti,'\\n\\t*****\\n')\n",
    "ti = time.perf_counter()\n",
    "\n",
    "test_key = 'N_vs_E+FA-OM'\n",
    "T_obs[test_key], clusters[test_key], cluster_pv[test_key], H0[test_key] = clu[test_key] = cluster_perm_test(stc.loc['FA',novices,start:stop].values-stc.loc['OM',novices,start:stop].values, stc.loc['FA',experts,start:stop].values-stc.loc['OM',experts,start:stop].values, stat_file=stat_file, test_key=test_key, times=stc.time.loc[start:stop], vertices=vertno, connectivity=connectivity)\n",
    "print('\\t',test_key, time.perf_counter()-ti,'\\n\\t*****\\n')\n",
    "ti = time.perf_counter()\n",
    "\n",
    "\n",
    "T = ti - t0\n",
    "print('\\n*****\\nTotal running time:', T)"
   ]
  },
  {
   "cell_type": "code",
   "execution_count": 15,
   "metadata": {},
   "outputs": [],
   "source": [
    "stat_stc = mne.stats.summarize_clusters_stc(clu['RS_vs_OM'], tstep=0.005)"
   ]
  },
  {
   "cell_type": "code",
   "execution_count": 20,
   "metadata": {},
   "outputs": [
    {
     "name": "stdout",
     "output_type": "stream",
     "text": [
      "Mayavi not found. Resorting to matplotlib 3d.\n",
      "Octahedron subdivision grade 6\n"
     ]
    },
    {
     "name": "stderr",
     "output_type": "stream",
     "text": [
      "<ipython-input-20-37e7cc2bf501>:1: RuntimeWarning: Mayavi not found. Resorting to matplotlib 3d.\n",
      "  stat_stc.plot(colormap='magma')\n"
     ]
    },
    {
     "name": "stdout",
     "output_type": "stream",
     "text": [
      "    Triangle neighbors and vertex normals...\n",
      "Loading geometry from /dycog/meditation/ERC/Analyses/ANAT/T1/FreeSurfer/fsaverage/surf/lh.sphere...\n",
      "    Triangle neighbors and vertex normals...\n",
      "Setting up the triangulation for the decimated surface...\n",
      "    10 smooth iterations done.\n"
     ]
    },
    {
     "name": "stderr",
     "output_type": "stream",
     "text": [
      "/home/benjamin.ador/.local/lib/python3.5/site-packages/mne/viz/_3d.py:1566: RuntimeWarning: divide by zero encountered in true_divide\n",
      "  colors = array_plot / vmax\n",
      "/home/benjamin.ador/.local/lib/python3.5/site-packages/mne/viz/_3d.py:1566: RuntimeWarning: invalid value encountered in true_divide\n",
      "  colors = array_plot / vmax\n",
      "/home/benjamin.ador/.local/lib/python3.5/site-packages/mne/viz/_3d.py:1578: RuntimeWarning: divide by zero encountered in double_scalars\n",
      "  to_blend = color_ave > params['ctrl_pts'][0] / vmax\n",
      "/home/benjamin.ador/.local/lib/python3.5/site-packages/mne/viz/_3d.py:1578: RuntimeWarning: invalid value encountered in greater\n",
      "  to_blend = color_ave > params['ctrl_pts'][0] / vmax\n"
     ]
    },
    {
     "data": {
      "image/png": "[encoded data removed]",
      "text/plain": [
       "<Figure size 432x432 with 1 Axes>"
      ]
     },
     "metadata": {},
     "output_type": "display_data"
    },
    {
     "data": {
      "image/png": "[encoded data removed]",
      "text/plain": [
       "<Figure size 432x432 with 1 Axes>"
      ]
     },
     "execution_count": 20,
     "metadata": {},
     "output_type": "execute_result"
    }
   ],
   "source": [
    "stat_stc.plot(colormap='magma')"
   ]
  },
  {
   "cell_type": "code",
   "execution_count": 3,
   "metadata": {},
   "outputs": [],
   "source": [
    "names = ['T_ECG_included', 'T_ECG_excluded']#'R_ECG_included', 'R_ECG_excluded', \n",
    "name = names[0]\n",
    "noise_cov = 'empty_room_cov'\n",
    "sfreq = 200\n",
    "win = (-.175,-.075)#(.1,.2)\n",
    "surface = 'ico4'\n",
    "\n",
    "stc = dict()\n",
    "for i,w in enumerate([(-.175,-.075),(.1,.2)]):\n",
    "    data_file = op.join(Analysis_path, task, 'meg', 'SourceEstimate', 'fsaverage', 'DATASET-{}-surface_{}-{}_{}-{}Hz.nc'.format(noise_cov, surface, *w, sfreq))\n",
    "    stc[i] = xr.open_dataarray(data_file, name)\n",
    "    stc[i].load()"
   ]
  },
  {
   "cell_type": "code",
   "execution_count": 4,
   "metadata": {},
   "outputs": [],
   "source": [
    "T_obs=dict(); clusters=dict(); cluster_pv=dict(); H0=dict(); clu=dict()\n",
    "vertno = np.arange(stc[0].shape[-1]/2, dtype=int)\n",
    "\n",
    "stat_path = op.join(Analysis_path, task, 'meg', 'Stats', 'baseline')\n",
    "os.makedirs(stat_path, exist_ok=True)\n",
    "stat_file = op.join(stat_path, '{}-{}-surface_{}-{}Hz-baseline.nc'.format(name, noise_cov, surface, sfreq))"
   ]
  },
  {
   "cell_type": "code",
   "execution_count": null,
   "metadata": {},
   "outputs": [],
   "source": [
    "test_key = 'RS'\n",
    "T_obs[test_key], clusters[test_key], cluster_pv[test_key], H0[test_key] = clu[test_key] = cluster_perm_test(stc[1].loc['RS'].values, stc[0].loc['RS'].values, stat_file=stat_file, test_key=test_key, times=stc[0].time, vertices=vertno, connectivity=connectivity, paired=True)\n",
    "test_key = 'FA'\n",
    "T_obs[test_key], clusters[test_key], cluster_pv[test_key], H0[test_key] = clu[test_key] = cluster_perm_test(stc[1].loc['FA'].values, stc[0].loc['FA'].values, stat_file=stat_file, test_key=test_key, times=stc[0].time, vertices=vertno, connectivity=connectivity, paired=True)\n",
    "test_key = 'OM'\n",
    "T_obs[test_key], clusters[test_key], cluster_pv[test_key], H0[test_key] = clu[test_key] = cluster_perm_test(stc[1].loc['OM'].values, stc[0].loc['OM'].values, stat_file=stat_file, test_key=test_key, times=stc[0].time, vertices=vertno, connectivity=connectivity, paired=True)\n"
   ]
  },
  {
   "cell_type": "code",
   "execution_count": 5,
   "metadata": {},
   "outputs": [],
   "source": [
    "def cluster_perm_test1(X1, X2, stat_file, test_key, times=None, vertices=None, mode='a', connectivity='ico5', paired=False):\n",
    "    \"\"\"\n",
    "    If paired, test X1-X2.\n",
    "    Input: arrays of shape (subjects, time, space)\n",
    "    \"\"\"\n",
    "    if not isinstance(X2, (np.ndarray, xr.DataArray)):\n",
    "        X2 = np.zeros(X1.shape)\n",
    "    \n",
    "    if type(connectivity) is str:\n",
    "        connectivity = mne.spatial_tris_connectivity(mne.grade_to_tris(int(connectivity[-1])))\n",
    "    \n",
    "    if paired:\n",
    "        X = X1 - X2\n",
    "        T_obs, clusters, cluster_pv, H0 = permutation_cluster_1samp_test(X, connectivity=connectivity, n_jobs=4)\n",
    "    else:\n",
    "        T_obs, clusters, cluster_pv, H0 = permutation_cluster_test([X1,X2], connectivity=connectivity, n_jobs=4)\n",
    "    \n",
    "    p_val = np.ones(T_obs.shape)\n",
    "    clu_inds = np.zeros(T_obs.shape)\n",
    "    \n",
    "    for c,clu in enumerate(clusters):\n",
    "        p_val[clu] = cluster_pv[c]\n",
    "        clu_inds[clu] = c+1\n",
    "    \n",
    "    if times is not None:\n",
    "        stats = np.zeros((3, *T_obs.shape))\n",
    "        stats = xr.DataArray(stats, dims=['data', 'hemisphere', 'time'], coords={'data':['T_stat', 'p_val', 'clu_inds'], 'hemisphere':['left', 'right'], 'time':times})\n",
    "        stats.loc['T_stat'] = T_obs\n",
    "        stats.loc['p_val'] = p_val\n",
    "        stats.loc['clu_inds'] = clu_inds\n",
    "    \n",
    "    if vertices is not None:\n",
    "        stats = np.zeros((3, 2, len(vertices)))\n",
    "        stats = xr.DataArray(stats, dims=['data', 'hemisphere', 'src'], coords={'data':['T_stat', 'p_val', 'clu_inds'], 'hemisphere':['left', 'right'], 'src':vertices})\n",
    "        for h,hemi in enumerate(['left', 'right']):\n",
    "            i = h + 1\n",
    "            h *= len(vertices)\n",
    "            i *= len(vertices)\n",
    "            stats.loc['T_stat', hemi] = T_obs[h:i]\n",
    "            stats.loc['p_val', hemi] = p_val[h:i]\n",
    "            stats.loc['clu_inds', hemi] = clu_inds[h:i]\n",
    "    \n",
    "    os.makedirs(op.split(stat_file)[0], exist_ok=True)\n",
    "    if not op.isfile(stat_file):\n",
    "        mode = 'w'\n",
    "    \n",
    "    stats.to_netcdf(path=stat_file, group=test_key, mode=mode)\n",
    "    \n",
    "    return T_obs, clusters, cluster_pv, H0"
   ]
  },
  {
   "cell_type": "code",
   "execution_count": 8,
   "metadata": {},
   "outputs": [
    {
     "name": "stdout",
     "output_type": "stream",
     "text": [
      "Using a threshold of 2.034515\n",
      "stat_fun(H1): min=-3.472786 max=3.569783\n",
      "Running initial clustering\n",
      "Found 81 clusters\n",
      "Permuting 1023 times...\n"
     ]
    },
    {
     "name": "stderr",
     "output_type": "stream",
     "text": [
      "[Parallel(n_jobs=4)]: Done   2 out of   4 | elapsed:  2.0min remaining:  2.0min\n",
      "[Parallel(n_jobs=4)]: Done   4 out of   4 | elapsed:  2.0min remaining:    0.0s\n",
      "[Parallel(n_jobs=4)]: Done   4 out of   4 | elapsed:  2.0min finished\n"
     ]
    },
    {
     "name": "stdout",
     "output_type": "stream",
     "text": [
      "Computing cluster p-values\n",
      "Done.\n",
      "Using a threshold of 2.034515\n",
      "stat_fun(H1): min=-4.245138 max=2.861377\n",
      "Running initial clustering\n",
      "Found 66 clusters\n",
      "Permuting 1023 times...\n"
     ]
    },
    {
     "name": "stderr",
     "output_type": "stream",
     "text": [
      "[Parallel(n_jobs=4)]: Done   2 out of   4 | elapsed:  2.2min remaining:  2.2min\n",
      "[Parallel(n_jobs=4)]: Done   4 out of   4 | elapsed:  2.3min remaining:    0.0s\n",
      "[Parallel(n_jobs=4)]: Done   4 out of   4 | elapsed:  2.3min finished\n"
     ]
    },
    {
     "name": "stdout",
     "output_type": "stream",
     "text": [
      "Computing cluster p-values\n",
      "Done.\n",
      "Using a threshold of 2.034515\n",
      "stat_fun(H1): min=-3.930486 max=3.650433\n",
      "Running initial clustering\n",
      "Found 71 clusters\n",
      "Permuting 1023 times...\n"
     ]
    },
    {
     "name": "stderr",
     "output_type": "stream",
     "text": [
      "[Parallel(n_jobs=4)]: Done   2 out of   4 | elapsed:  2.0min remaining:  2.0min\n",
      "[Parallel(n_jobs=4)]: Done   4 out of   4 | elapsed:  2.1min remaining:    0.0s\n",
      "[Parallel(n_jobs=4)]: Done   4 out of   4 | elapsed:  2.1min finished\n"
     ]
    },
    {
     "name": "stdout",
     "output_type": "stream",
     "text": [
      "Computing cluster p-values\n",
      "Done.\n"
     ]
    }
   ],
   "source": [
    "test_key = 'RS_t_avg'\n",
    "T_obs[test_key], clusters[test_key], cluster_pv[test_key], H0[test_key] = clu[test_key] = cluster_perm_test1(stc[1].loc['RS'].mean(dim='time').values, stc[0].loc['RS'].mean(dim='time').values, stat_file=stat_file, test_key=test_key, vertices=vertno, connectivity=connectivity, paired=True)\n",
    "test_key = 'FA_t_avg'\n",
    "T_obs[test_key], clusters[test_key], cluster_pv[test_key], H0[test_key] = clu[test_key] = cluster_perm_test1(stc[1].loc['FA'].mean(dim='time').values, stc[0].loc['FA'].mean(dim='time').values, stat_file=stat_file, test_key=test_key, vertices=vertno, connectivity=connectivity, paired=True)\n",
    "test_key = 'OM_t_avg'\n",
    "T_obs[test_key], clusters[test_key], cluster_pv[test_key], H0[test_key] = clu[test_key] = cluster_perm_test1(stc[1].loc['OM'].mean(dim='time').values, stc[0].loc['OM'].mean(dim='time').values, stat_file=stat_file, test_key=test_key, vertices=vertno, connectivity=connectivity, paired=True)\n"
   ]
  },
  {
   "cell_type": "code",
   "execution_count": null,
   "metadata": {},
   "outputs": [],
   "source": [
    "test_key = 'RS_avg'\n",
    "T_obs[test_key], clusters[test_key], cluster_pv[test_key], H0[test_key] = clu[test_key] = mne.stats.permutation_cluster_1samp_test(stc[1].loc['RS'].mean(dim='time').values - stc[0].loc['RS'].mean(dim='time').values, connectivity=connectivity, n_jobs=4)\n",
    "test_key = 'FA_avg'\n",
    "T_obs[test_key], clusters[test_key], cluster_pv[test_key], H0[test_key] = clu[test_key] = mne.stats.permutation_cluster_1samp_test(stc[1].loc['FA'].mean(dim='time').values - stc[0].loc['FA'].mean(dim='time').values, connectivity=connectivity, n_jobs=4)\n",
    "test_key = 'OM_avg'\n",
    "T_obs[test_key], clusters[test_key], cluster_pv[test_key], H0[test_key] = clu[test_key] = mne.stats.permutation_cluster_1samp_test(stc[1].loc['OM'].mean(dim='time').values - stc[0].loc['OM'].mean(dim='time').values, connectivity=connectivity, n_jobs=4)\n"
   ]
  },
  {
   "cell_type": "code",
   "execution_count": 15,
   "metadata": {},
   "outputs": [
    {
     "data": {
      "text/plain": [
       "<xarray.DataArray (subject: 34, time: 20, src: 20484)>\n",
       "array([[[ 2.008773,  2.415848, ...,  3.622698,  3.64611 ],\n",
       "        [ 2.621764,  1.310435, ...,  1.530294,  1.259914],\n",
       "        ...,\n",
       "        [ 3.962548,  1.117905, ...,  1.488668,  1.574307],\n",
       "        [ 4.025879,  1.885759, ...,  1.656659,  1.290358]],\n",
       "\n",
       "       [[ 4.133355,  0.232459, ...,  1.052002,  0.278649],\n",
       "        [ 2.540437,  0.676301, ...,  1.966223,  2.014599],\n",
       "        ...,\n",
       "        [ 1.747391,  1.61533 , ...,  0.507072,  0.705719],\n",
       "        [ 1.883386,  1.496186, ...,  1.206225,  1.12366 ]],\n",
       "\n",
       "       ...,\n",
       "\n",
       "       [[10.341312,  1.209733, ..., 10.001292, 13.398304],\n",
       "        [ 5.835235,  2.712691, ...,  9.20078 , 11.161971],\n",
       "        ...,\n",
       "        [ 3.612529,  0.464087, ...,  5.773848,  5.331923],\n",
       "        [ 4.28245 ,  0.745975, ...,  5.716484,  5.330768]],\n",
       "\n",
       "       [[ 1.972293,  3.949046, ...,  2.781159,  2.492463],\n",
       "        [ 2.52077 ,  4.748508, ...,  3.543824,  3.394486],\n",
       "        ...,\n",
       "        [ 4.166091,  0.753249, ...,  1.060799,  1.087189],\n",
       "        [ 4.014433,  0.360656, ...,  1.256087,  1.342975]]])\n",
       "Coordinates:\n",
       "  * subject  (subject) object '002' '004' '007' '010' '012' '014' '016' ...\n",
       "  * time     (time) float64 -0.175 -0.17 -0.165 -0.16 -0.155 -0.15 -0.145 ...\n",
       "  * src      (src) object 'lh_0' 'lh_1' 'lh_2' 'lh_3' 'lh_4' 'lh_5' 'lh_6' ...\n",
       "    state    <U2 'RS'"
      ]
     },
     "execution_count": 15,
     "metadata": {},
     "output_type": "execute_result"
    }
   ],
   "source": [
    "stc[0].loc['RS'].mean(dim='time')"
   ]
  },
  {
   "cell_type": "code",
   "execution_count": 10,
   "metadata": {},
   "outputs": [
    {
     "data": {
      "text/plain": [
       "0.245"
      ]
     },
     "execution_count": 10,
     "metadata": {},
     "output_type": "execute_result"
    }
   ],
   "source": [
    "stop"
   ]
  }
 ],
 "metadata": {
  "kernelspec": {
   "display_name": "Python 3",
   "language": "python",
   "name": "python3"
  },
  "language_info": {
   "codemirror_mode": {
    "name": "ipython",
    "version": 3
   },
   "file_extension": ".py",
   "mimetype": "text/x-python",
   "name": "python",
   "nbconvert_exporter": "python",
   "pygments_lexer": "ipython3",
   "version": "3.5.2"
  },
  "toc": {
   "base_numbering": 1,
   "nav_menu": {},
   "number_sections": true,
   "sideBar": true,
   "skip_h1_title": false,
   "title_cell": "Table of Contents",
   "title_sidebar": "Contents",
   "toc_cell": false,
   "toc_position": {},
   "toc_section_display": true,
   "toc_window_display": false
  }
 },
 "nbformat": 4,
 "nbformat_minor": 2
}
