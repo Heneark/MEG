{
 "cells": [
  {
   "cell_type": "code",
   "execution_count": 1,
   "metadata": {},
   "outputs": [],
   "source": [
    "from header import *\n",
    "import psutil\n",
    "from mne.stats import spatio_temporal_cluster_1samp_test,spatio_temporal_cluster_test\n",
    "from scipy.stats.distributions import f,t\n",
    "from tqdm import tqdm\n",
    "import visbrain\n",
    "from visbrain.objects import BrainObj, ColorbarObj, SceneObj, SourceObj\n",
    "import xarray as xr\n",
    "warnings.filterwarnings(\"ignore\",category=DeprecationWarning)"
   ]
  },
  {
   "cell_type": "code",
   "execution_count": 2,
   "metadata": {},
   "outputs": [],
   "source": [
    "t0 = time.perf_counter()\n",
    "task = 'SMEG' #'MIMOSA'\n",
    "states = ['RS','FA','OM']\n",
    "subjects = get_subjlist(task)\n",
    "subjects = subjects[:subjects.index('109')]\n",
    "\n",
    "reject = ['072']\n",
    "for sub in reject:\n",
    "    if sub in subjects:\n",
    "        subjects.remove(sub)\n",
    "\n",
    "subjects.sort()\n",
    "#subjects = ['002', '007', '012', '014', '018', '032', '037', '042', '083', '087', '089', '091', '050', '055', '064', '067', '068', '070', '073']\n",
    "experts = []\n",
    "novices = []\n",
    "experts_i = []\n",
    "novices_i = []\n",
    "for s,sub in enumerate(subjects):\n",
    "    if expertise(sub) == 'N':\n",
    "        novices.append(sub)\n",
    "        novices_i.append(s)\n",
    "    if expertise(sub) == 'E':\n",
    "        experts.append(sub)\n",
    "        experts_i.append(s)"
   ]
  },
  {
   "cell_type": "code",
   "execution_count": 3,
   "metadata": {},
   "outputs": [],
   "source": [
    "names = ['R_ECG_included', 'R_ECG_excluded', 'T_ECG_included', 'T_ECG_excluded']\n",
    "name = names[0]\n",
    "noise_cov = 'baseline_cov'\n",
    "stc_ext = '-lh.stc'\n",
    "sfreq = 200\n",
    "start = None\n",
    "stop = None\n",
    "stc_path = op.join(Analysis_path, task, 'meg', 'SourceEstimate')"
   ]
  },
  {
   "cell_type": "code",
   "execution_count": 4,
   "metadata": {},
   "outputs": [
    {
     "name": "stderr",
     "output_type": "stream",
     "text": [
      "  0%|          | 0/35 [00:00<?, ?it/s]"
     ]
    },
    {
     "name": "stdout",
     "output_type": "stream",
     "text": [
      "RS\n"
     ]
    },
    {
     "name": "stderr",
     "output_type": "stream",
     "text": [
      "100%|██████████| 35/35 [04:31<00:00,  7.77s/it]\n",
      "  0%|          | 0/35 [00:00<?, ?it/s]"
     ]
    },
    {
     "name": "stdout",
     "output_type": "stream",
     "text": [
      "FA\n"
     ]
    },
    {
     "name": "stderr",
     "output_type": "stream",
     "text": [
      "100%|██████████| 35/35 [05:08<00:00,  8.82s/it]\n",
      "  0%|          | 0/35 [00:00<?, ?it/s]"
     ]
    },
    {
     "name": "stdout",
     "output_type": "stream",
     "text": [
      "OM\n"
     ]
    },
    {
     "name": "stderr",
     "output_type": "stream",
     "text": [
      "100%|██████████| 35/35 [05:03<00:00,  8.67s/it]\n"
     ]
    }
   ],
   "source": [
    "#for n,name in enumerate(names):\n",
    "for st,state in enumerate(states):\n",
    "    print(state)\n",
    "    for su,sub in enumerate(tqdm(subjects)):\n",
    "        stc_file = op.join(stc_path, 'fsaverage', sub, state+'-'+name+'-'+noise_cov+'*'+stc_ext)\n",
    "        file = glob.glob(stc_file)[0]\n",
    "        data = mne.read_source_estimate(file[:file.index(stc_ext)])\n",
    "        if sfreq:\n",
    "            data.resample(sfreq)\n",
    "        if not st and not su:#and not n \n",
    "            times = data.times\n",
    "            if not start:\n",
    "                start = times[0]\n",
    "            if not stop:\n",
    "                stop = times[-1]\n",
    "            vertices = np.concatenate([['lh_' + str(x) for x in data.lh_vertno],['rh_' + str(x) for x in data.rh_vertno]])\n",
    "            try:\n",
    "                del stc\n",
    "            except:\n",
    "                pass\n",
    "            stc = np.zeros((len(states), len(subjects), data.data.shape[1], data.data.shape[0]))\n",
    "            stc = xr.DataArray(stc, dims=['state', 'subject', 'time', 'src'], coords={'state':states, 'subject':subjects, 'time':times, 'src':vertices})\n",
    "        stc[st,su] = data.data.T\n",
    "        del data"
   ]
  },
  {
   "cell_type": "code",
   "execution_count": 5,
   "metadata": {},
   "outputs": [],
   "source": [
    "def cluster_perm_test(X1, X2, stat_file, test_key, times, vertices, mode='a', p_threshold=0.01, connectivity='ico5', paired=False):\n",
    "    \"\"\"\n",
    "    If paired, test X2-X1.\n",
    "    Input: arrays of shape (subjects, time, space)\n",
    "    \"\"\"\n",
    "    if type(connectivity) is str:\n",
    "        connectivity = mne.spatial_tris_connectivity(mne.grade_to_tris(int(connectivity[-1])))\n",
    "    \n",
    "    if paired:\n",
    "        t_threshold = -t.ppf(p_threshold / 2, (X2-X1).shape[0] - 1)\n",
    "        T_obs, clusters, cluster_pv, H0 = spatio_temporal_cluster_1samp_test((X2-X1), connectivity=connectivity, threshold=t_threshold, n_jobs=4)\n",
    "    else:\n",
    "        f_threshold = f.ppf(1 - p_threshold / 2, X1.shape[0] - 1, X2.shape[0] - 1)\n",
    "        T_obs, clusters, cluster_pv, H0 = spatio_temporal_cluster_test([X1,X2], connectivity=connectivity, threshold=f_threshold, n_jobs=4)\n",
    "    \n",
    "    p_val = np.ones(T_obs.shape)\n",
    "    clu_inds = np.zeros(T_obs.shape)\n",
    "    \n",
    "    for c,clu in enumerate(clusters):\n",
    "        p_val[clu] = cluster_pv[c]\n",
    "        clu_inds[clu] = c+1\n",
    "    \n",
    "    stats = np.zeros((3, 2, len(times), len(vertices)))\n",
    "    stats = xr.DataArray(stats, dims=['data', 'hemisphere', 'time', 'src'], coords={'data':['T_stat', 'p_val', 'clu_inds'], 'hemisphere':['left', 'right'], 'time':times, 'src':vertices})\n",
    "    for h,hemi in enumerate(['left', 'right']):\n",
    "        i = h + 1\n",
    "        h *= len(vertices)\n",
    "        i *= len(vertices)\n",
    "        stats.loc['T_stat', hemi] = T_obs[:, h:i]\n",
    "        stats.loc['p_val', hemi] = p_val[:, h:i]\n",
    "        stats.loc['clu_inds', hemi] = clu_inds[:, h:i]\n",
    "    \n",
    "    if not op.isdir(op.split(stat_file)[0]):\n",
    "        os.makedirs(op.split(stat_file)[0])\n",
    "    \n",
    "    if not op.isfile(stat_file):\n",
    "        mode = 'w'\n",
    "    \n",
    "    stats.to_netcdf(path=stat_file, group=test_key, mode=mode)\n",
    "    #for h,hemi in enumerate(['lh', 'rh']):\n",
    "    #    i = h + 1\n",
    "    #    h *= T_obs.shape[1]/2\n",
    "    #    i *= T_obs.shape[1]/2\n",
    "    #    \n",
    "    #    np.savetxt(stat_file+'-'+hemi+'-T_stat.tsv', T_obs[:,int(h):int(i)], delimiter='\\t')\n",
    "    #    np.savetxt(stat_file+'-'+hemi+'-p_val.tsv', mask[:,int(h):int(i)], delimiter='\\t')\n",
    "    #\n",
    "    return T_obs, clusters, cluster_pv, H0, mask"
   ]
  },
  {
   "cell_type": "code",
   "execution_count": 6,
   "metadata": {},
   "outputs": [
    {
     "name": "stdout",
     "output_type": "stream",
     "text": [
      "-- number of connected vertices : 20484\n"
     ]
    }
   ],
   "source": [
    "spacing='ico5'\n",
    "connectivity = mne.spatial_tris_connectivity(mne.grade_to_tris(int(spacing[-1])))"
   ]
  },
  {
   "cell_type": "code",
   "execution_count": 7,
   "metadata": {},
   "outputs": [],
   "source": [
    "T_obs=dict(); clusters=dict(); cluster_pv=dict(); H0=dict(); mask=dict()"
   ]
  },
  {
   "cell_type": "code",
   "execution_count": 8,
   "metadata": {},
   "outputs": [
    {
     "name": "stdout",
     "output_type": "stream",
     "text": [
      "stat_fun(H1): min=-5.431127 max=5.500841\n",
      "Running initial clustering\n",
      "Found 1536 clusters\n",
      "Permuting 1023 times...\n",
      "[...................................     ] 87.84314 \\    "
     ]
    },
    {
     "name": "stderr",
     "output_type": "stream",
     "text": [
      "[Parallel(n_jobs=4)]: Done   2 out of   4 | elapsed:  2.9min remaining:  2.9min\n"
     ]
    },
    {
     "name": "stdout",
     "output_type": "stream",
     "text": [
      "[....................................... ] 99.22481 |    "
     ]
    },
    {
     "name": "stderr",
     "output_type": "stream",
     "text": [
      "[Parallel(n_jobs=4)]: Done   4 out of   4 | elapsed:  3.3min remaining:    0.0s\n",
      "[Parallel(n_jobs=4)]: Done   4 out of   4 | elapsed:  3.3min finished\n"
     ]
    },
    {
     "name": "stdout",
     "output_type": "stream",
     "text": [
      "Computing cluster p-values\n",
      "Done.\n",
      "\t RS_vs_FA 202.19359459599946 \n",
      "\t*****\n",
      "\n",
      "stat_fun(H1): min=-6.827243 max=5.303220\n",
      "Running initial clustering\n",
      "Found 1641 clusters\n",
      "Permuting 1023 times...\n",
      "[..................................      ] 86.82171 \\    "
     ]
    },
    {
     "name": "stderr",
     "output_type": "stream",
     "text": [
      "[Parallel(n_jobs=4)]: Done   2 out of   4 | elapsed:  3.0min remaining:  3.0min\n"
     ]
    },
    {
     "name": "stdout",
     "output_type": "stream",
     "text": [
      "[....................................... ] 99.22481 |    "
     ]
    },
    {
     "name": "stderr",
     "output_type": "stream",
     "text": [
      "[Parallel(n_jobs=4)]: Done   4 out of   4 | elapsed:  3.3min remaining:    0.0s\n",
      "[Parallel(n_jobs=4)]: Done   4 out of   4 | elapsed:  3.3min finished\n"
     ]
    },
    {
     "name": "stdout",
     "output_type": "stream",
     "text": [
      "Computing cluster p-values\n",
      "Done.\n",
      "\t RS_vs_OM 202.70285621401854 \n",
      "\t*****\n",
      "\n",
      "stat_fun(H1): min=-5.256599 max=5.757177\n",
      "Running initial clustering\n",
      "Found 1358 clusters\n",
      "Permuting 1023 times...\n",
      "[..................................      ] 86.82171 \\    "
     ]
    },
    {
     "name": "stderr",
     "output_type": "stream",
     "text": [
      "[Parallel(n_jobs=4)]: Done   2 out of   4 | elapsed:  2.9min remaining:  2.9min\n"
     ]
    },
    {
     "name": "stdout",
     "output_type": "stream",
     "text": [
      "[....................................... ] 99.22481 |    "
     ]
    },
    {
     "name": "stderr",
     "output_type": "stream",
     "text": [
      "[Parallel(n_jobs=4)]: Done   4 out of   4 | elapsed:  3.2min remaining:    0.0s\n",
      "[Parallel(n_jobs=4)]: Done   4 out of   4 | elapsed:  3.2min finished\n"
     ]
    },
    {
     "name": "stdout",
     "output_type": "stream",
     "text": [
      "Computing cluster p-values\n",
      "Done.\n",
      "\t OM_vs_FA 198.0216528280289 \n",
      "\t*****\n",
      "\n",
      "stat_fun(H1): min=-9.361886 max=7.372431\n",
      "Running initial clustering\n",
      "Found 1532 clusters\n",
      "Permuting 1023 times...\n",
      "[....................................... ] 99.22481 |    "
     ]
    },
    {
     "name": "stderr",
     "output_type": "stream",
     "text": [
      "[Parallel(n_jobs=4)]: Done   2 out of   4 | elapsed:  2.3min remaining:  2.3min\n",
      "[Parallel(n_jobs=4)]: Done   4 out of   4 | elapsed:  2.5min remaining:    0.0s\n",
      "[Parallel(n_jobs=4)]: Done   4 out of   4 | elapsed:  2.5min finished\n"
     ]
    },
    {
     "name": "stdout",
     "output_type": "stream",
     "text": [
      "Computing cluster p-values\n",
      "Done.\n",
      "\t RS_vs_FA+E 152.23418984102318 \n",
      "\t*****\n",
      "\n",
      "stat_fun(H1): min=-7.994509 max=8.757515\n",
      "Running initial clustering\n",
      "Found 1448 clusters\n",
      "Permuting 1023 times...\n",
      "[....................................... ] 99.22481 |    "
     ]
    },
    {
     "name": "stderr",
     "output_type": "stream",
     "text": [
      "[Parallel(n_jobs=4)]: Done   2 out of   4 | elapsed:  2.2min remaining:  2.2min\n",
      "[Parallel(n_jobs=4)]: Done   4 out of   4 | elapsed:  2.4min remaining:    0.0s\n",
      "[Parallel(n_jobs=4)]: Done   4 out of   4 | elapsed:  2.4min finished\n"
     ]
    },
    {
     "name": "stdout",
     "output_type": "stream",
     "text": [
      "Computing cluster p-values\n",
      "Done.\n",
      "\t RS_vs_OM+E 146.08675035095075 \n",
      "\t*****\n",
      "\n",
      "stat_fun(H1): min=-8.665071 max=9.326581\n",
      "Running initial clustering\n",
      "Found 1604 clusters\n",
      "Permuting 1023 times...\n",
      "[..................................      ] 86.82171 \\    "
     ]
    },
    {
     "name": "stderr",
     "output_type": "stream",
     "text": [
      "[Parallel(n_jobs=4)]: Done   2 out of   4 | elapsed:  2.4min remaining:  2.4min\n"
     ]
    },
    {
     "name": "stdout",
     "output_type": "stream",
     "text": [
      "[....................................... ] 99.22481 |    "
     ]
    },
    {
     "name": "stderr",
     "output_type": "stream",
     "text": [
      "[Parallel(n_jobs=4)]: Done   4 out of   4 | elapsed:  2.5min remaining:    0.0s\n",
      "[Parallel(n_jobs=4)]: Done   4 out of   4 | elapsed:  2.5min finished\n"
     ]
    },
    {
     "name": "stdout",
     "output_type": "stream",
     "text": [
      "Computing cluster p-values\n",
      "Done.\n",
      "\t OM_vs_FA+E 150.09211933001643 \n",
      "\t*****\n",
      "\n",
      "stat_fun(H1): min=-6.845949 max=6.530486\n",
      "Running initial clustering\n",
      "Found 1659 clusters\n",
      "Permuting 1023 times...\n",
      "[...................................     ] 87.84314 \\    "
     ]
    },
    {
     "name": "stderr",
     "output_type": "stream",
     "text": [
      "[Parallel(n_jobs=4)]: Done   2 out of   4 | elapsed:  2.6min remaining:  2.6min\n"
     ]
    },
    {
     "name": "stdout",
     "output_type": "stream",
     "text": [
      "[....................................... ] 99.22481 |    "
     ]
    },
    {
     "name": "stderr",
     "output_type": "stream",
     "text": [
      "[Parallel(n_jobs=4)]: Done   4 out of   4 | elapsed:  2.9min remaining:    0.0s\n",
      "[Parallel(n_jobs=4)]: Done   4 out of   4 | elapsed:  2.9min finished\n"
     ]
    },
    {
     "name": "stdout",
     "output_type": "stream",
     "text": [
      "Computing cluster p-values\n",
      "Done.\n",
      "\t RS_vs_FA+N 174.80925849999767 \n",
      "\t*****\n",
      "\n",
      "stat_fun(H1): min=-8.126281 max=6.088897\n",
      "Running initial clustering\n",
      "Found 1798 clusters\n",
      "Permuting 1023 times...\n",
      "[...................................     ] 87.84314 \\    "
     ]
    },
    {
     "name": "stderr",
     "output_type": "stream",
     "text": [
      "[Parallel(n_jobs=4)]: Done   2 out of   4 | elapsed:  2.5min remaining:  2.5min\n"
     ]
    },
    {
     "name": "stdout",
     "output_type": "stream",
     "text": [
      "[....................................... ] 99.22481 |    "
     ]
    },
    {
     "name": "stderr",
     "output_type": "stream",
     "text": [
      "[Parallel(n_jobs=4)]: Done   4 out of   4 | elapsed:  2.8min remaining:    0.0s\n",
      "[Parallel(n_jobs=4)]: Done   4 out of   4 | elapsed:  2.8min finished\n"
     ]
    },
    {
     "name": "stdout",
     "output_type": "stream",
     "text": [
      "Computing cluster p-values\n",
      "Done.\n",
      "\t RS_vs_OM+N 171.83271448599407 \n",
      "\t*****\n",
      "\n",
      "stat_fun(H1): min=-5.618915 max=6.145815\n",
      "Running initial clustering\n",
      "Found 1471 clusters\n",
      "Permuting 1023 times...\n",
      "[..................................      ] 86.82171 \\    "
     ]
    },
    {
     "name": "stderr",
     "output_type": "stream",
     "text": [
      "[Parallel(n_jobs=4)]: Done   2 out of   4 | elapsed:  2.5min remaining:  2.5min\n"
     ]
    },
    {
     "name": "stdout",
     "output_type": "stream",
     "text": [
      "[....................................... ] 99.22481 |    "
     ]
    },
    {
     "name": "stderr",
     "output_type": "stream",
     "text": [
      "[Parallel(n_jobs=4)]: Done   4 out of   4 | elapsed:  2.8min remaining:    0.0s\n",
      "[Parallel(n_jobs=4)]: Done   4 out of   4 | elapsed:  2.8min finished\n"
     ]
    },
    {
     "name": "stdout",
     "output_type": "stream",
     "text": [
      "Computing cluster p-values\n",
      "Done.\n",
      "\t OM_vs_FA+N 177.05870076501742 \n",
      "\t*****\n",
      "\n",
      "stat_fun(H1): min=0.000000 max=44.086597\n",
      "Running initial clustering\n",
      "Found 3092 clusters\n",
      "Permuting 1023 times...\n",
      "[...................................     ] 87.84314 \\    "
     ]
    },
    {
     "name": "stderr",
     "output_type": "stream",
     "text": [
      "[Parallel(n_jobs=4)]: Done   2 out of   4 | elapsed:  9.7min remaining:  9.7min\n"
     ]
    },
    {
     "name": "stdout",
     "output_type": "stream",
     "text": [
      "[....................................... ] 99.22481 |    "
     ]
    },
    {
     "name": "stderr",
     "output_type": "stream",
     "text": [
      "[Parallel(n_jobs=4)]: Done   4 out of   4 | elapsed: 11.1min remaining:    0.0s\n",
      "[Parallel(n_jobs=4)]: Done   4 out of   4 | elapsed: 11.1min finished\n"
     ]
    },
    {
     "name": "stdout",
     "output_type": "stream",
     "text": [
      "Computing cluster p-values\n",
      "Done.\n",
      "\t N_vs_E+RS 671.2010871809907 \n",
      "\t*****\n",
      "\n",
      "stat_fun(H1): min=0.000000 max=32.849788\n",
      "Running initial clustering\n",
      "Found 3178 clusters\n",
      "Permuting 1023 times...\n",
      "[..................................      ] 86.82171 \\    "
     ]
    },
    {
     "name": "stderr",
     "output_type": "stream",
     "text": [
      "[Parallel(n_jobs=4)]: Done   2 out of   4 | elapsed: 10.0min remaining: 10.0min\n"
     ]
    },
    {
     "name": "stdout",
     "output_type": "stream",
     "text": [
      "[....................................... ] 99.22481 |    "
     ]
    },
    {
     "name": "stderr",
     "output_type": "stream",
     "text": [
      "[Parallel(n_jobs=4)]: Done   4 out of   4 | elapsed: 11.1min remaining:    0.0s\n",
      "[Parallel(n_jobs=4)]: Done   4 out of   4 | elapsed: 11.1min finished\n"
     ]
    },
    {
     "name": "stdout",
     "output_type": "stream",
     "text": [
      "Computing cluster p-values\n",
      "Done.\n",
      "\t N_vs_E+FA 668.975394862995 \n",
      "\t*****\n",
      "\n",
      "stat_fun(H1): min=0.000000 max=33.681089\n",
      "Running initial clustering\n",
      "Found 3365 clusters\n",
      "Permuting 1023 times...\n",
      "[...................................     ] 87.84314 \\    "
     ]
    },
    {
     "name": "stderr",
     "output_type": "stream",
     "text": [
      "[Parallel(n_jobs=4)]: Done   2 out of   4 | elapsed: 10.0min remaining: 10.0min\n"
     ]
    },
    {
     "name": "stdout",
     "output_type": "stream",
     "text": [
      "[....................................... ] 99.22481 |    "
     ]
    },
    {
     "name": "stderr",
     "output_type": "stream",
     "text": [
      "[Parallel(n_jobs=4)]: Done   4 out of   4 | elapsed: 10.6min remaining:    0.0s\n",
      "[Parallel(n_jobs=4)]: Done   4 out of   4 | elapsed: 10.6min finished\n"
     ]
    },
    {
     "name": "stdout",
     "output_type": "stream",
     "text": [
      "Computing cluster p-values\n",
      "Done.\n",
      "\t N_vs_E+OM 639.5274334980058 \n",
      "\t*****\n",
      "\n",
      "stat_fun(H1): min=0.000000 max=40.702408\n",
      "Running initial clustering\n",
      "Found 4025 clusters\n",
      "Permuting 1023 times...\n",
      "[....................................... ] 99.22481 |    "
     ]
    },
    {
     "name": "stderr",
     "output_type": "stream",
     "text": [
      "[Parallel(n_jobs=4)]: Done   2 out of   4 | elapsed: 10.5min remaining: 10.5min\n",
      "[Parallel(n_jobs=4)]: Done   4 out of   4 | elapsed: 10.9min remaining:    0.0s\n",
      "[Parallel(n_jobs=4)]: Done   4 out of   4 | elapsed: 10.9min finished\n"
     ]
    },
    {
     "name": "stdout",
     "output_type": "stream",
     "text": [
      "Computing cluster p-values\n",
      "Done.\n",
      "\t N_vs_E+FA-RS 658.5269528509816 \n",
      "\t*****\n",
      "\n",
      "stat_fun(H1): min=0.000000 max=38.250931\n",
      "Running initial clustering\n",
      "Found 3890 clusters\n",
      "Permuting 1023 times...\n",
      "[...................................     ] 87.84314 \\    "
     ]
    },
    {
     "name": "stderr",
     "output_type": "stream",
     "text": [
      "[Parallel(n_jobs=4)]: Done   2 out of   4 | elapsed: 10.1min remaining: 10.1min\n"
     ]
    },
    {
     "name": "stdout",
     "output_type": "stream",
     "text": [
      "[....................................... ] 99.22481 |    "
     ]
    },
    {
     "name": "stderr",
     "output_type": "stream",
     "text": [
      "[Parallel(n_jobs=4)]: Done   4 out of   4 | elapsed: 10.8min remaining:    0.0s\n",
      "[Parallel(n_jobs=4)]: Done   4 out of   4 | elapsed: 10.8min finished\n"
     ]
    },
    {
     "name": "stdout",
     "output_type": "stream",
     "text": [
      "Computing cluster p-values\n",
      "Done.\n",
      "\t N_vs_E+OM-RS 659.5115441179951 \n",
      "\t*****\n",
      "\n",
      "stat_fun(H1): min=0.000000 max=32.486025\n",
      "Running initial clustering\n",
      "Found 4161 clusters\n",
      "Permuting 1023 times...\n",
      "[...................................     ] 87.84314 \\    "
     ]
    },
    {
     "name": "stderr",
     "output_type": "stream",
     "text": [
      "[Parallel(n_jobs=4)]: Done   2 out of   4 | elapsed: 10.4min remaining: 10.4min\n"
     ]
    },
    {
     "name": "stdout",
     "output_type": "stream",
     "text": [
      "[....................................... ] 99.22481 |    "
     ]
    },
    {
     "name": "stderr",
     "output_type": "stream",
     "text": [
      "[Parallel(n_jobs=4)]: Done   4 out of   4 | elapsed: 10.9min remaining:    0.0s\n",
      "[Parallel(n_jobs=4)]: Done   4 out of   4 | elapsed: 10.9min finished\n"
     ]
    },
    {
     "name": "stdout",
     "output_type": "stream",
     "text": [
      "Computing cluster p-values\n",
      "Done.\n",
      "\t N_vs_E+FA-OM 658.3602882909472 \n",
      "\t*****\n",
      "\n",
      "\n",
      "*****\n",
      "Total running time: 5531.146985872008\n"
     ]
    }
   ],
   "source": [
    "t0 = time.perf_counter()\n",
    "ti = t0\n",
    "start = .35#float(stc.time[0])\n",
    "stop = .5#float(stc.time[-1])\n",
    "vertno = np.arange(stc.shape[-1]/2, dtype=int)\n",
    "\n",
    "stat_path = op.join(Analysis_path, task, 'meg', 'Stats', '{}_{}'.format(round(start,4),round(stop,4)))\n",
    "if not op.isdir(stat_path):\n",
    "    os.makedirs(stat_path)\n",
    "stat_file = op.join(stat_path, name+'-'+noise_cov+'.nc')\n",
    "\n",
    "test_key = 'RS_vs_FA'\n",
    "T_obs[test_key], clusters[test_key], cluster_pv[test_key], H0[test_key], mask[test_key] = cluster_perm_test(stc.loc['RS',:,start:stop].values, stc.loc['FA',:,start:stop].values, stat_file=stat_file, test_key=test_key, times=stc.time.loc[start:stop], vertices=vertno, connectivity=connectivity, paired=True)\n",
    "print('\\t',test_key, time.perf_counter()-ti,'\\n\\t*****\\n')\n",
    "ti = time.perf_counter()\n",
    "\n",
    "test_key = 'RS_vs_OM'\n",
    "T_obs[test_key], clusters[test_key], cluster_pv[test_key], H0[test_key], mask[test_key] = cluster_perm_test(stc.loc['RS',:,start:stop].values, stc.loc['OM',:,start:stop].values, stat_file=stat_file, test_key=test_key, times=stc.time.loc[start:stop], vertices=vertno, connectivity=connectivity, paired=True)\n",
    "print('\\t',test_key, time.perf_counter()-ti,'\\n\\t*****\\n')\n",
    "ti = time.perf_counter()\n",
    "\n",
    "test_key = 'OM_vs_FA'\n",
    "T_obs[test_key], clusters[test_key], cluster_pv[test_key], H0[test_key], mask[test_key] = cluster_perm_test(stc.loc['OM',:,start:stop].values, stc.loc['FA',:,start:stop].values, stat_file=stat_file, test_key=test_key, times=stc.time.loc[start:stop], vertices=vertno, connectivity=connectivity, paired=True)\n",
    "print('\\t',test_key, time.perf_counter()-ti,'\\n\\t*****\\n')\n",
    "ti = time.perf_counter()\n",
    "\n",
    "test_key = 'RS_vs_FA+E'\n",
    "T_obs[test_key], clusters[test_key], cluster_pv[test_key], H0[test_key], mask[test_key] = cluster_perm_test(stc.loc['RS',experts,start:stop].values, stc.loc['FA',experts,start:stop].values, stat_file=stat_file, test_key=test_key, times=stc.time.loc[start:stop], vertices=vertno, connectivity=connectivity, paired=True)\n",
    "print('\\t',test_key, time.perf_counter()-ti,'\\n\\t*****\\n')\n",
    "ti = time.perf_counter()\n",
    "\n",
    "test_key = 'RS_vs_OM+E'\n",
    "T_obs[test_key], clusters[test_key], cluster_pv[test_key], H0[test_key], mask[test_key] = cluster_perm_test(stc.loc['RS',experts,start:stop].values, stc.loc['OM',experts,start:stop].values, stat_file=stat_file, test_key=test_key, times=stc.time.loc[start:stop], vertices=vertno, connectivity=connectivity, paired=True)\n",
    "print('\\t',test_key, time.perf_counter()-ti,'\\n\\t*****\\n')\n",
    "ti = time.perf_counter()\n",
    "\n",
    "test_key = 'OM_vs_FA+E'\n",
    "T_obs[test_key], clusters[test_key], cluster_pv[test_key], H0[test_key], mask[test_key] = cluster_perm_test(stc.loc['OM',experts,start:stop].values, stc.loc['FA',experts,start:stop].values, stat_file=stat_file, test_key=test_key, times=stc.time.loc[start:stop], vertices=vertno, connectivity=connectivity, paired=True)\n",
    "print('\\t',test_key, time.perf_counter()-ti,'\\n\\t*****\\n')\n",
    "ti = time.perf_counter()\n",
    "\n",
    "test_key = 'RS_vs_FA+N'\n",
    "T_obs[test_key], clusters[test_key], cluster_pv[test_key], H0[test_key], mask[test_key] = cluster_perm_test(stc.loc['RS',novices,start:stop].values, stc.loc['FA',novices,start:stop].values, stat_file=stat_file, test_key=test_key, times=stc.time.loc[start:stop], vertices=vertno, connectivity=connectivity, paired=True)\n",
    "print('\\t',test_key, time.perf_counter()-ti,'\\n\\t*****\\n')\n",
    "ti = time.perf_counter()\n",
    "\n",
    "test_key = 'RS_vs_OM+N'\n",
    "T_obs[test_key], clusters[test_key], cluster_pv[test_key], H0[test_key], mask[test_key] = cluster_perm_test(stc.loc['RS',novices,start:stop].values, stc.loc['OM',novices,start:stop].values, stat_file=stat_file, test_key=test_key, times=stc.time.loc[start:stop], vertices=vertno, connectivity=connectivity, paired=True)\n",
    "print('\\t',test_key, time.perf_counter()-ti,'\\n\\t*****\\n')\n",
    "ti = time.perf_counter()\n",
    "\n",
    "test_key = 'OM_vs_FA+N'\n",
    "T_obs[test_key], clusters[test_key], cluster_pv[test_key], H0[test_key], mask[test_key] = cluster_perm_test(stc.loc['OM',novices,start:stop].values, stc.loc['FA',novices,start:stop].values, stat_file=stat_file, test_key=test_key, times=stc.time.loc[start:stop], vertices=vertno, connectivity=connectivity, paired=True)\n",
    "print('\\t',test_key, time.perf_counter()-ti,'\\n\\t*****\\n')\n",
    "ti = time.perf_counter()\n",
    "\n",
    "\n",
    "test_key = 'N_vs_E+RS'\n",
    "T_obs[test_key], clusters[test_key], cluster_pv[test_key], H0[test_key], mask[test_key] = cluster_perm_test(stc.loc['RS',novices,start:stop].values, stc.loc['RS',experts,start:stop].values, stat_file=stat_file, test_key=test_key, times=stc.time.loc[start:stop], vertices=vertno, connectivity=connectivity)\n",
    "print('\\t',test_key, time.perf_counter()-ti,'\\n\\t*****\\n')\n",
    "ti = time.perf_counter()\n",
    "\n",
    "test_key = 'N_vs_E+FA'\n",
    "T_obs[test_key], clusters[test_key], cluster_pv[test_key], H0[test_key], mask[test_key] = cluster_perm_test(stc.loc['FA',novices,start:stop].values, stc.loc['FA',experts,start:stop].values, stat_file=stat_file, test_key=test_key, times=stc.time.loc[start:stop], vertices=vertno, connectivity=connectivity)\n",
    "print('\\t',test_key, time.perf_counter()-ti,'\\n\\t*****\\n')\n",
    "ti = time.perf_counter()\n",
    "\n",
    "test_key = 'N_vs_E+OM'\n",
    "T_obs[test_key], clusters[test_key], cluster_pv[test_key], H0[test_key], mask[test_key] = cluster_perm_test(stc.loc['OM',novices,start:stop].values, stc.loc['OM',experts,start:stop].values, stat_file=stat_file, test_key=test_key, times=stc.time.loc[start:stop], vertices=vertno, connectivity=connectivity)\n",
    "print('\\t',test_key, time.perf_counter()-ti,'\\n\\t*****\\n')\n",
    "ti = time.perf_counter()\n",
    "\n",
    "test_key = 'N_vs_E+FA-RS'\n",
    "T_obs[test_key], clusters[test_key], cluster_pv[test_key], H0[test_key], mask[test_key] = cluster_perm_test(stc.loc['FA',novices,start:stop].values-stc.loc['RS',novices,start:stop].values, stc.loc['FA',experts,start:stop].values-stc.loc['RS',experts,start:stop].values, stat_file=stat_file, test_key=test_key, times=stc.time.loc[start:stop], vertices=vertno, connectivity=connectivity)\n",
    "print('\\t',test_key, time.perf_counter()-ti,'\\n\\t*****\\n')\n",
    "ti = time.perf_counter()\n",
    "\n",
    "test_key = 'N_vs_E+OM-RS'\n",
    "T_obs[test_key], clusters[test_key], cluster_pv[test_key], H0[test_key], mask[test_key] = cluster_perm_test(stc.loc['OM',novices,start:stop].values-stc.loc['RS',novices,start:stop].values, stc.loc['OM',experts,start:stop].values-stc.loc['RS',experts,start:stop].values, stat_file=stat_file, test_key=test_key, times=stc.time.loc[start:stop], vertices=vertno, connectivity=connectivity)\n",
    "print('\\t',test_key, time.perf_counter()-ti,'\\n\\t*****\\n')\n",
    "ti = time.perf_counter()\n",
    "\n",
    "test_key = 'N_vs_E+FA-OM'\n",
    "T_obs[test_key], clusters[test_key], cluster_pv[test_key], H0[test_key], mask[test_key] = cluster_perm_test(stc.loc['FA',novices,start:stop].values-stc.loc['OM',novices,start:stop].values, stc.loc['FA',experts,start:stop].values-stc.loc['OM',experts,start:stop].values, stat_file=stat_file, test_key=test_key, times=stc.time.loc[start:stop], vertices=vertno, connectivity=connectivity)\n",
    "print('\\t',test_key, time.perf_counter()-ti,'\\n\\t*****\\n')\n",
    "ti = time.perf_counter()\n",
    "\n",
    "\n",
    "T = ti - t0\n",
    "print('\\n*****\\nTotal running time:', T)"
   ]
  }
 ],
 "metadata": {
  "kernelspec": {
   "display_name": "Python 3",
   "language": "python",
   "name": "python3"
  },
  "language_info": {
   "codemirror_mode": {
    "name": "ipython",
    "version": 3
   },
   "file_extension": ".py",
   "mimetype": "text/x-python",
   "name": "python",
   "nbconvert_exporter": "python",
   "pygments_lexer": "ipython3",
   "version": "3.5.2"
  }
 },
 "nbformat": 4,
 "nbformat_minor": 2
}
