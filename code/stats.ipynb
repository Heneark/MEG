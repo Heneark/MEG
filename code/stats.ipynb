{
 "cells": [
  {
   "cell_type": "code",
   "execution_count": 1,
   "metadata": {},
   "outputs": [],
   "source": [
    "from header import *\n",
    "#import matplotlib.pyplot as plt\n",
    "#import mne\n",
    "#import numpy as np\n",
    "from scipy.stats.distributions import f,t\n",
    "import visbrain\n",
    "from visbrain.objects import BrainObj, ColorbarObj, SceneObj, SourceObj\n",
    "from visbrain.io import read_stc\n",
    "import xarray as xr"
   ]
  },
  {
   "cell_type": "code",
   "execution_count": 2,
   "metadata": {},
   "outputs": [],
   "source": [
    "t0 = time.perf_counter()\n",
    "task = 'SMEG' #'MIMOSA'\n",
    "states = ['RS','FA','OM']\n",
    "subjects = get_subjlist(task)\n",
    "\n",
    "reject = ['004', '010']\n",
    "for sub in reject:\n",
    "    if sub in subjects:\n",
    "        subjects.remove(sub)\n",
    "\n",
    "subjects.sort()\n",
    "\n",
    "experts = []\n",
    "novices = []\n",
    "for sub in subjects:\n",
    "    if expertise(sub) == 'N':\n",
    "        novices.append(sub)\n",
    "    if expertise(sub) == 'E':\n",
    "        experts.append(sub)"
   ]
  },
  {
   "cell_type": "code",
   "execution_count": 3,
   "metadata": {},
   "outputs": [],
   "source": [
    "names = ['R_ECG_included', 'R_ECG_excluded', 'T_ECG_included', 'T_ECG_excluded']\n",
    "noise_cov = 'baseline_cov'\n",
    "fsaverage = '-fsaverage'#or False\n",
    "stc_ext = '-lh.stc'\n",
    "stc_path = op.join(Analysis_path, task, 'meg', 'SourceEstimate')"
   ]
  },
  {
   "cell_type": "code",
   "execution_count": 4,
   "metadata": {},
   "outputs": [
    {
     "ename": "AttributeError",
     "evalue": "'numpy.ndarray' object has no attribute 'times'",
     "output_type": "error",
     "traceback": [
      "\u001b[1;31m---------------------------------------------------------------------------\u001b[0m",
      "\u001b[1;31mAttributeError\u001b[0m                            Traceback (most recent call last)",
      "\u001b[1;32m<ipython-input-4-6f73e6fca6af>\u001b[0m in \u001b[0;36m<module>\u001b[1;34m()\u001b[0m\n\u001b[0;32m      6\u001b[0m             \u001b[0mdata\u001b[0m \u001b[1;33m=\u001b[0m \u001b[0mnp\u001b[0m\u001b[1;33m.\u001b[0m\u001b[0mrandom\u001b[0m\u001b[1;33m.\u001b[0m\u001b[0mrand\u001b[0m\u001b[1;33m(\u001b[0m\u001b[1;36m20484\u001b[0m\u001b[1;33m,\u001b[0m\u001b[1;36m1561\u001b[0m\u001b[1;33m)\u001b[0m\u001b[1;33m\u001b[0m\u001b[0m\n\u001b[0;32m      7\u001b[0m             \u001b[1;32mif\u001b[0m \u001b[1;32mnot\u001b[0m \u001b[0mn\u001b[0m \u001b[1;32mand\u001b[0m \u001b[1;32mnot\u001b[0m \u001b[0mt\u001b[0m \u001b[1;32mand\u001b[0m \u001b[1;32mnot\u001b[0m \u001b[0ms\u001b[0m\u001b[1;33m:\u001b[0m\u001b[1;33m\u001b[0m\u001b[0m\n\u001b[1;32m----> 8\u001b[1;33m                 \u001b[0mtimes\u001b[0m \u001b[1;33m=\u001b[0m \u001b[0mdata\u001b[0m\u001b[1;33m.\u001b[0m\u001b[0mtimes\u001b[0m\u001b[1;33m\u001b[0m\u001b[0m\n\u001b[0m\u001b[0;32m      9\u001b[0m                 \u001b[0mvertices\u001b[0m \u001b[1;33m=\u001b[0m \u001b[0mnp\u001b[0m\u001b[1;33m.\u001b[0m\u001b[0mconcatenate\u001b[0m\u001b[1;33m(\u001b[0m\u001b[1;33m[\u001b[0m\u001b[1;33m[\u001b[0m\u001b[1;34m'lh_'\u001b[0m \u001b[1;33m+\u001b[0m \u001b[0mstr\u001b[0m\u001b[1;33m(\u001b[0m\u001b[0mx\u001b[0m\u001b[1;33m)\u001b[0m \u001b[1;32mfor\u001b[0m \u001b[0mx\u001b[0m \u001b[1;32min\u001b[0m \u001b[0mdata\u001b[0m\u001b[1;33m.\u001b[0m\u001b[0mlh_vertno\u001b[0m\u001b[1;33m]\u001b[0m\u001b[1;33m,\u001b[0m\u001b[1;33m[\u001b[0m\u001b[1;34m'rh_'\u001b[0m \u001b[1;33m+\u001b[0m \u001b[0mstr\u001b[0m\u001b[1;33m(\u001b[0m\u001b[0mx\u001b[0m\u001b[1;33m)\u001b[0m \u001b[1;32mfor\u001b[0m \u001b[0mx\u001b[0m \u001b[1;32min\u001b[0m \u001b[0mdata\u001b[0m\u001b[1;33m.\u001b[0m\u001b[0mrh_vertno\u001b[0m\u001b[1;33m]\u001b[0m\u001b[1;33m]\u001b[0m\u001b[1;33m)\u001b[0m\u001b[1;33m\u001b[0m\u001b[0m\n\u001b[0;32m     10\u001b[0m                 \u001b[0mstc\u001b[0m \u001b[1;33m=\u001b[0m \u001b[0mnp\u001b[0m\u001b[1;33m.\u001b[0m\u001b[0mzeros\u001b[0m\u001b[1;33m(\u001b[0m\u001b[1;33m(\u001b[0m\u001b[0mlen\u001b[0m\u001b[1;33m(\u001b[0m\u001b[0mnames\u001b[0m\u001b[1;33m)\u001b[0m\u001b[1;33m,\u001b[0m \u001b[0mlen\u001b[0m\u001b[1;33m(\u001b[0m\u001b[0mstates\u001b[0m\u001b[1;33m)\u001b[0m\u001b[1;33m,\u001b[0m \u001b[0mlen\u001b[0m\u001b[1;33m(\u001b[0m\u001b[0msubjects\u001b[0m\u001b[1;33m)\u001b[0m\u001b[1;33m,\u001b[0m \u001b[0mdata\u001b[0m\u001b[1;33m.\u001b[0m\u001b[0mdata\u001b[0m\u001b[1;33m.\u001b[0m\u001b[0mshape\u001b[0m\u001b[1;33m[\u001b[0m\u001b[1;36m1\u001b[0m\u001b[1;33m]\u001b[0m\u001b[1;33m,\u001b[0m \u001b[0mdata\u001b[0m\u001b[1;33m.\u001b[0m\u001b[0mdata\u001b[0m\u001b[1;33m.\u001b[0m\u001b[0mshape\u001b[0m\u001b[1;33m[\u001b[0m\u001b[1;36m0\u001b[0m\u001b[1;33m]\u001b[0m\u001b[1;33m)\u001b[0m\u001b[1;33m)\u001b[0m\u001b[1;33m\u001b[0m\u001b[0m\n",
      "\u001b[1;31mAttributeError\u001b[0m: 'numpy.ndarray' object has no attribute 'times'"
     ]
    }
   ],
   "source": [
    "for n,name in enumerate(names[:1]):\n",
    "    for t,state in enumerate(states[:1]):\n",
    "        for s,sub in enumerate(subjects[:6]):\n",
    "            stc_file = op.join(stc_path, sub, state+'*'+name+'*'+noise_cov+'*'+(fsaverage if fsaverage else '')+stc_ext)\n",
    "            data = mne.read_source_estimate(glob.glob(stc_file)[0].strip(stc_ext))\n",
    "            #data = np.random.rand(20484,1561)\n",
    "            if not n and not t and not s:\n",
    "                times = data.times\n",
    "                vertices = np.concatenate([['lh_' + str(x) for x in data.lh_vertno],['rh_' + str(x) for x in data.rh_vertno]])\n",
    "                stc = np.zeros((len(names), len(states), len(subjects), data.data.shape[1], data.data.shape[0]))\n",
    "            stc[n,t,s] = data.data.T"
   ]
  },
  {
   "cell_type": "code",
   "execution_count": null,
   "metadata": {},
   "outputs": [],
   "source": [
    "stc = xr.DataArray(stc, dims=['epoch', 'state', 'subject', 'src', 'time'], coords={'epoch':names, 'state':states, 'subject':subjects, 'time':times, 'src':vertices})"
   ]
  },
  {
   "cell_type": "code",
   "execution_count": null,
   "metadata": {},
   "outputs": [],
   "source": [
    "def cluster_perm_test(X1, X2, p_threshold=0.01, spacing='ico5', paired=False):\n",
    "    \"\"\"\n",
    "    If paired, test X2-X1.\n",
    "    Input: arrays of shape (subjects, time, space)\n",
    "    \"\"\"\n",
    "    X1 = np.abs(X1)\n",
    "    X2 = np.abs(X2)\n",
    "    \n",
    "    f_threshold = f.ppf(1 - p_threshold / 2, X1.shape[0] - 1, X2.shape[0] - 1)\n",
    "    t_threshold = t.ppf(p_threshold / 2, (X2-X1).shape[0] - 1)\n",
    "    connectivity = mne.spatial_tris_connectivity(mne.grade_to_tris(int(spacing[-1])))\n",
    "    \n",
    "    if paired:\n",
    "        return spatio_temporal_cluster_1samp_test((X2-X1), connectivity=connectivity, threshold=t_threshold, n_jobs=4)\n",
    "    return spatio_temporal_cluster_test([X1,X2], connectivity=connectivity, threshold=f_threshold, n_jobs=4)"
   ]
  },
  {
   "cell_type": "code",
   "execution_count": null,
   "metadata": {},
   "outputs": [],
   "source": [
    "#T_obs, clusters, cluster_pv, H0 = cluster_perm_test(stc.loc['R_ECG_included','RS'], stc.loc['R_ECG_included','FA'], paired=T)\n",
    "#T_obs, clusters, cluster_pv, H0 = cluster_perm_test(stc.loc['R_ECG_included','RS',experts], stc.loc['R_ECG_included','FA',experts], paired=T)\n",
    "#T_obs, clusters, cluster_pv, H0 = cluster_perm_test(stc.loc['R_ECG_included','RS',novices], stc.loc['R_ECG_included','FA',novices], paired=T)\n",
    "\n",
    "#T_obs, clusters, cluster_pv, H0 = cluster_perm_test(stc.loc['R_ECG_included','RS',novices], stc.loc['R_ECG_included','RS',experts])\n",
    "#T_obs, clusters, cluster_pv, H0 = cluster_perm_test(stc.loc['R_ECG_included','FA',novices]-stc.loc['R_ECG_included','RS',novices], stc.loc['R_ECG_included','FA',experts]-stc.loc['R_ECG_included','RS',experts])\n"
   ]
  }
 ],
 "metadata": {
  "kernelspec": {
   "display_name": "Python 3",
   "language": "python",
   "name": "python3"
  },
  "language_info": {
   "codemirror_mode": {
    "name": "ipython",
    "version": 3
   },
   "file_extension": ".py",
   "mimetype": "text/x-python",
   "name": "python",
   "nbconvert_exporter": "python",
   "pygments_lexer": "ipython3",
   "version": "3.6.3"
  }
 },
 "nbformat": 4,
 "nbformat_minor": 2
}
