{
 "cells": [
  {
   "cell_type": "code",
   "execution_count": 26,
   "metadata": {
    "ExecuteTime": {
     "end_time": "2018-05-31T16:28:38.455672Z",
     "start_time": "2018-05-31T16:28:38.029386Z"
    }
   },
   "outputs": [],
   "source": [
    "from header import *\n",
    "import psutil\n",
    "from mne.stats import spatio_temporal_cluster_1samp_test, spatio_temporal_cluster_test, permutation_cluster_1samp_test, permutation_cluster_test\n",
    "from scipy.stats.distributions import f,t\n",
    "from tqdm import tqdm\n",
    "import visbrain\n",
    "from visbrain.objects import BrainObj, ColorbarObj, SceneObj, SourceObj\n",
    "import xarray as xr\n",
    "warnings.filterwarnings(\"ignore\",category=DeprecationWarning)"
   ]
  },
  {
   "cell_type": "code",
   "execution_count": 2,
   "metadata": {
    "ExecuteTime": {
     "end_time": "2018-05-31T16:28:49.581843Z",
     "start_time": "2018-05-31T16:28:49.549387Z"
    }
   },
   "outputs": [],
   "source": [
    "t0 = time.perf_counter()\n",
    "task = 'SMEG' #'MIMOSA'\n",
    "states = ['RS','FA','OM']\n",
    "subjects = get_subjlist(task)\n",
    "subjects = subjects[:subjects.index('109')]\n",
    "\n",
    "reject = ['069', '072']\n",
    "for sub in reject:\n",
    "    if sub in subjects:\n",
    "        subjects.remove(sub)\n",
    "\n",
    "subjects.sort()\n",
    "#subjects = ['002', '007', '012', '014', '018', '032', '037', '042', '083', '087', '089', '091', '050', '055', '064', '067', '068', '070', '073']\n",
    "experts = []\n",
    "novices = []\n",
    "experts_i = []\n",
    "novices_i = []\n",
    "for s,sub in enumerate(subjects):\n",
    "    if expertise(sub) == 'N':\n",
    "        novices.append(sub)\n",
    "        novices_i.append(s)\n",
    "    if expertise(sub) == 'E':\n",
    "        experts.append(sub)\n",
    "        experts_i.append(s)"
   ]
  },
  {
   "cell_type": "code",
   "execution_count": 3,
   "metadata": {},
   "outputs": [],
   "source": [
    "names = ['R_ECG_included', 'R_ECG_excluded', 'T_ECG_included', 'T_ECG_excluded']\n",
    "name = names[-1]\n",
    "noise_cov = 'baseline_cov'\n",
    "stc_ext = '-lh.stc'\n",
    "sfreq = 200\n",
    "surface = 'ico4'\n",
    "start = None\n",
    "stop = None\n",
    "stc_path = op.join(Analysis_path, task, 'meg', 'SourceEstimate')"
   ]
  },
  {
   "cell_type": "code",
   "execution_count": 4,
   "metadata": {},
   "outputs": [
    {
     "data": {
      "text/plain": [
       "<xarray.DataArray (state: 3, subject: 34, time: 30, src: 20484)>\n",
       "array([[[[7.810948e-01, ..., 4.181406e-03],\n",
       "         ...,\n",
       "         [8.875490e-01, ..., 1.067179e+00]],\n",
       "\n",
       "        ...,\n",
       "\n",
       "        [[2.317508e+00, ..., 1.940817e+00],\n",
       "         ...,\n",
       "         [1.380180e+00, ..., 6.799102e+00]]],\n",
       "\n",
       "\n",
       "       ...,\n",
       "\n",
       "\n",
       "       [[[1.652794e+00, ..., 6.170549e-01],\n",
       "         ...,\n",
       "         [9.672354e-01, ..., 1.057426e+00]],\n",
       "\n",
       "        ...,\n",
       "\n",
       "        [[1.563739e+00, ..., 6.617996e-01],\n",
       "         ...,\n",
       "         [1.050953e+00, ..., 1.335383e+00]]]])\n",
       "Coordinates:\n",
       "  * src      (src) object 'lh_0' 'lh_1' 'lh_2' 'lh_3' 'lh_4' 'lh_5' 'lh_6' ...\n",
       "  * state    (state) object 'RS' 'FA' 'OM'\n",
       "  * subject  (subject) object '002' '004' '007' '010' '012' '014' '016' ...\n",
       "  * time     (time) float64 0.05 0.055 0.06 0.065 0.07 0.075 0.08 0.085 0.09 ..."
      ]
     },
     "execution_count": 4,
     "metadata": {},
     "output_type": "execute_result"
    }
   ],
   "source": [
    "data_file = op.join(stc_path, 'fsaverage', 'DATASET-{}-surface_{}-{}Hz.nc'.format(noise_cov, surface, sfreq))\n",
    "stc = xr.open_dataarray(data_file, name)\n",
    "stc.load()"
   ]
  },
  {
   "cell_type": "code",
   "execution_count": 4,
   "metadata": {},
   "outputs": [
    {
     "name": "stderr",
     "output_type": "stream",
     "text": [
      "  0%|          | 0/34 [00:00<?, ?it/s]"
     ]
    },
    {
     "name": "stdout",
     "output_type": "stream",
     "text": [
      "RS\n"
     ]
    },
    {
     "name": "stderr",
     "output_type": "stream",
     "text": [
      "100%|██████████| 34/34 [02:24<00:00,  4.25s/it]\n",
      "  0%|          | 0/34 [00:00<?, ?it/s]"
     ]
    },
    {
     "name": "stdout",
     "output_type": "stream",
     "text": [
      "FA\n"
     ]
    },
    {
     "name": "stderr",
     "output_type": "stream",
     "text": [
      "100%|██████████| 34/34 [02:26<00:00,  4.30s/it]\n",
      "  0%|          | 0/34 [00:00<?, ?it/s]"
     ]
    },
    {
     "name": "stdout",
     "output_type": "stream",
     "text": [
      "OM\n"
     ]
    },
    {
     "name": "stderr",
     "output_type": "stream",
     "text": [
      "100%|██████████| 34/34 [02:27<00:00,  4.35s/it]\n"
     ]
    }
   ],
   "source": [
    "for st,state in enumerate(states):\n",
    "    print(state)\n",
    "    for su,sub in enumerate(tqdm(subjects)):\n",
    "        stc_file = op.join(stc_path, 'fsaverage', sub, state+'-'+name+'-'+noise_cov+'*'+stc_ext)\n",
    "        file = glob.glob(stc_file)[0]\n",
    "        data = mne.read_source_estimate(file[:file.index(stc_ext)])\n",
    "        if sfreq:\n",
    "            data.resample(sfreq)\n",
    "        if not st and not su:#and not n \n",
    "            times = data.times\n",
    "            if not start:\n",
    "                start = times[0]\n",
    "            if not stop:\n",
    "                stop = times[-1]\n",
    "            vertices = np.concatenate([['lh_' + str(x) for x in data.lh_vertno],['rh_' + str(x) for x in data.rh_vertno]])\n",
    "            try:\n",
    "                del stc\n",
    "            except:\n",
    "                pass\n",
    "            stc = np.zeros((len(states), len(subjects), data.data.shape[1], data.data.shape[0]))\n",
    "            stc = xr.DataArray(stc, dims=['state', 'subject', 'time', 'src'], coords={'state':states, 'subject':subjects, 'time':times, 'src':vertices})\n",
    "        stc[st,su] = data.data.T\n",
    "        del data"
   ]
  },
  {
   "cell_type": "code",
   "execution_count": 21,
   "metadata": {},
   "outputs": [],
   "source": [
    "def cluster_perm_test(X1, X2, stat_file, test_key, times, vertices, mode='a', p_threshold=0.01, connectivity='ico5', paired=False):\n",
    "    \"\"\"\n",
    "    If paired, test X1-X2.\n",
    "    Input: arrays of shape (subjects, time, space)\n",
    "    \"\"\"\n",
    "    if not isinstance(X2, (np.ndarray, xr.DataArray)):\n",
    "        X2 = np.zeros(X1.shape)\n",
    "    \n",
    "    if type(connectivity) is str:\n",
    "        connectivity = mne.spatial_tris_connectivity(mne.grade_to_tris(int(connectivity[-1])))\n",
    "    \n",
    "    if paired:\n",
    "        X = X1 - X2\n",
    "        t_threshold = -t.ppf(p_threshold / 2, X.shape[0] - 1)\n",
    "        T_obs, clusters, cluster_pv, H0 = spatio_temporal_cluster_1samp_test(X, connectivity=connectivity, threshold=t_threshold, n_jobs=4)\n",
    "    else:\n",
    "        f_threshold = f.ppf(1 - p_threshold / 2, X1.shape[0] - 1, X2.shape[0] - 1)\n",
    "        T_obs, clusters, cluster_pv, H0 = spatio_temporal_cluster_test([X1,X2], connectivity=connectivity, threshold=f_threshold, n_jobs=4)\n",
    "    \n",
    "    p_val = np.ones(T_obs.shape)\n",
    "    clu_inds = np.zeros(T_obs.shape)\n",
    "    \n",
    "    for c,clu in enumerate(clusters):\n",
    "        p_val[clu] = cluster_pv[c]\n",
    "        clu_inds[clu] = c+1\n",
    "    \n",
    "    stats = np.zeros((3, 2, len(times), len(vertices)))\n",
    "    stats = xr.DataArray(stats, dims=['data', 'hemisphere', 'time', 'src'], coords={'data':['T_stat', 'p_val', 'clu_inds'], 'hemisphere':['left', 'right'], 'time':times, 'src':vertices})\n",
    "    for h,hemi in enumerate(['left', 'right']):\n",
    "        i = h + 1\n",
    "        h *= len(vertices)\n",
    "        i *= len(vertices)\n",
    "        stats.loc['T_stat', hemi] = T_obs[:, h:i]\n",
    "        stats.loc['p_val', hemi] = p_val[:, h:i]\n",
    "        stats.loc['clu_inds', hemi] = clu_inds[:, h:i]\n",
    "    \n",
    "    if not op.isdir(op.split(stat_file)[0]):\n",
    "        os.makedirs(op.split(stat_file)[0])\n",
    "    \n",
    "    if not op.isfile(stat_file):\n",
    "        mode = 'w'\n",
    "    \n",
    "    stats.to_netcdf(path=stat_file, group=test_key, mode=mode)\n",
    "    #for h,hemi in enumerate(['lh', 'rh']):\n",
    "    #    i = h + 1\n",
    "    #    h *= T_obs.shape[1]/2\n",
    "    #    i *= T_obs.shape[1]/2\n",
    "    #    \n",
    "    #    np.savetxt(stat_file+'-'+hemi+'-T_stat.tsv', T_obs[:,int(h):int(i)], delimiter='\\t')\n",
    "    #    np.savetxt(stat_file+'-'+hemi+'-p_val.tsv', mask[:,int(h):int(i)], delimiter='\\t')\n",
    "    #\n",
    "    return T_obs, clusters, cluster_pv, H0"
   ]
  },
  {
   "cell_type": "code",
   "execution_count": 8,
   "metadata": {},
   "outputs": [
    {
     "name": "stdout",
     "output_type": "stream",
     "text": [
      "-- number of connected vertices : 20484\n"
     ]
    }
   ],
   "source": [
    "spacing='ico5'\n",
    "connectivity = mne.spatial_tris_connectivity(mne.grade_to_tris(int(spacing[-1])))"
   ]
  },
  {
   "cell_type": "code",
   "execution_count": 7,
   "metadata": {},
   "outputs": [],
   "source": [
    "start = 0.1#stc.time.values[0]\n",
    "stop = 0.2#stc.time.values[-1]\n",
    "vertno = np.arange(stc.shape[-1]/2, dtype=int)\n",
    "\n",
    "stat_path = op.join(Analysis_path, task, 'meg', 'Stats', '{}_{}'.format(round(start,4),round(stop,4)))\n",
    "if not op.isdir(stat_path):\n",
    "    os.makedirs(stat_path)\n",
    "stat_file = op.join(stat_path, '{}-{}-surface_{}-{}Hz.nc'.format(name, noise_cov, surface, sfreq))"
   ]
  },
  {
   "cell_type": "code",
   "execution_count": 8,
   "metadata": {},
   "outputs": [],
   "source": [
    "T_obs=dict(); clusters=dict(); cluster_pv=dict(); H0=dict(); mask=dict()"
   ]
  },
  {
   "cell_type": "markdown",
   "metadata": {},
   "source": [
    "# Heartbeat Evoked Response"
   ]
  },
  {
   "cell_type": "code",
   "execution_count": 35,
   "metadata": {},
   "outputs": [
    {
     "name": "stdout",
     "output_type": "stream",
     "text": [
      "stat_fun(H1): min=2.469534 max=41.924578\n",
      "Running initial clustering\n",
      "Found 6 clusters\n",
      "Permuting 1023 times...\n",
      "[...................................     ] 87.84314 \\    "
     ]
    },
    {
     "name": "stderr",
     "output_type": "stream",
     "text": [
      "[Parallel(n_jobs=4)]: Done   2 out of   4 | elapsed:  1.2min remaining:  1.2min\n"
     ]
    },
    {
     "name": "stdout",
     "output_type": "stream",
     "text": [
      "[....................................... ] 99.22481 |    Computing cluster p-values\n",
      "Done.\n"
     ]
    },
    {
     "name": "stderr",
     "output_type": "stream",
     "text": [
      "[Parallel(n_jobs=4)]: Done   4 out of   4 | elapsed:  1.3min remaining:    0.0s\n",
      "[Parallel(n_jobs=4)]: Done   4 out of   4 | elapsed:  1.3min finished\n"
     ]
    }
   ],
   "source": [
    "test_key = 'HER_0.0001'\n",
    "#X1 = stc.values.reshape((np.multiply(*stc.shape[0:2]),*stc.shape[2:]))\n",
    "X1 = stc.values.mean(axis=0)\n",
    "X2 = np.zeros(X1.shape)\n",
    "T_obs[test_key], clusters[test_key], cluster_pv[test_key], H0[test_key], mask[test_key] = cluster_perm_test(X1, X2, stat_file=stat_file, test_key=test_key, times=stc.time.values, vertices=vertno, connectivity=connectivity, paired=True, p_threshold=0.0001)"
   ]
  },
  {
   "cell_type": "code",
   "execution_count": 31,
   "metadata": {},
   "outputs": [],
   "source": [
    "X1 = stc.values.mean(axis=0)"
   ]
  },
  {
   "cell_type": "code",
   "execution_count": 39,
   "metadata": {},
   "outputs": [
    {
     "data": {
      "text/plain": [
       "(34, 30, 20484)"
      ]
     },
     "execution_count": 39,
     "metadata": {},
     "output_type": "execute_result"
    }
   ],
   "source": [
    "X1.shape"
   ]
  },
  {
   "cell_type": "markdown",
   "metadata": {},
   "source": [
    "# States tests"
   ]
  },
  {
   "cell_type": "code",
   "execution_count": 8,
   "metadata": {},
   "outputs": [
    {
     "name": "stdout",
     "output_type": "stream",
     "text": [
      "stat_fun(H1): min=-4.642901 max=2.570693\n",
      "Running initial clustering\n",
      "Found 184 clusters\n",
      "Permuting 1023 times...\n",
      "[..................................      ] 86.82171 \\    "
     ]
    },
    {
     "name": "stderr",
     "output_type": "stream",
     "text": [
      "[Parallel(n_jobs=4)]: Done   2 out of   4 | elapsed:   56.7s remaining:   56.7s\n"
     ]
    },
    {
     "name": "stdout",
     "output_type": "stream",
     "text": [
      "[....................................... ] 99.22481 |    Computing cluster p-values\n",
      "Done.\n"
     ]
    },
    {
     "name": "stderr",
     "output_type": "stream",
     "text": [
      "[Parallel(n_jobs=4)]: Done   4 out of   4 | elapsed:  1.0min remaining:    0.0s\n",
      "[Parallel(n_jobs=4)]: Done   4 out of   4 | elapsed:  1.0min finished\n"
     ]
    },
    {
     "name": "stdout",
     "output_type": "stream",
     "text": [
      "\t RS_vs_FA 64.38751129101729 \n",
      "\t*****\n",
      "\n",
      "stat_fun(H1): min=-5.721215 max=3.715569\n",
      "Running initial clustering\n",
      "Found 490 clusters\n",
      "Permuting 1023 times...\n",
      "[....................................... ] 99.22481 |    "
     ]
    },
    {
     "name": "stderr",
     "output_type": "stream",
     "text": [
      "[Parallel(n_jobs=4)]: Done   2 out of   4 | elapsed:  1.0min remaining:  1.0min\n"
     ]
    },
    {
     "name": "stdout",
     "output_type": "stream",
     "text": [
      "Computing cluster p-values\n",
      "Done.\n"
     ]
    },
    {
     "name": "stderr",
     "output_type": "stream",
     "text": [
      "[Parallel(n_jobs=4)]: Done   4 out of   4 | elapsed:  1.0min remaining:    0.0s\n",
      "[Parallel(n_jobs=4)]: Done   4 out of   4 | elapsed:  1.0min finished\n"
     ]
    },
    {
     "name": "stdout",
     "output_type": "stream",
     "text": [
      "\t RS_vs_OM 63.96520507399691 \n",
      "\t*****\n",
      "\n",
      "stat_fun(H1): min=-4.643638 max=5.272547\n",
      "Running initial clustering\n",
      "Found 556 clusters\n",
      "Permuting 1023 times...\n",
      "[..................................      ] 86.82171 \\    "
     ]
    },
    {
     "name": "stderr",
     "output_type": "stream",
     "text": [
      "[Parallel(n_jobs=4)]: Done   2 out of   4 | elapsed:  1.4min remaining:  1.4min\n"
     ]
    },
    {
     "name": "stdout",
     "output_type": "stream",
     "text": [
      "[....................................... ] 99.22481 |    Computing cluster p-values\n",
      "Done.\n"
     ]
    },
    {
     "name": "stderr",
     "output_type": "stream",
     "text": [
      "[Parallel(n_jobs=4)]: Done   4 out of   4 | elapsed:  1.6min remaining:    0.0s\n",
      "[Parallel(n_jobs=4)]: Done   4 out of   4 | elapsed:  1.6min finished\n"
     ]
    },
    {
     "name": "stdout",
     "output_type": "stream",
     "text": [
      "\t OM_vs_FA 97.41851306898752 \n",
      "\t*****\n",
      "\n",
      "stat_fun(H1): min=-6.468375 max=8.177611\n",
      "Running initial clustering\n",
      "Found 539 clusters\n",
      "Permuting 1023 times...\n",
      "[..................................      ] 86.82171 \\    "
     ]
    },
    {
     "name": "stderr",
     "output_type": "stream",
     "text": [
      "[Parallel(n_jobs=4)]: Done   2 out of   4 | elapsed:   57.4s remaining:   57.4s\n"
     ]
    },
    {
     "name": "stdout",
     "output_type": "stream",
     "text": [
      "[....................................... ] 99.22481 |    Computing cluster p-values\n",
      "Done.\n"
     ]
    },
    {
     "name": "stderr",
     "output_type": "stream",
     "text": [
      "[Parallel(n_jobs=4)]: Done   4 out of   4 | elapsed:  1.0min remaining:    0.0s\n",
      "[Parallel(n_jobs=4)]: Done   4 out of   4 | elapsed:  1.0min finished\n"
     ]
    },
    {
     "name": "stdout",
     "output_type": "stream",
     "text": [
      "\t RS_vs_FA+E 63.933461653010454 \n",
      "\t*****\n",
      "\n",
      "stat_fun(H1): min=-6.759999 max=7.690943\n",
      "Running initial clustering\n",
      "Found 832 clusters\n",
      "Permuting 1023 times...\n",
      "[...................................     ] 87.84314 \\    "
     ]
    },
    {
     "name": "stderr",
     "output_type": "stream",
     "text": [
      "[Parallel(n_jobs=4)]: Done   2 out of   4 | elapsed:  1.2min remaining:  1.2min\n"
     ]
    },
    {
     "name": "stdout",
     "output_type": "stream",
     "text": [
      "[....................................... ] 99.22481 |    Computing cluster p-values\n",
      "Done.\n"
     ]
    },
    {
     "name": "stderr",
     "output_type": "stream",
     "text": [
      "[Parallel(n_jobs=4)]: Done   4 out of   4 | elapsed:  1.3min remaining:    0.0s\n",
      "[Parallel(n_jobs=4)]: Done   4 out of   4 | elapsed:  1.3min finished\n"
     ]
    },
    {
     "name": "stdout",
     "output_type": "stream",
     "text": [
      "\t RS_vs_OM+E 76.6074186550104 \n",
      "\t*****\n",
      "\n",
      "stat_fun(H1): min=-7.063448 max=6.522130\n",
      "Running initial clustering\n",
      "Found 689 clusters\n",
      "Permuting 1023 times...\n",
      "[....................................... ] 99.22481 |    "
     ]
    },
    {
     "name": "stderr",
     "output_type": "stream",
     "text": [
      "[Parallel(n_jobs=4)]: Done   2 out of   4 | elapsed:  1.0min remaining:  1.0min\n"
     ]
    },
    {
     "name": "stdout",
     "output_type": "stream",
     "text": [
      "Computing cluster p-values\n",
      "Done.\n"
     ]
    },
    {
     "name": "stderr",
     "output_type": "stream",
     "text": [
      "[Parallel(n_jobs=4)]: Done   4 out of   4 | elapsed:  1.1min remaining:    0.0s\n",
      "[Parallel(n_jobs=4)]: Done   4 out of   4 | elapsed:  1.1min finished\n"
     ]
    },
    {
     "name": "stdout",
     "output_type": "stream",
     "text": [
      "\t OM_vs_FA+E 65.07330611202633 \n",
      "\t*****\n",
      "\n",
      "stat_fun(H1): min=-5.089420 max=2.848012\n",
      "Running initial clustering\n",
      "Found 222 clusters\n",
      "Permuting 1023 times...\n",
      "[..................................      ] 86.82171 \\    "
     ]
    },
    {
     "name": "stderr",
     "output_type": "stream",
     "text": [
      "[Parallel(n_jobs=4)]: Done   2 out of   4 | elapsed:   43.8s remaining:   43.8s\n"
     ]
    },
    {
     "name": "stdout",
     "output_type": "stream",
     "text": [
      "[....................................... ] 99.22481 |    Computing cluster p-values\n",
      "Done.\n"
     ]
    },
    {
     "name": "stderr",
     "output_type": "stream",
     "text": [
      "[Parallel(n_jobs=4)]: Done   4 out of   4 | elapsed:   49.0s remaining:    0.0s\n",
      "[Parallel(n_jobs=4)]: Done   4 out of   4 | elapsed:   49.0s finished\n"
     ]
    },
    {
     "name": "stdout",
     "output_type": "stream",
     "text": [
      "\t RS_vs_FA+N 50.41583353700116 \n",
      "\t*****\n",
      "\n",
      "stat_fun(H1): min=-5.653122 max=3.932757\n",
      "Running initial clustering\n",
      "Found 443 clusters\n",
      "Permuting 1023 times...\n",
      "[..................................      ] 86.82171 \\    "
     ]
    },
    {
     "name": "stderr",
     "output_type": "stream",
     "text": [
      "[Parallel(n_jobs=4)]: Done   2 out of   4 | elapsed:   47.9s remaining:   47.9s\n"
     ]
    },
    {
     "name": "stdout",
     "output_type": "stream",
     "text": [
      "[....................................... ] 99.22481 |    Computing cluster p-values\n",
      "Done.\n"
     ]
    },
    {
     "name": "stderr",
     "output_type": "stream",
     "text": [
      "[Parallel(n_jobs=4)]: Done   4 out of   4 | elapsed:   52.5s remaining:    0.0s\n",
      "[Parallel(n_jobs=4)]: Done   4 out of   4 | elapsed:   52.5s finished\n"
     ]
    },
    {
     "name": "stdout",
     "output_type": "stream",
     "text": [
      "\t RS_vs_OM+N 54.084734240022954 \n",
      "\t*****\n",
      "\n",
      "stat_fun(H1): min=-5.174012 max=5.556766\n",
      "Running initial clustering\n",
      "Found 701 clusters\n",
      "Permuting 1023 times...\n",
      "[..................................      ] 86.82171 \\    "
     ]
    },
    {
     "name": "stderr",
     "output_type": "stream",
     "text": [
      "[Parallel(n_jobs=4)]: Done   2 out of   4 | elapsed:  1.3min remaining:  1.3min\n"
     ]
    },
    {
     "name": "stdout",
     "output_type": "stream",
     "text": [
      "[....................................... ] 99.22481 |    Computing cluster p-values\n",
      "Done.\n"
     ]
    },
    {
     "name": "stderr",
     "output_type": "stream",
     "text": [
      "[Parallel(n_jobs=4)]: Done   4 out of   4 | elapsed:  1.5min remaining:    0.0s\n",
      "[Parallel(n_jobs=4)]: Done   4 out of   4 | elapsed:  1.5min finished\n"
     ]
    },
    {
     "name": "stdout",
     "output_type": "stream",
     "text": [
      "\t OM_vs_FA+N 88.71092273900285 \n",
      "\t*****\n",
      "\n",
      "stat_fun(H1): min=0.000000 max=13.985115\n",
      "Running initial clustering\n",
      "Found 150 clusters\n",
      "Permuting 1023 times...\n",
      "[...................................     ] 87.84314 \\    "
     ]
    },
    {
     "name": "stderr",
     "output_type": "stream",
     "text": [
      "[Parallel(n_jobs=4)]: Done   2 out of   4 | elapsed:  2.8min remaining:  2.8min\n"
     ]
    },
    {
     "name": "stdout",
     "output_type": "stream",
     "text": [
      "[....................................... ] 99.22481 |    Computing cluster p-values\n",
      "Done.\n"
     ]
    },
    {
     "name": "stderr",
     "output_type": "stream",
     "text": [
      "[Parallel(n_jobs=4)]: Done   4 out of   4 | elapsed:  3.3min remaining:    0.0s\n",
      "[Parallel(n_jobs=4)]: Done   4 out of   4 | elapsed:  3.3min finished\n"
     ]
    },
    {
     "name": "stdout",
     "output_type": "stream",
     "text": [
      "\t N_vs_E+RS 201.91262290201848 \n",
      "\t*****\n",
      "\n",
      "stat_fun(H1): min=0.000000 max=23.774045\n",
      "Running initial clustering\n",
      "Found 1282 clusters\n",
      "Permuting 1023 times...\n",
      "[...................................     ] 87.84314 \\    "
     ]
    },
    {
     "name": "stderr",
     "output_type": "stream",
     "text": [
      "[Parallel(n_jobs=4)]: Done   2 out of   4 | elapsed:  4.4min remaining:  4.4min\n"
     ]
    },
    {
     "name": "stdout",
     "output_type": "stream",
     "text": [
      "[....................................... ] 99.22481 |    Computing cluster p-values\n",
      "Done.\n"
     ]
    },
    {
     "name": "stderr",
     "output_type": "stream",
     "text": [
      "[Parallel(n_jobs=4)]: Done   4 out of   4 | elapsed:  4.8min remaining:    0.0s\n",
      "[Parallel(n_jobs=4)]: Done   4 out of   4 | elapsed:  4.8min finished\n"
     ]
    },
    {
     "name": "stdout",
     "output_type": "stream",
     "text": [
      "\t N_vs_E+FA 292.07834383798763 \n",
      "\t*****\n",
      "\n",
      "stat_fun(H1): min=0.000000 max=33.512572\n",
      "Running initial clustering\n",
      "Found 1148 clusters\n",
      "Permuting 1023 times...\n",
      "[..................................      ] 86.82171 \\    "
     ]
    },
    {
     "name": "stderr",
     "output_type": "stream",
     "text": [
      "[Parallel(n_jobs=4)]: Done   2 out of   4 | elapsed:  5.1min remaining:  5.1min\n"
     ]
    },
    {
     "name": "stdout",
     "output_type": "stream",
     "text": [
      "[....................................... ] 99.22481 |    Computing cluster p-values\n"
     ]
    },
    {
     "name": "stderr",
     "output_type": "stream",
     "text": [
      "[Parallel(n_jobs=4)]: Done   4 out of   4 | elapsed:  5.6min remaining:    0.0s\n",
      "[Parallel(n_jobs=4)]: Done   4 out of   4 | elapsed:  5.6min finished\n"
     ]
    },
    {
     "name": "stdout",
     "output_type": "stream",
     "text": [
      "Done.\n",
      "\t N_vs_E+OM 336.7841541939997 \n",
      "\t*****\n",
      "\n",
      "stat_fun(H1): min=0.000000 max=16.179344\n",
      "Running initial clustering\n",
      "Found 769 clusters\n",
      "Permuting 1023 times...\n",
      "[....................................... ] 99.22481 |    "
     ]
    },
    {
     "name": "stderr",
     "output_type": "stream",
     "text": [
      "[Parallel(n_jobs=4)]: Done   2 out of   4 | elapsed:  2.9min remaining:  2.9min\n"
     ]
    },
    {
     "name": "stdout",
     "output_type": "stream",
     "text": [
      "[...................................     ] 87.84314 \\    Computing cluster p-values\n",
      "Done.\n"
     ]
    },
    {
     "name": "stderr",
     "output_type": "stream",
     "text": [
      "[Parallel(n_jobs=4)]: Done   4 out of   4 | elapsed:  3.3min remaining:    0.0s\n",
      "[Parallel(n_jobs=4)]: Done   4 out of   4 | elapsed:  3.3min finished\n"
     ]
    },
    {
     "name": "stdout",
     "output_type": "stream",
     "text": [
      "\t N_vs_E+FA-RS 202.44570423901314 \n",
      "\t*****\n",
      "\n",
      "stat_fun(H1): min=0.000000 max=20.077788\n",
      "Running initial clustering\n",
      "Found 975 clusters\n",
      "Permuting 1023 times...\n",
      "[....................................... ] 99.22481 |    "
     ]
    },
    {
     "name": "stderr",
     "output_type": "stream",
     "text": [
      "[Parallel(n_jobs=4)]: Done   2 out of   4 | elapsed:  3.2min remaining:  3.2min\n"
     ]
    },
    {
     "name": "stdout",
     "output_type": "stream",
     "text": [
      "Computing cluster p-values\n",
      "Done.\n"
     ]
    },
    {
     "name": "stderr",
     "output_type": "stream",
     "text": [
      "[Parallel(n_jobs=4)]: Done   4 out of   4 | elapsed:  3.3min remaining:    0.0s\n",
      "[Parallel(n_jobs=4)]: Done   4 out of   4 | elapsed:  3.3min finished\n"
     ]
    },
    {
     "name": "stdout",
     "output_type": "stream",
     "text": [
      "\t N_vs_E+OM-RS 202.04769594501704 \n",
      "\t*****\n",
      "\n",
      "stat_fun(H1): min=0.000000 max=32.386366\n",
      "Running initial clustering\n",
      "Found 1792 clusters\n",
      "Permuting 1023 times...\n",
      "[..................................      ] 86.82171 \\    "
     ]
    },
    {
     "name": "stderr",
     "output_type": "stream",
     "text": [
      "[Parallel(n_jobs=4)]: Done   2 out of   4 | elapsed:  5.2min remaining:  5.2min\n"
     ]
    },
    {
     "name": "stdout",
     "output_type": "stream",
     "text": [
      "[....................................... ] 99.22481 |    Computing cluster p-values\n"
     ]
    },
    {
     "name": "stderr",
     "output_type": "stream",
     "text": [
      "[Parallel(n_jobs=4)]: Done   4 out of   4 | elapsed:  5.8min remaining:    0.0s\n",
      "[Parallel(n_jobs=4)]: Done   4 out of   4 | elapsed:  5.8min finished\n"
     ]
    },
    {
     "name": "stdout",
     "output_type": "stream",
     "text": [
      "Done.\n",
      "\t N_vs_E+FA-OM 348.03746056801174 \n",
      "\t*****\n",
      "\n",
      "\n",
      "*****\n",
      "Total running time: 2207.910186122055\n"
     ]
    }
   ],
   "source": [
    "t0 = time.perf_counter()\n",
    "ti = t0\n",
    "test_key = 'RS_vs_FA'\n",
    "T_obs[test_key], clusters[test_key], cluster_pv[test_key], H0[test_key], mask[test_key] = cluster_perm_test(stc.loc['RS',:,start:stop].values, stc.loc['FA',:,start:stop].values, stat_file=stat_file, test_key=test_key, times=stc.time.loc[start:stop], vertices=vertno, connectivity=connectivity, paired=True)\n",
    "print('\\t',test_key, time.perf_counter()-ti,'\\n\\t*****\\n')\n",
    "ti = time.perf_counter()\n",
    "\n",
    "test_key = 'RS_vs_OM'\n",
    "T_obs[test_key], clusters[test_key], cluster_pv[test_key], H0[test_key], mask[test_key] = cluster_perm_test(stc.loc['RS',:,start:stop].values, stc.loc['OM',:,start:stop].values, stat_file=stat_file, test_key=test_key, times=stc.time.loc[start:stop], vertices=vertno, connectivity=connectivity, paired=True)\n",
    "print('\\t',test_key, time.perf_counter()-ti,'\\n\\t*****\\n')\n",
    "ti = time.perf_counter()\n",
    "\n",
    "test_key = 'OM_vs_FA'\n",
    "T_obs[test_key], clusters[test_key], cluster_pv[test_key], H0[test_key], mask[test_key] = cluster_perm_test(stc.loc['OM',:,start:stop].values, stc.loc['FA',:,start:stop].values, stat_file=stat_file, test_key=test_key, times=stc.time.loc[start:stop], vertices=vertno, connectivity=connectivity, paired=True)\n",
    "print('\\t',test_key, time.perf_counter()-ti,'\\n\\t*****\\n')\n",
    "ti = time.perf_counter()\n",
    "\n",
    "test_key = 'RS_vs_FA+E'\n",
    "T_obs[test_key], clusters[test_key], cluster_pv[test_key], H0[test_key], mask[test_key] = cluster_perm_test(stc.loc['RS',experts,start:stop].values, stc.loc['FA',experts,start:stop].values, stat_file=stat_file, test_key=test_key, times=stc.time.loc[start:stop], vertices=vertno, connectivity=connectivity, paired=True)\n",
    "print('\\t',test_key, time.perf_counter()-ti,'\\n\\t*****\\n')\n",
    "ti = time.perf_counter()\n",
    "\n",
    "test_key = 'RS_vs_OM+E'\n",
    "T_obs[test_key], clusters[test_key], cluster_pv[test_key], H0[test_key], mask[test_key] = cluster_perm_test(stc.loc['RS',experts,start:stop].values, stc.loc['OM',experts,start:stop].values, stat_file=stat_file, test_key=test_key, times=stc.time.loc[start:stop], vertices=vertno, connectivity=connectivity, paired=True)\n",
    "print('\\t',test_key, time.perf_counter()-ti,'\\n\\t*****\\n')\n",
    "ti = time.perf_counter()\n",
    "\n",
    "test_key = 'OM_vs_FA+E'\n",
    "T_obs[test_key], clusters[test_key], cluster_pv[test_key], H0[test_key], mask[test_key] = cluster_perm_test(stc.loc['OM',experts,start:stop].values, stc.loc['FA',experts,start:stop].values, stat_file=stat_file, test_key=test_key, times=stc.time.loc[start:stop], vertices=vertno, connectivity=connectivity, paired=True)\n",
    "print('\\t',test_key, time.perf_counter()-ti,'\\n\\t*****\\n')\n",
    "ti = time.perf_counter()\n",
    "\n",
    "test_key = 'RS_vs_FA+N'\n",
    "T_obs[test_key], clusters[test_key], cluster_pv[test_key], H0[test_key], mask[test_key] = cluster_perm_test(stc.loc['RS',novices,start:stop].values, stc.loc['FA',novices,start:stop].values, stat_file=stat_file, test_key=test_key, times=stc.time.loc[start:stop], vertices=vertno, connectivity=connectivity, paired=True)\n",
    "print('\\t',test_key, time.perf_counter()-ti,'\\n\\t*****\\n')\n",
    "ti = time.perf_counter()\n",
    "\n",
    "test_key = 'RS_vs_OM+N'\n",
    "T_obs[test_key], clusters[test_key], cluster_pv[test_key], H0[test_key], mask[test_key] = cluster_perm_test(stc.loc['RS',novices,start:stop].values, stc.loc['OM',novices,start:stop].values, stat_file=stat_file, test_key=test_key, times=stc.time.loc[start:stop], vertices=vertno, connectivity=connectivity, paired=True)\n",
    "print('\\t',test_key, time.perf_counter()-ti,'\\n\\t*****\\n')\n",
    "ti = time.perf_counter()\n",
    "\n",
    "test_key = 'OM_vs_FA+N'\n",
    "T_obs[test_key], clusters[test_key], cluster_pv[test_key], H0[test_key], mask[test_key] = cluster_perm_test(stc.loc['OM',novices,start:stop].values, stc.loc['FA',novices,start:stop].values, stat_file=stat_file, test_key=test_key, times=stc.time.loc[start:stop], vertices=vertno, connectivity=connectivity, paired=True)\n",
    "print('\\t',test_key, time.perf_counter()-ti,'\\n\\t*****\\n')\n",
    "ti = time.perf_counter()\n",
    "\n",
    "\n",
    "test_key = 'N_vs_E+RS'\n",
    "T_obs[test_key], clusters[test_key], cluster_pv[test_key], H0[test_key], mask[test_key] = cluster_perm_test(stc.loc['RS',novices,start:stop].values, stc.loc['RS',experts,start:stop].values, stat_file=stat_file, test_key=test_key, times=stc.time.loc[start:stop], vertices=vertno, connectivity=connectivity)\n",
    "print('\\t',test_key, time.perf_counter()-ti,'\\n\\t*****\\n')\n",
    "ti = time.perf_counter()\n",
    "\n",
    "test_key = 'N_vs_E+FA'\n",
    "T_obs[test_key], clusters[test_key], cluster_pv[test_key], H0[test_key], mask[test_key] = cluster_perm_test(stc.loc['FA',novices,start:stop].values, stc.loc['FA',experts,start:stop].values, stat_file=stat_file, test_key=test_key, times=stc.time.loc[start:stop], vertices=vertno, connectivity=connectivity)\n",
    "print('\\t',test_key, time.perf_counter()-ti,'\\n\\t*****\\n')\n",
    "ti = time.perf_counter()\n",
    "\n",
    "test_key = 'N_vs_E+OM'\n",
    "T_obs[test_key], clusters[test_key], cluster_pv[test_key], H0[test_key], mask[test_key] = cluster_perm_test(stc.loc['OM',novices,start:stop].values, stc.loc['OM',experts,start:stop].values, stat_file=stat_file, test_key=test_key, times=stc.time.loc[start:stop], vertices=vertno, connectivity=connectivity)\n",
    "print('\\t',test_key, time.perf_counter()-ti,'\\n\\t*****\\n')\n",
    "ti = time.perf_counter()\n",
    "\n",
    "test_key = 'N_vs_E+FA-RS'\n",
    "T_obs[test_key], clusters[test_key], cluster_pv[test_key], H0[test_key], mask[test_key] = cluster_perm_test(stc.loc['FA',novices,start:stop].values-stc.loc['RS',novices,start:stop].values, stc.loc['FA',experts,start:stop].values-stc.loc['RS',experts,start:stop].values, stat_file=stat_file, test_key=test_key, times=stc.time.loc[start:stop], vertices=vertno, connectivity=connectivity)\n",
    "print('\\t',test_key, time.perf_counter()-ti,'\\n\\t*****\\n')\n",
    "ti = time.perf_counter()\n",
    "\n",
    "test_key = 'N_vs_E+OM-RS'\n",
    "T_obs[test_key], clusters[test_key], cluster_pv[test_key], H0[test_key], mask[test_key] = cluster_perm_test(stc.loc['OM',novices,start:stop].values-stc.loc['RS',novices,start:stop].values, stc.loc['OM',experts,start:stop].values-stc.loc['RS',experts,start:stop].values, stat_file=stat_file, test_key=test_key, times=stc.time.loc[start:stop], vertices=vertno, connectivity=connectivity)\n",
    "print('\\t',test_key, time.perf_counter()-ti,'\\n\\t*****\\n')\n",
    "ti = time.perf_counter()\n",
    "\n",
    "test_key = 'N_vs_E+FA-OM'\n",
    "T_obs[test_key], clusters[test_key], cluster_pv[test_key], H0[test_key], mask[test_key] = cluster_perm_test(stc.loc['FA',novices,start:stop].values-stc.loc['OM',novices,start:stop].values, stc.loc['FA',experts,start:stop].values-stc.loc['OM',experts,start:stop].values, stat_file=stat_file, test_key=test_key, times=stc.time.loc[start:stop], vertices=vertno, connectivity=connectivity)\n",
    "print('\\t',test_key, time.perf_counter()-ti,'\\n\\t*****\\n')\n",
    "ti = time.perf_counter()\n",
    "\n",
    "\n",
    "T = ti - t0\n",
    "print('\\n*****\\nTotal running time:', T)"
   ]
  },
  {
   "cell_type": "code",
   "execution_count": null,
   "metadata": {},
   "outputs": [],
   "source": []
  },
  {
   "cell_type": "code",
   "execution_count": 4,
   "metadata": {},
   "outputs": [],
   "source": [
    "names = ['T_ECG_included', 'T_ECG_excluded']#'R_ECG_included', 'R_ECG_excluded', \n",
    "name = names[1]\n",
    "noise_cov = 'empty_room_cov'\n",
    "sfreq = 200\n",
    "win = (-.175,-.075)#(.1,.2)\n",
    "surface = 'ico4'\n",
    "\n",
    "stc = dict()\n",
    "for i,w in enumerate([(-.175,-.075),(.1,.2)]):\n",
    "    data_file = op.join(Analysis_path, task, 'meg', 'SourceEstimate', 'fsaverage', 'DATASET-{}-surface_{}-{}_{}-{}Hz.nc'.format(noise_cov, surface, *w, sfreq))\n",
    "    stc[i] = xr.open_dataarray(data_file, name)\n",
    "    stc[i].load()"
   ]
  },
  {
   "cell_type": "code",
   "execution_count": 24,
   "metadata": {},
   "outputs": [],
   "source": [
    "T_obs=dict(); clusters=dict(); cluster_pv=dict(); H0=dict(); clu=dict()\n",
    "vertno = np.arange(stc[0].shape[-1]/2, dtype=int)\n",
    "\n",
    "stat_path = op.join(Analysis_path, task, 'meg', 'Stats', 'baseline')\n",
    "os.makedirs(stat_path, exist_ok=True)\n",
    "stat_file = op.join(stat_path, '{}-{}-surface_{}-{}Hz-baseline.nc'.format(name, noise_cov, surface, sfreq))"
   ]
  },
  {
   "cell_type": "code",
   "execution_count": null,
   "metadata": {},
   "outputs": [],
   "source": [
    "test_key = 'RS'\n",
    "T_obs[test_key], clusters[test_key], cluster_pv[test_key], H0[test_key] = clu[test_key] = cluster_perm_test(stc[1].loc['RS'].values, stc[0].loc['RS'].values, stat_file=stat_file, test_key=test_key, times=stc[0].time, vertices=vertno, connectivity=connectivity, paired=True)\n",
    "test_key = 'FA'\n",
    "T_obs[test_key], clusters[test_key], cluster_pv[test_key], H0[test_key] = clu[test_key] = cluster_perm_test(stc[1].loc['FA'].values, stc[0].loc['FA'].values, stat_file=stat_file, test_key=test_key, times=stc[0].time, vertices=vertno, connectivity=connectivity, paired=True)\n",
    "test_key = 'OM'\n",
    "T_obs[test_key], clusters[test_key], cluster_pv[test_key], H0[test_key] = clu[test_key] = cluster_perm_test(stc[1].loc['OM'].values, stc[0].loc['OM'].values, stat_file=stat_file, test_key=test_key, times=stc[0].time, vertices=vertno, connectivity=connectivity, paired=True)\n"
   ]
  },
  {
   "cell_type": "code",
   "execution_count": 23,
   "metadata": {},
   "outputs": [],
   "source": [
    "def cluster_perm_test1(X1, X2, stat_file, test_key, times=None, vertices=None, mode='a', connectivity='ico5', paired=False):\n",
    "    \"\"\"\n",
    "    If paired, test X1-X2.\n",
    "    Input: arrays of shape (subjects, time, space)\n",
    "    \"\"\"\n",
    "    if not isinstance(X2, (np.ndarray, xr.DataArray)):\n",
    "        X2 = np.zeros(X1.shape)\n",
    "    \n",
    "    if type(connectivity) is str:\n",
    "        connectivity = mne.spatial_tris_connectivity(mne.grade_to_tris(int(connectivity[-1])))\n",
    "    \n",
    "    if paired:\n",
    "        X = X1 - X2\n",
    "        T_obs, clusters, cluster_pv, H0 = permutation_cluster_1samp_test(X, connectivity=connectivity, n_jobs=4)\n",
    "    else:\n",
    "        T_obs, clusters, cluster_pv, H0 = permutation_cluster_test([X1,X2], connectivity=connectivity, n_jobs=4)\n",
    "    \n",
    "    p_val = np.ones(T_obs.shape)\n",
    "    clu_inds = np.zeros(T_obs.shape)\n",
    "    \n",
    "    for c,clu in enumerate(clusters):\n",
    "        p_val[clu] = cluster_pv[c]\n",
    "        clu_inds[clu] = c+1\n",
    "    \n",
    "    if times is not None:\n",
    "        stats = np.zeros((3, *T_obs.shape))\n",
    "        stats = xr.DataArray(stats, dims=['data', 'hemisphere', 'time'], coords={'data':['T_stat', 'p_val', 'clu_inds'], 'hemisphere':['left', 'right'], 'time':times})\n",
    "        stats.loc['T_stat'] = T_obs\n",
    "        stats.loc['p_val'] = p_val\n",
    "        stats.loc['clu_inds'] = clu_inds\n",
    "    \n",
    "    if vertices is not None:\n",
    "        stats = np.zeros((3, 2, len(vertices)))\n",
    "        stats = xr.DataArray(stats, dims=['data', 'hemisphere', 'src'], coords={'data':['T_stat', 'p_val', 'clu_inds'], 'hemisphere':['left', 'right'], 'src':vertices})\n",
    "        for h,hemi in enumerate(['left', 'right']):\n",
    "            i = h + 1\n",
    "            h *= len(vertices)\n",
    "            i *= len(vertices)\n",
    "            stats.loc['T_stat', hemi] = T_obs[h:i]\n",
    "            stats.loc['p_val', hemi] = p_val[h:i]\n",
    "            stats.loc['clu_inds', hemi] = clu_inds[h:i]\n",
    "    \n",
    "    os.makedirs(op.split(stat_file)[0], exist_ok=True)\n",
    "    if not op.isfile(stat_file):\n",
    "        mode = 'w'\n",
    "    \n",
    "    stats.to_netcdf(path=stat_file, group=test_key, mode=mode)\n",
    "    \n",
    "    return T_obs, clusters, cluster_pv, H0"
   ]
  },
  {
   "cell_type": "code",
   "execution_count": 27,
   "metadata": {},
   "outputs": [
    {
     "name": "stdout",
     "output_type": "stream",
     "text": [
      "Using a threshold of 2.034515\n",
      "stat_fun(H1): min=-4.642396 max=2.534674\n",
      "Running initial clustering\n",
      "Found 139 clusters\n",
      "Permuting 1023 times...\n",
      "[........................................................... ] 99.22%  |   "
     ]
    },
    {
     "name": "stderr",
     "output_type": "stream",
     "text": [
      "[Parallel(n_jobs=4)]: Done   2 out of   4 | elapsed:  1.2min remaining:  1.2min\n"
     ]
    },
    {
     "name": "stdout",
     "output_type": "stream",
     "text": [
      "Computing cluster p-values\n",
      "Done.\n"
     ]
    },
    {
     "name": "stderr",
     "output_type": "stream",
     "text": [
      "[Parallel(n_jobs=4)]: Done   4 out of   4 | elapsed:  1.2min remaining:    0.0s\n",
      "[Parallel(n_jobs=4)]: Done   4 out of   4 | elapsed:  1.2min finished\n"
     ]
    },
    {
     "name": "stdout",
     "output_type": "stream",
     "text": [
      "Using a threshold of 2.034515\n",
      "stat_fun(H1): min=-5.524574 max=2.582809\n",
      "Running initial clustering\n",
      "Found 139 clusters\n",
      "Permuting 1023 times...\n",
      "[........................................................... ] 99.22%  |   "
     ]
    },
    {
     "name": "stderr",
     "output_type": "stream",
     "text": [
      "[Parallel(n_jobs=4)]: Done   2 out of   4 | elapsed:  1.2min remaining:  1.2min\n"
     ]
    },
    {
     "name": "stdout",
     "output_type": "stream",
     "text": [
      "Computing cluster p-values\n",
      "Done.\n"
     ]
    },
    {
     "name": "stderr",
     "output_type": "stream",
     "text": [
      "[Parallel(n_jobs=4)]: Done   4 out of   4 | elapsed:  1.2min remaining:    0.0s\n",
      "[Parallel(n_jobs=4)]: Done   4 out of   4 | elapsed:  1.2min finished\n"
     ]
    },
    {
     "name": "stdout",
     "output_type": "stream",
     "text": [
      "Using a threshold of 2.034515\n",
      "stat_fun(H1): min=-4.250256 max=3.002946\n",
      "Running initial clustering\n",
      "Found 177 clusters\n",
      "Permuting 1023 times...\n",
      "[........................................................... ] 99.22%  |   "
     ]
    },
    {
     "name": "stderr",
     "output_type": "stream",
     "text": [
      "[Parallel(n_jobs=4)]: Done   2 out of   4 | elapsed:  1.2min remaining:  1.2min\n"
     ]
    },
    {
     "name": "stdout",
     "output_type": "stream",
     "text": [
      "Computing cluster p-values\n",
      "Done.\n"
     ]
    },
    {
     "name": "stderr",
     "output_type": "stream",
     "text": [
      "[Parallel(n_jobs=4)]: Done   4 out of   4 | elapsed:  1.2min remaining:    0.0s\n",
      "[Parallel(n_jobs=4)]: Done   4 out of   4 | elapsed:  1.2min finished\n"
     ]
    }
   ],
   "source": [
    "test_key = 'RS_t_avg'\n",
    "T_obs[test_key], clusters[test_key], cluster_pv[test_key], H0[test_key] = clu[test_key] = cluster_perm_test1(stc[1].loc['RS'].mean(dim='time').values, stc[0].loc['RS'].mean(dim='time').values, stat_file=stat_file, test_key=test_key, vertices=vertno, connectivity=connectivity, paired=True)\n",
    "test_key = 'FA_t_avg'\n",
    "T_obs[test_key], clusters[test_key], cluster_pv[test_key], H0[test_key] = clu[test_key] = cluster_perm_test1(stc[1].loc['FA'].mean(dim='time').values, stc[0].loc['FA'].mean(dim='time').values, stat_file=stat_file, test_key=test_key, vertices=vertno, connectivity=connectivity, paired=True)\n",
    "test_key = 'OM_t_avg'\n",
    "T_obs[test_key], clusters[test_key], cluster_pv[test_key], H0[test_key] = clu[test_key] = cluster_perm_test1(stc[1].loc['OM'].mean(dim='time').values, stc[0].loc['OM'].mean(dim='time').values, stat_file=stat_file, test_key=test_key, vertices=vertno, connectivity=connectivity, paired=True)\n"
   ]
  },
  {
   "cell_type": "code",
   "execution_count": null,
   "metadata": {},
   "outputs": [],
   "source": [
    "test_key = 'RS_avg'\n",
    "T_obs[test_key], clusters[test_key], cluster_pv[test_key], H0[test_key] = clu[test_key] = mne.stats.permutation_cluster_1samp_test(stc[1].loc['RS'].mean(dim='time').values - stc[0].loc['RS'].mean(dim='time').values, connectivity=connectivity, n_jobs=4)\n",
    "test_key = 'FA_avg'\n",
    "T_obs[test_key], clusters[test_key], cluster_pv[test_key], H0[test_key] = clu[test_key] = mne.stats.permutation_cluster_1samp_test(stc[1].loc['FA'].mean(dim='time').values - stc[0].loc['FA'].mean(dim='time').values, connectivity=connectivity, n_jobs=4)\n",
    "test_key = 'OM_avg'\n",
    "T_obs[test_key], clusters[test_key], cluster_pv[test_key], H0[test_key] = clu[test_key] = mne.stats.permutation_cluster_1samp_test(stc[1].loc['OM'].mean(dim='time').values - stc[0].loc['OM'].mean(dim='time').values, connectivity=connectivity, n_jobs=4)\n"
   ]
  },
  {
   "cell_type": "code",
   "execution_count": 15,
   "metadata": {},
   "outputs": [
    {
     "data": {
      "text/plain": [
       "<xarray.DataArray (subject: 34, time: 20, src: 20484)>\n",
       "array([[[ 2.008773,  2.415848, ...,  3.622698,  3.64611 ],\n",
       "        [ 2.621764,  1.310435, ...,  1.530294,  1.259914],\n",
       "        ...,\n",
       "        [ 3.962548,  1.117905, ...,  1.488668,  1.574307],\n",
       "        [ 4.025879,  1.885759, ...,  1.656659,  1.290358]],\n",
       "\n",
       "       [[ 4.133355,  0.232459, ...,  1.052002,  0.278649],\n",
       "        [ 2.540437,  0.676301, ...,  1.966223,  2.014599],\n",
       "        ...,\n",
       "        [ 1.747391,  1.61533 , ...,  0.507072,  0.705719],\n",
       "        [ 1.883386,  1.496186, ...,  1.206225,  1.12366 ]],\n",
       "\n",
       "       ...,\n",
       "\n",
       "       [[10.341312,  1.209733, ..., 10.001292, 13.398304],\n",
       "        [ 5.835235,  2.712691, ...,  9.20078 , 11.161971],\n",
       "        ...,\n",
       "        [ 3.612529,  0.464087, ...,  5.773848,  5.331923],\n",
       "        [ 4.28245 ,  0.745975, ...,  5.716484,  5.330768]],\n",
       "\n",
       "       [[ 1.972293,  3.949046, ...,  2.781159,  2.492463],\n",
       "        [ 2.52077 ,  4.748508, ...,  3.543824,  3.394486],\n",
       "        ...,\n",
       "        [ 4.166091,  0.753249, ...,  1.060799,  1.087189],\n",
       "        [ 4.014433,  0.360656, ...,  1.256087,  1.342975]]])\n",
       "Coordinates:\n",
       "  * subject  (subject) object '002' '004' '007' '010' '012' '014' '016' ...\n",
       "  * time     (time) float64 -0.175 -0.17 -0.165 -0.16 -0.155 -0.15 -0.145 ...\n",
       "  * src      (src) object 'lh_0' 'lh_1' 'lh_2' 'lh_3' 'lh_4' 'lh_5' 'lh_6' ...\n",
       "    state    <U2 'RS'"
      ]
     },
     "execution_count": 15,
     "metadata": {},
     "output_type": "execute_result"
    }
   ],
   "source": [
    "stc[0].loc['RS'].mean(dim='time')"
   ]
  }
 ],
 "metadata": {
  "kernelspec": {
   "display_name": "Python 3",
   "language": "python",
   "name": "python3"
  },
  "language_info": {
   "codemirror_mode": {
    "name": "ipython",
    "version": 3
   },
   "file_extension": ".py",
   "mimetype": "text/x-python",
   "name": "python",
   "nbconvert_exporter": "python",
   "pygments_lexer": "ipython3",
   "version": "3.5.2"
  },
  "toc": {
   "base_numbering": 1,
   "nav_menu": {},
   "number_sections": true,
   "sideBar": true,
   "skip_h1_title": false,
   "title_cell": "Table of Contents",
   "title_sidebar": "Contents",
   "toc_cell": false,
   "toc_position": {},
   "toc_section_display": true,
   "toc_window_display": false
  }
 },
 "nbformat": 4,
 "nbformat_minor": 2
}
